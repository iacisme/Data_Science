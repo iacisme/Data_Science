{
 "cells": [
  {
   "cell_type": "markdown",
   "id": "7031441e-d5fe-4b0b-9663-3fe4e4de2310",
   "metadata": {},
   "source": [
    "# <font style = \"color:rgb(125, 41, 243)\"> **The Iris Dataset - Notebook 3** </font>"
   ]
  },
  {
   "cell_type": "markdown",
   "id": "fa37f9eb-aabe-4d69-94ca-fe4e79881ec9",
   "metadata": {},
   "source": [
    "You need to install scikit-learn in order to run this notebook:"
   ]
  },
  {
   "cell_type": "code",
   "execution_count": null,
   "id": "cbdc51b4-60eb-42ac-9484-b9c334976431",
   "metadata": {},
   "outputs": [],
   "source": [
    "#!pip install scikit-learn"
   ]
  },
  {
   "cell_type": "markdown",
   "id": "a042767d-a2bc-4815-831f-18539bf6d24b",
   "metadata": {},
   "source": [
    "## <font style = \"color:rgb(125, 41, 243)\"> **Machine Learning** </font>"
   ]
  },
  {
   "cell_type": "markdown",
   "id": "aa6af992-e737-49e8-9808-9c754bdaf0d3",
   "metadata": {},
   "source": [
    "This notebooks uses the discoveries made during EDA, and apply them into creating a machine learing model."
   ]
  },
  {
   "cell_type": "code",
   "execution_count": 1,
   "id": "6e8a86b7-a1d2-42db-9eee-6e694450c32b",
   "metadata": {},
   "outputs": [],
   "source": [
    "import numpy as np\n",
    "\n",
    "import pandas as pd\n",
    "pd.options.plotting.backend = \"plotly\"\n",
    "\n",
    "import ipywidgets as widgets\n",
    "\n",
    "import plotly.express as px\n",
    "import plotly.figure_factory as ff"
   ]
  },
  {
   "cell_type": "code",
   "execution_count": 2,
   "id": "33860109-ff72-4636-a50b-2eb13b973b4e",
   "metadata": {},
   "outputs": [],
   "source": [
    "import time\n",
    "\n",
    "from sklearn.model_selection import train_test_split\n",
    "\n",
    "from sklearn.pipeline import make_pipeline\n",
    "\n",
    "from sklearn.preprocessing import LabelEncoder\n",
    "from sklearn.preprocessing import StandardScaler\n",
    "\n",
    "from sklearn.linear_model import LogisticRegression\n",
    "from sklearn.linear_model import SGDClassifier\n",
    "\n",
    "from sklearn.svm import SVC\n",
    "\n",
    "from sklearn.neighbors import KNeighborsClassifier\n",
    "\n",
    "from sklearn.tree import DecisionTreeClassifier\n",
    "\n",
    "from sklearn.experimental import enable_hist_gradient_boosting\n",
    "from sklearn.ensemble import HistGradientBoostingClassifier\n",
    "\n",
    "from sklearn.model_selection import cross_validate"
   ]
  },
  {
   "cell_type": "code",
   "execution_count": 3,
   "id": "51778ea5-6c99-4394-88ea-bc7765fb56f2",
   "metadata": {},
   "outputs": [],
   "source": [
    "# to display nice model diagram\n",
    "from sklearn import set_config\n",
    "\n",
    "set_config(display = 'diagram')"
   ]
  },
  {
   "cell_type": "code",
   "execution_count": 4,
   "id": "4c83b233-aeef-4360-836c-600991aeb30e",
   "metadata": {},
   "outputs": [],
   "source": [
    "# Download the dataset from a URL\n",
    "\n",
    "datasource_path = 'https://archive.ics.uci.edu/ml/machine-learning-databases/iris/iris.data'"
   ]
  },
  {
   "cell_type": "code",
   "execution_count": 7,
   "id": "9a1a56db-c81a-4e20-a12f-7b676b5d371c",
   "metadata": {},
   "outputs": [
    {
     "data": {
      "text/html": [
       "<div>\n",
       "<style scoped>\n",
       "    .dataframe tbody tr th:only-of-type {\n",
       "        vertical-align: middle;\n",
       "    }\n",
       "\n",
       "    .dataframe tbody tr th {\n",
       "        vertical-align: top;\n",
       "    }\n",
       "\n",
       "    .dataframe thead th {\n",
       "        text-align: right;\n",
       "    }\n",
       "</style>\n",
       "<table border=\"1\" class=\"dataframe\">\n",
       "  <thead>\n",
       "    <tr style=\"text-align: right;\">\n",
       "      <th></th>\n",
       "      <th>0</th>\n",
       "      <th>1</th>\n",
       "      <th>2</th>\n",
       "      <th>3</th>\n",
       "      <th>4</th>\n",
       "    </tr>\n",
       "  </thead>\n",
       "  <tbody>\n",
       "    <tr>\n",
       "      <th>0</th>\n",
       "      <td>5.1</td>\n",
       "      <td>3.5</td>\n",
       "      <td>1.4</td>\n",
       "      <td>0.2</td>\n",
       "      <td>Iris-setosa</td>\n",
       "    </tr>\n",
       "    <tr>\n",
       "      <th>1</th>\n",
       "      <td>4.9</td>\n",
       "      <td>3.0</td>\n",
       "      <td>1.4</td>\n",
       "      <td>0.2</td>\n",
       "      <td>Iris-setosa</td>\n",
       "    </tr>\n",
       "    <tr>\n",
       "      <th>2</th>\n",
       "      <td>4.7</td>\n",
       "      <td>3.2</td>\n",
       "      <td>1.3</td>\n",
       "      <td>0.2</td>\n",
       "      <td>Iris-setosa</td>\n",
       "    </tr>\n",
       "    <tr>\n",
       "      <th>3</th>\n",
       "      <td>4.6</td>\n",
       "      <td>3.1</td>\n",
       "      <td>1.5</td>\n",
       "      <td>0.2</td>\n",
       "      <td>Iris-setosa</td>\n",
       "    </tr>\n",
       "    <tr>\n",
       "      <th>4</th>\n",
       "      <td>5.0</td>\n",
       "      <td>3.6</td>\n",
       "      <td>1.4</td>\n",
       "      <td>0.2</td>\n",
       "      <td>Iris-setosa</td>\n",
       "    </tr>\n",
       "    <tr>\n",
       "      <th>...</th>\n",
       "      <td>...</td>\n",
       "      <td>...</td>\n",
       "      <td>...</td>\n",
       "      <td>...</td>\n",
       "      <td>...</td>\n",
       "    </tr>\n",
       "    <tr>\n",
       "      <th>145</th>\n",
       "      <td>6.7</td>\n",
       "      <td>3.0</td>\n",
       "      <td>5.2</td>\n",
       "      <td>2.3</td>\n",
       "      <td>Iris-virginica</td>\n",
       "    </tr>\n",
       "    <tr>\n",
       "      <th>146</th>\n",
       "      <td>6.3</td>\n",
       "      <td>2.5</td>\n",
       "      <td>5.0</td>\n",
       "      <td>1.9</td>\n",
       "      <td>Iris-virginica</td>\n",
       "    </tr>\n",
       "    <tr>\n",
       "      <th>147</th>\n",
       "      <td>6.5</td>\n",
       "      <td>3.0</td>\n",
       "      <td>5.2</td>\n",
       "      <td>2.0</td>\n",
       "      <td>Iris-virginica</td>\n",
       "    </tr>\n",
       "    <tr>\n",
       "      <th>148</th>\n",
       "      <td>6.2</td>\n",
       "      <td>3.4</td>\n",
       "      <td>5.4</td>\n",
       "      <td>2.3</td>\n",
       "      <td>Iris-virginica</td>\n",
       "    </tr>\n",
       "    <tr>\n",
       "      <th>149</th>\n",
       "      <td>5.9</td>\n",
       "      <td>3.0</td>\n",
       "      <td>5.1</td>\n",
       "      <td>1.8</td>\n",
       "      <td>Iris-virginica</td>\n",
       "    </tr>\n",
       "  </tbody>\n",
       "</table>\n",
       "<p>150 rows × 5 columns</p>\n",
       "</div>"
      ],
      "text/plain": [
       "       0    1    2    3               4\n",
       "0    5.1  3.5  1.4  0.2     Iris-setosa\n",
       "1    4.9  3.0  1.4  0.2     Iris-setosa\n",
       "2    4.7  3.2  1.3  0.2     Iris-setosa\n",
       "3    4.6  3.1  1.5  0.2     Iris-setosa\n",
       "4    5.0  3.6  1.4  0.2     Iris-setosa\n",
       "..   ...  ...  ...  ...             ...\n",
       "145  6.7  3.0  5.2  2.3  Iris-virginica\n",
       "146  6.3  2.5  5.0  1.9  Iris-virginica\n",
       "147  6.5  3.0  5.2  2.0  Iris-virginica\n",
       "148  6.2  3.4  5.4  2.3  Iris-virginica\n",
       "149  5.9  3.0  5.1  1.8  Iris-virginica\n",
       "\n",
       "[150 rows x 5 columns]"
      ]
     },
     "execution_count": 7,
     "metadata": {},
     "output_type": "execute_result"
    }
   ],
   "source": [
    "# Create a panda data frame object called 'iris_df'. This object holds the contents of our data in tabular format\n",
    "\n",
    "iris_df = pd.read_csv(datasource_path, \n",
    "                      header =  None,\n",
    "                      )\n",
    "\n",
    "iris_df"
   ]
  },
  {
   "cell_type": "code",
   "execution_count": 10,
   "id": "f5229ca8-8d6f-47c7-b81f-3b12234db0d1",
   "metadata": {},
   "outputs": [],
   "source": [
    "# This code creates a header row for our data, \n",
    "\n",
    "iris_headers = ['Sepal_Length_(cm)', \n",
    "                'Sepal_Width_(cm)',\n",
    "                'Petal_Length_(cm)',\n",
    "                'Petal_Width_(cm)',\n",
    "                'Species'\n",
    "               ]"
   ]
  },
  {
   "cell_type": "code",
   "execution_count": 8,
   "id": "cfb62605-2aeb-47e6-8319-a0aa85cf8983",
   "metadata": {},
   "outputs": [
    {
     "data": {
      "text/plain": [
       "Int64Index([0, 1, 2, 3, 4], dtype='int64')"
      ]
     },
     "execution_count": 8,
     "metadata": {},
     "output_type": "execute_result"
    }
   ],
   "source": [
    "iris_df.columns"
   ]
  },
  {
   "cell_type": "code",
   "execution_count": 11,
   "id": "fc44f5f4-06e7-423c-9094-1a5251037226",
   "metadata": {},
   "outputs": [
    {
     "data": {
      "text/html": [
       "<div>\n",
       "<style scoped>\n",
       "    .dataframe tbody tr th:only-of-type {\n",
       "        vertical-align: middle;\n",
       "    }\n",
       "\n",
       "    .dataframe tbody tr th {\n",
       "        vertical-align: top;\n",
       "    }\n",
       "\n",
       "    .dataframe thead th {\n",
       "        text-align: right;\n",
       "    }\n",
       "</style>\n",
       "<table border=\"1\" class=\"dataframe\">\n",
       "  <thead>\n",
       "    <tr style=\"text-align: right;\">\n",
       "      <th></th>\n",
       "      <th>Sepal_Length_(cm)</th>\n",
       "      <th>Sepal_Width_(cm)</th>\n",
       "      <th>Petal_Length_(cm)</th>\n",
       "      <th>Petal_Width_(cm)</th>\n",
       "      <th>Species</th>\n",
       "    </tr>\n",
       "  </thead>\n",
       "  <tbody>\n",
       "    <tr>\n",
       "      <th>0</th>\n",
       "      <td>5.1</td>\n",
       "      <td>3.5</td>\n",
       "      <td>1.4</td>\n",
       "      <td>0.2</td>\n",
       "      <td>Iris-setosa</td>\n",
       "    </tr>\n",
       "    <tr>\n",
       "      <th>1</th>\n",
       "      <td>4.9</td>\n",
       "      <td>3.0</td>\n",
       "      <td>1.4</td>\n",
       "      <td>0.2</td>\n",
       "      <td>Iris-setosa</td>\n",
       "    </tr>\n",
       "    <tr>\n",
       "      <th>2</th>\n",
       "      <td>4.7</td>\n",
       "      <td>3.2</td>\n",
       "      <td>1.3</td>\n",
       "      <td>0.2</td>\n",
       "      <td>Iris-setosa</td>\n",
       "    </tr>\n",
       "    <tr>\n",
       "      <th>3</th>\n",
       "      <td>4.6</td>\n",
       "      <td>3.1</td>\n",
       "      <td>1.5</td>\n",
       "      <td>0.2</td>\n",
       "      <td>Iris-setosa</td>\n",
       "    </tr>\n",
       "    <tr>\n",
       "      <th>4</th>\n",
       "      <td>5.0</td>\n",
       "      <td>3.6</td>\n",
       "      <td>1.4</td>\n",
       "      <td>0.2</td>\n",
       "      <td>Iris-setosa</td>\n",
       "    </tr>\n",
       "    <tr>\n",
       "      <th>...</th>\n",
       "      <td>...</td>\n",
       "      <td>...</td>\n",
       "      <td>...</td>\n",
       "      <td>...</td>\n",
       "      <td>...</td>\n",
       "    </tr>\n",
       "    <tr>\n",
       "      <th>145</th>\n",
       "      <td>6.7</td>\n",
       "      <td>3.0</td>\n",
       "      <td>5.2</td>\n",
       "      <td>2.3</td>\n",
       "      <td>Iris-virginica</td>\n",
       "    </tr>\n",
       "    <tr>\n",
       "      <th>146</th>\n",
       "      <td>6.3</td>\n",
       "      <td>2.5</td>\n",
       "      <td>5.0</td>\n",
       "      <td>1.9</td>\n",
       "      <td>Iris-virginica</td>\n",
       "    </tr>\n",
       "    <tr>\n",
       "      <th>147</th>\n",
       "      <td>6.5</td>\n",
       "      <td>3.0</td>\n",
       "      <td>5.2</td>\n",
       "      <td>2.0</td>\n",
       "      <td>Iris-virginica</td>\n",
       "    </tr>\n",
       "    <tr>\n",
       "      <th>148</th>\n",
       "      <td>6.2</td>\n",
       "      <td>3.4</td>\n",
       "      <td>5.4</td>\n",
       "      <td>2.3</td>\n",
       "      <td>Iris-virginica</td>\n",
       "    </tr>\n",
       "    <tr>\n",
       "      <th>149</th>\n",
       "      <td>5.9</td>\n",
       "      <td>3.0</td>\n",
       "      <td>5.1</td>\n",
       "      <td>1.8</td>\n",
       "      <td>Iris-virginica</td>\n",
       "    </tr>\n",
       "  </tbody>\n",
       "</table>\n",
       "<p>150 rows × 5 columns</p>\n",
       "</div>"
      ],
      "text/plain": [
       "     Sepal_Length_(cm)  Sepal_Width_(cm)  Petal_Length_(cm)  Petal_Width_(cm)  \\\n",
       "0                  5.1               3.5                1.4               0.2   \n",
       "1                  4.9               3.0                1.4               0.2   \n",
       "2                  4.7               3.2                1.3               0.2   \n",
       "3                  4.6               3.1                1.5               0.2   \n",
       "4                  5.0               3.6                1.4               0.2   \n",
       "..                 ...               ...                ...               ...   \n",
       "145                6.7               3.0                5.2               2.3   \n",
       "146                6.3               2.5                5.0               1.9   \n",
       "147                6.5               3.0                5.2               2.0   \n",
       "148                6.2               3.4                5.4               2.3   \n",
       "149                5.9               3.0                5.1               1.8   \n",
       "\n",
       "            Species  \n",
       "0       Iris-setosa  \n",
       "1       Iris-setosa  \n",
       "2       Iris-setosa  \n",
       "3       Iris-setosa  \n",
       "4       Iris-setosa  \n",
       "..              ...  \n",
       "145  Iris-virginica  \n",
       "146  Iris-virginica  \n",
       "147  Iris-virginica  \n",
       "148  Iris-virginica  \n",
       "149  Iris-virginica  \n",
       "\n",
       "[150 rows x 5 columns]"
      ]
     },
     "execution_count": 11,
     "metadata": {},
     "output_type": "execute_result"
    }
   ],
   "source": [
    "# Add headers to dataframe\n",
    "\n",
    "iris_df.columns = iris_headers\n",
    "\n",
    "iris_df"
   ]
  },
  {
   "cell_type": "markdown",
   "id": "2533ea77-61bb-40df-b7b0-cbd96b4765e9",
   "metadata": {},
   "source": [
    "## <font style = \"color:rgb(125, 41, 243)\"> **Data Pre-Processing** </font>"
   ]
  },
  {
   "cell_type": "markdown",
   "id": "d413a146-4df3-49e5-b477-bad635c34cc2",
   "metadata": {},
   "source": [
    "The purpose of this step is to pre-process any data, in preparation for use in a machine learning model.\n",
    "\n",
    "For this use case, the only required pre-processing step is to create a numerical equivalent, to the `Species` feature. Machine learing does not work with catergorical fields."
   ]
  },
  {
   "cell_type": "markdown",
   "id": "81f22fa8-98bc-4199-b9a3-2f22b4a443f0",
   "metadata": {},
   "source": [
    "### <font style = \"color:rgb(125, 41, 243)\"> **Categorical to Numerical** </font>"
   ]
  },
  {
   "cell_type": "raw",
   "id": "1fefb286-7ec7-4978-b945-76470f41cdf8",
   "metadata": {},
   "source": [
    "# Creating an instance of labelencoder\n",
    "\n",
    "labelencoder = LabelEncoder()\n",
    "\n",
    "labelencoder"
   ]
  },
  {
   "cell_type": "raw",
   "id": "606548f0-f390-4afa-b085-85d1403052fb",
   "metadata": {},
   "source": [
    "# Assigning numerical values and storing it in another column called \"Class\"\n",
    "\n",
    "iris_df['Class'] = labelencoder.fit_transform(iris_df['Species'])\n",
    "\n",
    "iris_df"
   ]
  },
  {
   "cell_type": "markdown",
   "id": "a000b8da-a871-4aa8-838f-72ed77e96f08",
   "metadata": {
    "tags": []
   },
   "source": [
    "### <font style = \"color:rgb(125, 41, 243)\"> **Identification of Target Class** </font>"
   ]
  },
  {
   "cell_type": "markdown",
   "id": "8fb23616-67ef-4702-b8a4-d2df0c3c6bec",
   "metadata": {},
   "source": [
    "The purpose of this step is to prepare a list of the `Target Class`. The machine learning models need information in this fashion."
   ]
  },
  {
   "cell_type": "code",
   "execution_count": 12,
   "id": "c1615511-4dcf-40d9-beca-5f4a67a802df",
   "metadata": {
    "tags": []
   },
   "outputs": [],
   "source": [
    "# Identifying the target class\n",
    "\n",
    "target_name = \"Species\""
   ]
  },
  {
   "cell_type": "code",
   "execution_count": 13,
   "id": "f1f967a6-63b0-4d28-bd1d-b9c5b7a846ef",
   "metadata": {},
   "outputs": [
    {
     "data": {
      "text/plain": [
       "0         Iris-setosa\n",
       "1         Iris-setosa\n",
       "2         Iris-setosa\n",
       "3         Iris-setosa\n",
       "4         Iris-setosa\n",
       "            ...      \n",
       "145    Iris-virginica\n",
       "146    Iris-virginica\n",
       "147    Iris-virginica\n",
       "148    Iris-virginica\n",
       "149    Iris-virginica\n",
       "Name: Species, Length: 150, dtype: object"
      ]
     },
     "execution_count": 13,
     "metadata": {},
     "output_type": "execute_result"
    }
   ],
   "source": [
    "target = iris_df[target_name]\n",
    "\n",
    "target"
   ]
  },
  {
   "cell_type": "markdown",
   "id": "51325549-74ee-4b86-9c07-61dc03873fdc",
   "metadata": {
    "tags": []
   },
   "source": [
    "### <font style = \"color:rgb(125, 41, 243)\"> **Data Preparation** </font>"
   ]
  },
  {
   "cell_type": "markdown",
   "id": "f3c4371f-0a1e-417a-a09a-70691a6a303f",
   "metadata": {},
   "source": [
    "This step prepares the data so it can be used in a machine learning model."
   ]
  },
  {
   "cell_type": "code",
   "execution_count": 14,
   "id": "ec4a81e6-7ebc-4e9f-9ac5-fc8a97d1e9cd",
   "metadata": {},
   "outputs": [
    {
     "data": {
      "text/html": [
       "<div>\n",
       "<style scoped>\n",
       "    .dataframe tbody tr th:only-of-type {\n",
       "        vertical-align: middle;\n",
       "    }\n",
       "\n",
       "    .dataframe tbody tr th {\n",
       "        vertical-align: top;\n",
       "    }\n",
       "\n",
       "    .dataframe thead th {\n",
       "        text-align: right;\n",
       "    }\n",
       "</style>\n",
       "<table border=\"1\" class=\"dataframe\">\n",
       "  <thead>\n",
       "    <tr style=\"text-align: right;\">\n",
       "      <th></th>\n",
       "      <th>Petal_Length_(cm)</th>\n",
       "      <th>Petal_Width_(cm)</th>\n",
       "    </tr>\n",
       "  </thead>\n",
       "  <tbody>\n",
       "    <tr>\n",
       "      <th>0</th>\n",
       "      <td>1.4</td>\n",
       "      <td>0.2</td>\n",
       "    </tr>\n",
       "    <tr>\n",
       "      <th>1</th>\n",
       "      <td>1.4</td>\n",
       "      <td>0.2</td>\n",
       "    </tr>\n",
       "    <tr>\n",
       "      <th>2</th>\n",
       "      <td>1.3</td>\n",
       "      <td>0.2</td>\n",
       "    </tr>\n",
       "    <tr>\n",
       "      <th>3</th>\n",
       "      <td>1.5</td>\n",
       "      <td>0.2</td>\n",
       "    </tr>\n",
       "    <tr>\n",
       "      <th>4</th>\n",
       "      <td>1.4</td>\n",
       "      <td>0.2</td>\n",
       "    </tr>\n",
       "    <tr>\n",
       "      <th>...</th>\n",
       "      <td>...</td>\n",
       "      <td>...</td>\n",
       "    </tr>\n",
       "    <tr>\n",
       "      <th>145</th>\n",
       "      <td>5.2</td>\n",
       "      <td>2.3</td>\n",
       "    </tr>\n",
       "    <tr>\n",
       "      <th>146</th>\n",
       "      <td>5.0</td>\n",
       "      <td>1.9</td>\n",
       "    </tr>\n",
       "    <tr>\n",
       "      <th>147</th>\n",
       "      <td>5.2</td>\n",
       "      <td>2.0</td>\n",
       "    </tr>\n",
       "    <tr>\n",
       "      <th>148</th>\n",
       "      <td>5.4</td>\n",
       "      <td>2.3</td>\n",
       "    </tr>\n",
       "    <tr>\n",
       "      <th>149</th>\n",
       "      <td>5.1</td>\n",
       "      <td>1.8</td>\n",
       "    </tr>\n",
       "  </tbody>\n",
       "</table>\n",
       "<p>150 rows × 2 columns</p>\n",
       "</div>"
      ],
      "text/plain": [
       "     Petal_Length_(cm)  Petal_Width_(cm)\n",
       "0                  1.4               0.2\n",
       "1                  1.4               0.2\n",
       "2                  1.3               0.2\n",
       "3                  1.5               0.2\n",
       "4                  1.4               0.2\n",
       "..                 ...               ...\n",
       "145                5.2               2.3\n",
       "146                5.0               1.9\n",
       "147                5.2               2.0\n",
       "148                5.4               2.3\n",
       "149                5.1               1.8\n",
       "\n",
       "[150 rows x 2 columns]"
      ]
     },
     "execution_count": 14,
     "metadata": {},
     "output_type": "execute_result"
    }
   ],
   "source": [
    "# 2-Feature dataset\n",
    "# Sepal width will be dropped from this list, given our EDA determining this feature is not significant.\n",
    "\n",
    "data_2features = iris_df[['Petal_Length_(cm)', 'Petal_Width_(cm)']]\n",
    "\n",
    "data_2features"
   ]
  },
  {
   "cell_type": "code",
   "execution_count": 15,
   "id": "32b66da3-05c0-47c7-8326-3c1d82887c35",
   "metadata": {},
   "outputs": [
    {
     "data": {
      "text/html": [
       "<div>\n",
       "<style scoped>\n",
       "    .dataframe tbody tr th:only-of-type {\n",
       "        vertical-align: middle;\n",
       "    }\n",
       "\n",
       "    .dataframe tbody tr th {\n",
       "        vertical-align: top;\n",
       "    }\n",
       "\n",
       "    .dataframe thead th {\n",
       "        text-align: right;\n",
       "    }\n",
       "</style>\n",
       "<table border=\"1\" class=\"dataframe\">\n",
       "  <thead>\n",
       "    <tr style=\"text-align: right;\">\n",
       "      <th></th>\n",
       "      <th>Petal_Length_(cm)</th>\n",
       "      <th>Petal_Width_(cm)</th>\n",
       "      <th>Sepal_Length_(cm)</th>\n",
       "    </tr>\n",
       "  </thead>\n",
       "  <tbody>\n",
       "    <tr>\n",
       "      <th>0</th>\n",
       "      <td>1.4</td>\n",
       "      <td>0.2</td>\n",
       "      <td>5.1</td>\n",
       "    </tr>\n",
       "    <tr>\n",
       "      <th>1</th>\n",
       "      <td>1.4</td>\n",
       "      <td>0.2</td>\n",
       "      <td>4.9</td>\n",
       "    </tr>\n",
       "    <tr>\n",
       "      <th>2</th>\n",
       "      <td>1.3</td>\n",
       "      <td>0.2</td>\n",
       "      <td>4.7</td>\n",
       "    </tr>\n",
       "    <tr>\n",
       "      <th>3</th>\n",
       "      <td>1.5</td>\n",
       "      <td>0.2</td>\n",
       "      <td>4.6</td>\n",
       "    </tr>\n",
       "    <tr>\n",
       "      <th>4</th>\n",
       "      <td>1.4</td>\n",
       "      <td>0.2</td>\n",
       "      <td>5.0</td>\n",
       "    </tr>\n",
       "    <tr>\n",
       "      <th>...</th>\n",
       "      <td>...</td>\n",
       "      <td>...</td>\n",
       "      <td>...</td>\n",
       "    </tr>\n",
       "    <tr>\n",
       "      <th>145</th>\n",
       "      <td>5.2</td>\n",
       "      <td>2.3</td>\n",
       "      <td>6.7</td>\n",
       "    </tr>\n",
       "    <tr>\n",
       "      <th>146</th>\n",
       "      <td>5.0</td>\n",
       "      <td>1.9</td>\n",
       "      <td>6.3</td>\n",
       "    </tr>\n",
       "    <tr>\n",
       "      <th>147</th>\n",
       "      <td>5.2</td>\n",
       "      <td>2.0</td>\n",
       "      <td>6.5</td>\n",
       "    </tr>\n",
       "    <tr>\n",
       "      <th>148</th>\n",
       "      <td>5.4</td>\n",
       "      <td>2.3</td>\n",
       "      <td>6.2</td>\n",
       "    </tr>\n",
       "    <tr>\n",
       "      <th>149</th>\n",
       "      <td>5.1</td>\n",
       "      <td>1.8</td>\n",
       "      <td>5.9</td>\n",
       "    </tr>\n",
       "  </tbody>\n",
       "</table>\n",
       "<p>150 rows × 3 columns</p>\n",
       "</div>"
      ],
      "text/plain": [
       "     Petal_Length_(cm)  Petal_Width_(cm)  Sepal_Length_(cm)\n",
       "0                  1.4               0.2                5.1\n",
       "1                  1.4               0.2                4.9\n",
       "2                  1.3               0.2                4.7\n",
       "3                  1.5               0.2                4.6\n",
       "4                  1.4               0.2                5.0\n",
       "..                 ...               ...                ...\n",
       "145                5.2               2.3                6.7\n",
       "146                5.0               1.9                6.3\n",
       "147                5.2               2.0                6.5\n",
       "148                5.4               2.3                6.2\n",
       "149                5.1               1.8                5.9\n",
       "\n",
       "[150 rows x 3 columns]"
      ]
     },
     "execution_count": 15,
     "metadata": {},
     "output_type": "execute_result"
    }
   ],
   "source": [
    "# 3-Feature dataset\n",
    "# Sepal width will be dropped from this list, given our EDA determining this feature is not significant.\n",
    "\n",
    "data_3features = iris_df[['Petal_Length_(cm)', 'Petal_Width_(cm)', 'Sepal_Length_(cm)']]\n",
    "                                \n",
    "data_3features"
   ]
  },
  {
   "cell_type": "markdown",
   "id": "bb601d16-5e15-4195-8477-8bafad6f1f9c",
   "metadata": {},
   "source": [
    "## <font style = \"color:rgb(125, 41, 243)\"> **Building Machine Learing Models** </font>"
   ]
  },
  {
   "attachments": {
    "67567ec1-4a23-4f1d-86c5-57471cdf5f06.png": {
     "image/png": "[encoded data removed]"
    }
   },
   "cell_type": "markdown",
   "id": "f4511a31-6cb0-4d46-8ea0-9b5279b29c27",
   "metadata": {
    "tags": []
   },
   "source": [
    "![image.png](attachment:67567ec1-4a23-4f1d-86c5-57471cdf5f06.png)"
   ]
  },
  {
   "cell_type": "markdown",
   "id": "f72d60c7-d9f4-4c89-9eb4-40a7764c9897",
   "metadata": {},
   "source": [
    "### <font style = \"color:rgb(125, 41, 243)\"> **Building Machine Learning Models and Pipelines** </font>"
   ]
  },
  {
   "cell_type": "code",
   "execution_count": 16,
   "id": "8f38e175-7b61-4f17-a1c4-7384bac5893b",
   "metadata": {},
   "outputs": [
    {
     "data": {
      "text/html": [
       "<style>#sk-3f858ecc-ff34-4be6-9503-a681f5547052 {color: black;background-color: white;}#sk-3f858ecc-ff34-4be6-9503-a681f5547052 pre{padding: 0;}#sk-3f858ecc-ff34-4be6-9503-a681f5547052 div.sk-toggleable {background-color: white;}#sk-3f858ecc-ff34-4be6-9503-a681f5547052 label.sk-toggleable__label {cursor: pointer;display: block;width: 100%;margin-bottom: 0;padding: 0.2em 0.3em;box-sizing: border-box;text-align: center;}#sk-3f858ecc-ff34-4be6-9503-a681f5547052 div.sk-toggleable__content {max-height: 0;max-width: 0;overflow: hidden;text-align: left;background-color: #f0f8ff;}#sk-3f858ecc-ff34-4be6-9503-a681f5547052 div.sk-toggleable__content pre {margin: 0.2em;color: black;border-radius: 0.25em;background-color: #f0f8ff;}#sk-3f858ecc-ff34-4be6-9503-a681f5547052 input.sk-toggleable__control:checked~div.sk-toggleable__content {max-height: 200px;max-width: 100%;overflow: auto;}#sk-3f858ecc-ff34-4be6-9503-a681f5547052 div.sk-estimator input.sk-toggleable__control:checked~label.sk-toggleable__label {background-color: #d4ebff;}#sk-3f858ecc-ff34-4be6-9503-a681f5547052 div.sk-label input.sk-toggleable__control:checked~label.sk-toggleable__label {background-color: #d4ebff;}#sk-3f858ecc-ff34-4be6-9503-a681f5547052 input.sk-hidden--visually {border: 0;clip: rect(1px 1px 1px 1px);clip: rect(1px, 1px, 1px, 1px);height: 1px;margin: -1px;overflow: hidden;padding: 0;position: absolute;width: 1px;}#sk-3f858ecc-ff34-4be6-9503-a681f5547052 div.sk-estimator {font-family: monospace;background-color: #f0f8ff;margin: 0.25em 0.25em;border: 1px dotted black;border-radius: 0.25em;box-sizing: border-box;}#sk-3f858ecc-ff34-4be6-9503-a681f5547052 div.sk-estimator:hover {background-color: #d4ebff;}#sk-3f858ecc-ff34-4be6-9503-a681f5547052 div.sk-parallel-item::after {content: \"\";width: 100%;border-bottom: 1px solid gray;flex-grow: 1;}#sk-3f858ecc-ff34-4be6-9503-a681f5547052 div.sk-label:hover label.sk-toggleable__label {background-color: #d4ebff;}#sk-3f858ecc-ff34-4be6-9503-a681f5547052 div.sk-serial::before {content: \"\";position: absolute;border-left: 1px solid gray;box-sizing: border-box;top: 2em;bottom: 0;left: 50%;}#sk-3f858ecc-ff34-4be6-9503-a681f5547052 div.sk-serial {display: flex;flex-direction: column;align-items: center;background-color: white;}#sk-3f858ecc-ff34-4be6-9503-a681f5547052 div.sk-item {z-index: 1;}#sk-3f858ecc-ff34-4be6-9503-a681f5547052 div.sk-parallel {display: flex;align-items: stretch;justify-content: center;background-color: white;}#sk-3f858ecc-ff34-4be6-9503-a681f5547052 div.sk-parallel-item {display: flex;flex-direction: column;position: relative;background-color: white;}#sk-3f858ecc-ff34-4be6-9503-a681f5547052 div.sk-parallel-item:first-child::after {align-self: flex-end;width: 50%;}#sk-3f858ecc-ff34-4be6-9503-a681f5547052 div.sk-parallel-item:last-child::after {align-self: flex-start;width: 50%;}#sk-3f858ecc-ff34-4be6-9503-a681f5547052 div.sk-parallel-item:only-child::after {width: 0;}#sk-3f858ecc-ff34-4be6-9503-a681f5547052 div.sk-dashed-wrapped {border: 1px dashed gray;margin: 0.2em;box-sizing: border-box;padding-bottom: 0.1em;background-color: white;position: relative;}#sk-3f858ecc-ff34-4be6-9503-a681f5547052 div.sk-label label {font-family: monospace;font-weight: bold;background-color: white;display: inline-block;line-height: 1.2em;}#sk-3f858ecc-ff34-4be6-9503-a681f5547052 div.sk-label-container {position: relative;z-index: 2;text-align: center;}#sk-3f858ecc-ff34-4be6-9503-a681f5547052 div.sk-container {display: inline-block;position: relative;}</style><div id=\"sk-3f858ecc-ff34-4be6-9503-a681f5547052\" class\"sk-top-container\"><div class=\"sk-container\"><div class=\"sk-item sk-dashed-wrapped\"><div class=\"sk-label-container\"><div class=\"sk-label sk-toggleable\"><input class=\"sk-toggleable__control sk-hidden--visually\" id=\"4468f8bf-03f7-4b9b-af03-f33dc790f871\" type=\"checkbox\" ><label class=\"sk-toggleable__label\" for=\"4468f8bf-03f7-4b9b-af03-f33dc790f871\">Pipeline</label><div class=\"sk-toggleable__content\"><pre>Pipeline(steps=[('standardscaler', StandardScaler()),\n",
       "                ('logisticregression', LogisticRegression())])</pre></div></div></div><div class=\"sk-serial\"><div class=\"sk-item\"><div class=\"sk-estimator sk-toggleable\"><input class=\"sk-toggleable__control sk-hidden--visually\" id=\"3220a87f-1d92-4784-a87c-4bc75680820b\" type=\"checkbox\" ><label class=\"sk-toggleable__label\" for=\"3220a87f-1d92-4784-a87c-4bc75680820b\">StandardScaler</label><div class=\"sk-toggleable__content\"><pre>StandardScaler()</pre></div></div></div><div class=\"sk-item\"><div class=\"sk-estimator sk-toggleable\"><input class=\"sk-toggleable__control sk-hidden--visually\" id=\"dc4dd9f5-b4dd-4afe-84ec-f5ae499922af\" type=\"checkbox\" ><label class=\"sk-toggleable__label\" for=\"dc4dd9f5-b4dd-4afe-84ec-f5ae499922af\">LogisticRegression</label><div class=\"sk-toggleable__content\"><pre>LogisticRegression()</pre></div></div></div></div></div></div></div>"
      ],
      "text/plain": [
       "Pipeline(steps=[('standardscaler', StandardScaler()),\n",
       "                ('logisticregression', LogisticRegression())])"
      ]
     },
     "execution_count": 16,
     "metadata": {},
     "output_type": "execute_result"
    }
   ],
   "source": [
    "logistic_regression_model = make_pipeline(StandardScaler(), \n",
    "                                          LogisticRegression(),\n",
    "                                         )\n",
    "\n",
    "logistic_regression_model"
   ]
  },
  {
   "cell_type": "code",
   "execution_count": 21,
   "id": "4ea4982b-e36d-4d51-8384-4e91f6d058c4",
   "metadata": {},
   "outputs": [
    {
     "data": {
      "text/html": [
       "<style>#sk-9adeec10-cb31-4ce2-a25b-4c62f1484ce2 {color: black;background-color: white;}#sk-9adeec10-cb31-4ce2-a25b-4c62f1484ce2 pre{padding: 0;}#sk-9adeec10-cb31-4ce2-a25b-4c62f1484ce2 div.sk-toggleable {background-color: white;}#sk-9adeec10-cb31-4ce2-a25b-4c62f1484ce2 label.sk-toggleable__label {cursor: pointer;display: block;width: 100%;margin-bottom: 0;padding: 0.2em 0.3em;box-sizing: border-box;text-align: center;}#sk-9adeec10-cb31-4ce2-a25b-4c62f1484ce2 div.sk-toggleable__content {max-height: 0;max-width: 0;overflow: hidden;text-align: left;background-color: #f0f8ff;}#sk-9adeec10-cb31-4ce2-a25b-4c62f1484ce2 div.sk-toggleable__content pre {margin: 0.2em;color: black;border-radius: 0.25em;background-color: #f0f8ff;}#sk-9adeec10-cb31-4ce2-a25b-4c62f1484ce2 input.sk-toggleable__control:checked~div.sk-toggleable__content {max-height: 200px;max-width: 100%;overflow: auto;}#sk-9adeec10-cb31-4ce2-a25b-4c62f1484ce2 div.sk-estimator input.sk-toggleable__control:checked~label.sk-toggleable__label {background-color: #d4ebff;}#sk-9adeec10-cb31-4ce2-a25b-4c62f1484ce2 div.sk-label input.sk-toggleable__control:checked~label.sk-toggleable__label {background-color: #d4ebff;}#sk-9adeec10-cb31-4ce2-a25b-4c62f1484ce2 input.sk-hidden--visually {border: 0;clip: rect(1px 1px 1px 1px);clip: rect(1px, 1px, 1px, 1px);height: 1px;margin: -1px;overflow: hidden;padding: 0;position: absolute;width: 1px;}#sk-9adeec10-cb31-4ce2-a25b-4c62f1484ce2 div.sk-estimator {font-family: monospace;background-color: #f0f8ff;margin: 0.25em 0.25em;border: 1px dotted black;border-radius: 0.25em;box-sizing: border-box;}#sk-9adeec10-cb31-4ce2-a25b-4c62f1484ce2 div.sk-estimator:hover {background-color: #d4ebff;}#sk-9adeec10-cb31-4ce2-a25b-4c62f1484ce2 div.sk-parallel-item::after {content: \"\";width: 100%;border-bottom: 1px solid gray;flex-grow: 1;}#sk-9adeec10-cb31-4ce2-a25b-4c62f1484ce2 div.sk-label:hover label.sk-toggleable__label {background-color: #d4ebff;}#sk-9adeec10-cb31-4ce2-a25b-4c62f1484ce2 div.sk-serial::before {content: \"\";position: absolute;border-left: 1px solid gray;box-sizing: border-box;top: 2em;bottom: 0;left: 50%;}#sk-9adeec10-cb31-4ce2-a25b-4c62f1484ce2 div.sk-serial {display: flex;flex-direction: column;align-items: center;background-color: white;}#sk-9adeec10-cb31-4ce2-a25b-4c62f1484ce2 div.sk-item {z-index: 1;}#sk-9adeec10-cb31-4ce2-a25b-4c62f1484ce2 div.sk-parallel {display: flex;align-items: stretch;justify-content: center;background-color: white;}#sk-9adeec10-cb31-4ce2-a25b-4c62f1484ce2 div.sk-parallel-item {display: flex;flex-direction: column;position: relative;background-color: white;}#sk-9adeec10-cb31-4ce2-a25b-4c62f1484ce2 div.sk-parallel-item:first-child::after {align-self: flex-end;width: 50%;}#sk-9adeec10-cb31-4ce2-a25b-4c62f1484ce2 div.sk-parallel-item:last-child::after {align-self: flex-start;width: 50%;}#sk-9adeec10-cb31-4ce2-a25b-4c62f1484ce2 div.sk-parallel-item:only-child::after {width: 0;}#sk-9adeec10-cb31-4ce2-a25b-4c62f1484ce2 div.sk-dashed-wrapped {border: 1px dashed gray;margin: 0.2em;box-sizing: border-box;padding-bottom: 0.1em;background-color: white;position: relative;}#sk-9adeec10-cb31-4ce2-a25b-4c62f1484ce2 div.sk-label label {font-family: monospace;font-weight: bold;background-color: white;display: inline-block;line-height: 1.2em;}#sk-9adeec10-cb31-4ce2-a25b-4c62f1484ce2 div.sk-label-container {position: relative;z-index: 2;text-align: center;}#sk-9adeec10-cb31-4ce2-a25b-4c62f1484ce2 div.sk-container {display: inline-block;position: relative;}</style><div id=\"sk-9adeec10-cb31-4ce2-a25b-4c62f1484ce2\" class\"sk-top-container\"><div class=\"sk-container\"><div class=\"sk-item sk-dashed-wrapped\"><div class=\"sk-label-container\"><div class=\"sk-label sk-toggleable\"><input class=\"sk-toggleable__control sk-hidden--visually\" id=\"87b8841a-8ba4-40e4-91ca-e63738627363\" type=\"checkbox\" ><label class=\"sk-toggleable__label\" for=\"87b8841a-8ba4-40e4-91ca-e63738627363\">Pipeline</label><div class=\"sk-toggleable__content\"><pre>Pipeline(steps=[('standardscaler', StandardScaler()),\n",
       "                ('sgdclassifier', SGDClassifier())])</pre></div></div></div><div class=\"sk-serial\"><div class=\"sk-item\"><div class=\"sk-estimator sk-toggleable\"><input class=\"sk-toggleable__control sk-hidden--visually\" id=\"20ce2aeb-f329-475e-9666-846575b7638c\" type=\"checkbox\" ><label class=\"sk-toggleable__label\" for=\"20ce2aeb-f329-475e-9666-846575b7638c\">StandardScaler</label><div class=\"sk-toggleable__content\"><pre>StandardScaler()</pre></div></div></div><div class=\"sk-item\"><div class=\"sk-estimator sk-toggleable\"><input class=\"sk-toggleable__control sk-hidden--visually\" id=\"dd857630-acdb-4942-b9b4-9b1ea6028a8f\" type=\"checkbox\" ><label class=\"sk-toggleable__label\" for=\"dd857630-acdb-4942-b9b4-9b1ea6028a8f\">SGDClassifier</label><div class=\"sk-toggleable__content\"><pre>SGDClassifier()</pre></div></div></div></div></div></div></div>"
      ],
      "text/plain": [
       "Pipeline(steps=[('standardscaler', StandardScaler()),\n",
       "                ('sgdclassifier', SGDClassifier())])"
      ]
     },
     "execution_count": 21,
     "metadata": {},
     "output_type": "execute_result"
    }
   ],
   "source": [
    "sgdc_model = make_pipeline(StandardScaler(), \n",
    "                           SGDClassifier(),\n",
    "                          )\n",
    "\n",
    "sgdc_model"
   ]
  },
  {
   "cell_type": "code",
   "execution_count": 17,
   "id": "37e1041a-3c76-4687-9d41-45d2bdfea20f",
   "metadata": {},
   "outputs": [
    {
     "data": {
      "text/html": [
       "<style>#sk-49e459bc-5103-4720-833e-ddb01602ff78 {color: black;background-color: white;}#sk-49e459bc-5103-4720-833e-ddb01602ff78 pre{padding: 0;}#sk-49e459bc-5103-4720-833e-ddb01602ff78 div.sk-toggleable {background-color: white;}#sk-49e459bc-5103-4720-833e-ddb01602ff78 label.sk-toggleable__label {cursor: pointer;display: block;width: 100%;margin-bottom: 0;padding: 0.2em 0.3em;box-sizing: border-box;text-align: center;}#sk-49e459bc-5103-4720-833e-ddb01602ff78 div.sk-toggleable__content {max-height: 0;max-width: 0;overflow: hidden;text-align: left;background-color: #f0f8ff;}#sk-49e459bc-5103-4720-833e-ddb01602ff78 div.sk-toggleable__content pre {margin: 0.2em;color: black;border-radius: 0.25em;background-color: #f0f8ff;}#sk-49e459bc-5103-4720-833e-ddb01602ff78 input.sk-toggleable__control:checked~div.sk-toggleable__content {max-height: 200px;max-width: 100%;overflow: auto;}#sk-49e459bc-5103-4720-833e-ddb01602ff78 div.sk-estimator input.sk-toggleable__control:checked~label.sk-toggleable__label {background-color: #d4ebff;}#sk-49e459bc-5103-4720-833e-ddb01602ff78 div.sk-label input.sk-toggleable__control:checked~label.sk-toggleable__label {background-color: #d4ebff;}#sk-49e459bc-5103-4720-833e-ddb01602ff78 input.sk-hidden--visually {border: 0;clip: rect(1px 1px 1px 1px);clip: rect(1px, 1px, 1px, 1px);height: 1px;margin: -1px;overflow: hidden;padding: 0;position: absolute;width: 1px;}#sk-49e459bc-5103-4720-833e-ddb01602ff78 div.sk-estimator {font-family: monospace;background-color: #f0f8ff;margin: 0.25em 0.25em;border: 1px dotted black;border-radius: 0.25em;box-sizing: border-box;}#sk-49e459bc-5103-4720-833e-ddb01602ff78 div.sk-estimator:hover {background-color: #d4ebff;}#sk-49e459bc-5103-4720-833e-ddb01602ff78 div.sk-parallel-item::after {content: \"\";width: 100%;border-bottom: 1px solid gray;flex-grow: 1;}#sk-49e459bc-5103-4720-833e-ddb01602ff78 div.sk-label:hover label.sk-toggleable__label {background-color: #d4ebff;}#sk-49e459bc-5103-4720-833e-ddb01602ff78 div.sk-serial::before {content: \"\";position: absolute;border-left: 1px solid gray;box-sizing: border-box;top: 2em;bottom: 0;left: 50%;}#sk-49e459bc-5103-4720-833e-ddb01602ff78 div.sk-serial {display: flex;flex-direction: column;align-items: center;background-color: white;}#sk-49e459bc-5103-4720-833e-ddb01602ff78 div.sk-item {z-index: 1;}#sk-49e459bc-5103-4720-833e-ddb01602ff78 div.sk-parallel {display: flex;align-items: stretch;justify-content: center;background-color: white;}#sk-49e459bc-5103-4720-833e-ddb01602ff78 div.sk-parallel-item {display: flex;flex-direction: column;position: relative;background-color: white;}#sk-49e459bc-5103-4720-833e-ddb01602ff78 div.sk-parallel-item:first-child::after {align-self: flex-end;width: 50%;}#sk-49e459bc-5103-4720-833e-ddb01602ff78 div.sk-parallel-item:last-child::after {align-self: flex-start;width: 50%;}#sk-49e459bc-5103-4720-833e-ddb01602ff78 div.sk-parallel-item:only-child::after {width: 0;}#sk-49e459bc-5103-4720-833e-ddb01602ff78 div.sk-dashed-wrapped {border: 1px dashed gray;margin: 0.2em;box-sizing: border-box;padding-bottom: 0.1em;background-color: white;position: relative;}#sk-49e459bc-5103-4720-833e-ddb01602ff78 div.sk-label label {font-family: monospace;font-weight: bold;background-color: white;display: inline-block;line-height: 1.2em;}#sk-49e459bc-5103-4720-833e-ddb01602ff78 div.sk-label-container {position: relative;z-index: 2;text-align: center;}#sk-49e459bc-5103-4720-833e-ddb01602ff78 div.sk-container {display: inline-block;position: relative;}</style><div id=\"sk-49e459bc-5103-4720-833e-ddb01602ff78\" class\"sk-top-container\"><div class=\"sk-container\"><div class=\"sk-item sk-dashed-wrapped\"><div class=\"sk-label-container\"><div class=\"sk-label sk-toggleable\"><input class=\"sk-toggleable__control sk-hidden--visually\" id=\"ca835b04-adc8-4bac-b8e3-189751c32de2\" type=\"checkbox\" ><label class=\"sk-toggleable__label\" for=\"ca835b04-adc8-4bac-b8e3-189751c32de2\">Pipeline</label><div class=\"sk-toggleable__content\"><pre>Pipeline(steps=[('standardscaler', StandardScaler()), ('svc', SVC())])</pre></div></div></div><div class=\"sk-serial\"><div class=\"sk-item\"><div class=\"sk-estimator sk-toggleable\"><input class=\"sk-toggleable__control sk-hidden--visually\" id=\"11d8d1b6-9fce-4396-b98d-66fab7333ae3\" type=\"checkbox\" ><label class=\"sk-toggleable__label\" for=\"11d8d1b6-9fce-4396-b98d-66fab7333ae3\">StandardScaler</label><div class=\"sk-toggleable__content\"><pre>StandardScaler()</pre></div></div></div><div class=\"sk-item\"><div class=\"sk-estimator sk-toggleable\"><input class=\"sk-toggleable__control sk-hidden--visually\" id=\"8d6453b8-0dbe-4c17-b218-535324da33cd\" type=\"checkbox\" ><label class=\"sk-toggleable__label\" for=\"8d6453b8-0dbe-4c17-b218-535324da33cd\">SVC</label><div class=\"sk-toggleable__content\"><pre>SVC()</pre></div></div></div></div></div></div></div>"
      ],
      "text/plain": [
       "Pipeline(steps=[('standardscaler', StandardScaler()), ('svc', SVC())])"
      ]
     },
     "execution_count": 17,
     "metadata": {},
     "output_type": "execute_result"
    }
   ],
   "source": [
    "svc_model = make_pipeline(StandardScaler(), \n",
    "                          SVC(),\n",
    "                         )\n",
    "\n",
    "svc_model"
   ]
  },
  {
   "cell_type": "code",
   "execution_count": 18,
   "id": "06d9027b-a536-49ba-9b82-abebd889d4a1",
   "metadata": {},
   "outputs": [
    {
     "data": {
      "text/html": [
       "<style>#sk-bc802cb2-8d82-4a46-891a-b5a7aa24addd {color: black;background-color: white;}#sk-bc802cb2-8d82-4a46-891a-b5a7aa24addd pre{padding: 0;}#sk-bc802cb2-8d82-4a46-891a-b5a7aa24addd div.sk-toggleable {background-color: white;}#sk-bc802cb2-8d82-4a46-891a-b5a7aa24addd label.sk-toggleable__label {cursor: pointer;display: block;width: 100%;margin-bottom: 0;padding: 0.2em 0.3em;box-sizing: border-box;text-align: center;}#sk-bc802cb2-8d82-4a46-891a-b5a7aa24addd div.sk-toggleable__content {max-height: 0;max-width: 0;overflow: hidden;text-align: left;background-color: #f0f8ff;}#sk-bc802cb2-8d82-4a46-891a-b5a7aa24addd div.sk-toggleable__content pre {margin: 0.2em;color: black;border-radius: 0.25em;background-color: #f0f8ff;}#sk-bc802cb2-8d82-4a46-891a-b5a7aa24addd input.sk-toggleable__control:checked~div.sk-toggleable__content {max-height: 200px;max-width: 100%;overflow: auto;}#sk-bc802cb2-8d82-4a46-891a-b5a7aa24addd div.sk-estimator input.sk-toggleable__control:checked~label.sk-toggleable__label {background-color: #d4ebff;}#sk-bc802cb2-8d82-4a46-891a-b5a7aa24addd div.sk-label input.sk-toggleable__control:checked~label.sk-toggleable__label {background-color: #d4ebff;}#sk-bc802cb2-8d82-4a46-891a-b5a7aa24addd input.sk-hidden--visually {border: 0;clip: rect(1px 1px 1px 1px);clip: rect(1px, 1px, 1px, 1px);height: 1px;margin: -1px;overflow: hidden;padding: 0;position: absolute;width: 1px;}#sk-bc802cb2-8d82-4a46-891a-b5a7aa24addd div.sk-estimator {font-family: monospace;background-color: #f0f8ff;margin: 0.25em 0.25em;border: 1px dotted black;border-radius: 0.25em;box-sizing: border-box;}#sk-bc802cb2-8d82-4a46-891a-b5a7aa24addd div.sk-estimator:hover {background-color: #d4ebff;}#sk-bc802cb2-8d82-4a46-891a-b5a7aa24addd div.sk-parallel-item::after {content: \"\";width: 100%;border-bottom: 1px solid gray;flex-grow: 1;}#sk-bc802cb2-8d82-4a46-891a-b5a7aa24addd div.sk-label:hover label.sk-toggleable__label {background-color: #d4ebff;}#sk-bc802cb2-8d82-4a46-891a-b5a7aa24addd div.sk-serial::before {content: \"\";position: absolute;border-left: 1px solid gray;box-sizing: border-box;top: 2em;bottom: 0;left: 50%;}#sk-bc802cb2-8d82-4a46-891a-b5a7aa24addd div.sk-serial {display: flex;flex-direction: column;align-items: center;background-color: white;}#sk-bc802cb2-8d82-4a46-891a-b5a7aa24addd div.sk-item {z-index: 1;}#sk-bc802cb2-8d82-4a46-891a-b5a7aa24addd div.sk-parallel {display: flex;align-items: stretch;justify-content: center;background-color: white;}#sk-bc802cb2-8d82-4a46-891a-b5a7aa24addd div.sk-parallel-item {display: flex;flex-direction: column;position: relative;background-color: white;}#sk-bc802cb2-8d82-4a46-891a-b5a7aa24addd div.sk-parallel-item:first-child::after {align-self: flex-end;width: 50%;}#sk-bc802cb2-8d82-4a46-891a-b5a7aa24addd div.sk-parallel-item:last-child::after {align-self: flex-start;width: 50%;}#sk-bc802cb2-8d82-4a46-891a-b5a7aa24addd div.sk-parallel-item:only-child::after {width: 0;}#sk-bc802cb2-8d82-4a46-891a-b5a7aa24addd div.sk-dashed-wrapped {border: 1px dashed gray;margin: 0.2em;box-sizing: border-box;padding-bottom: 0.1em;background-color: white;position: relative;}#sk-bc802cb2-8d82-4a46-891a-b5a7aa24addd div.sk-label label {font-family: monospace;font-weight: bold;background-color: white;display: inline-block;line-height: 1.2em;}#sk-bc802cb2-8d82-4a46-891a-b5a7aa24addd div.sk-label-container {position: relative;z-index: 2;text-align: center;}#sk-bc802cb2-8d82-4a46-891a-b5a7aa24addd div.sk-container {display: inline-block;position: relative;}</style><div id=\"sk-bc802cb2-8d82-4a46-891a-b5a7aa24addd\" class\"sk-top-container\"><div class=\"sk-container\"><div class=\"sk-item sk-dashed-wrapped\"><div class=\"sk-label-container\"><div class=\"sk-label sk-toggleable\"><input class=\"sk-toggleable__control sk-hidden--visually\" id=\"88ce002e-21df-4389-baaf-03c8905c4548\" type=\"checkbox\" ><label class=\"sk-toggleable__label\" for=\"88ce002e-21df-4389-baaf-03c8905c4548\">Pipeline</label><div class=\"sk-toggleable__content\"><pre>Pipeline(steps=[('standardscaler', StandardScaler()),\n",
       "                ('kneighborsclassifier', KNeighborsClassifier())])</pre></div></div></div><div class=\"sk-serial\"><div class=\"sk-item\"><div class=\"sk-estimator sk-toggleable\"><input class=\"sk-toggleable__control sk-hidden--visually\" id=\"bafaf2b0-6da9-4adc-a7a6-beb91fec4f70\" type=\"checkbox\" ><label class=\"sk-toggleable__label\" for=\"bafaf2b0-6da9-4adc-a7a6-beb91fec4f70\">StandardScaler</label><div class=\"sk-toggleable__content\"><pre>StandardScaler()</pre></div></div></div><div class=\"sk-item\"><div class=\"sk-estimator sk-toggleable\"><input class=\"sk-toggleable__control sk-hidden--visually\" id=\"bee28f76-c1ce-4477-b5fe-078bb3580089\" type=\"checkbox\" ><label class=\"sk-toggleable__label\" for=\"bee28f76-c1ce-4477-b5fe-078bb3580089\">KNeighborsClassifier</label><div class=\"sk-toggleable__content\"><pre>KNeighborsClassifier()</pre></div></div></div></div></div></div></div>"
      ],
      "text/plain": [
       "Pipeline(steps=[('standardscaler', StandardScaler()),\n",
       "                ('kneighborsclassifier', KNeighborsClassifier())])"
      ]
     },
     "execution_count": 18,
     "metadata": {},
     "output_type": "execute_result"
    }
   ],
   "source": [
    "knn_model = make_pipeline(StandardScaler(), \n",
    "                          KNeighborsClassifier(),\n",
    "                         )\n",
    "\n",
    "knn_model"
   ]
  },
  {
   "cell_type": "code",
   "execution_count": 19,
   "id": "3513a403-f1b8-4c3c-88e1-b29a9c3218ef",
   "metadata": {},
   "outputs": [
    {
     "data": {
      "text/html": [
       "<style>#sk-605888c4-9ef4-4377-ae20-f703b7472acf {color: black;background-color: white;}#sk-605888c4-9ef4-4377-ae20-f703b7472acf pre{padding: 0;}#sk-605888c4-9ef4-4377-ae20-f703b7472acf div.sk-toggleable {background-color: white;}#sk-605888c4-9ef4-4377-ae20-f703b7472acf label.sk-toggleable__label {cursor: pointer;display: block;width: 100%;margin-bottom: 0;padding: 0.2em 0.3em;box-sizing: border-box;text-align: center;}#sk-605888c4-9ef4-4377-ae20-f703b7472acf div.sk-toggleable__content {max-height: 0;max-width: 0;overflow: hidden;text-align: left;background-color: #f0f8ff;}#sk-605888c4-9ef4-4377-ae20-f703b7472acf div.sk-toggleable__content pre {margin: 0.2em;color: black;border-radius: 0.25em;background-color: #f0f8ff;}#sk-605888c4-9ef4-4377-ae20-f703b7472acf input.sk-toggleable__control:checked~div.sk-toggleable__content {max-height: 200px;max-width: 100%;overflow: auto;}#sk-605888c4-9ef4-4377-ae20-f703b7472acf div.sk-estimator input.sk-toggleable__control:checked~label.sk-toggleable__label {background-color: #d4ebff;}#sk-605888c4-9ef4-4377-ae20-f703b7472acf div.sk-label input.sk-toggleable__control:checked~label.sk-toggleable__label {background-color: #d4ebff;}#sk-605888c4-9ef4-4377-ae20-f703b7472acf input.sk-hidden--visually {border: 0;clip: rect(1px 1px 1px 1px);clip: rect(1px, 1px, 1px, 1px);height: 1px;margin: -1px;overflow: hidden;padding: 0;position: absolute;width: 1px;}#sk-605888c4-9ef4-4377-ae20-f703b7472acf div.sk-estimator {font-family: monospace;background-color: #f0f8ff;margin: 0.25em 0.25em;border: 1px dotted black;border-radius: 0.25em;box-sizing: border-box;}#sk-605888c4-9ef4-4377-ae20-f703b7472acf div.sk-estimator:hover {background-color: #d4ebff;}#sk-605888c4-9ef4-4377-ae20-f703b7472acf div.sk-parallel-item::after {content: \"\";width: 100%;border-bottom: 1px solid gray;flex-grow: 1;}#sk-605888c4-9ef4-4377-ae20-f703b7472acf div.sk-label:hover label.sk-toggleable__label {background-color: #d4ebff;}#sk-605888c4-9ef4-4377-ae20-f703b7472acf div.sk-serial::before {content: \"\";position: absolute;border-left: 1px solid gray;box-sizing: border-box;top: 2em;bottom: 0;left: 50%;}#sk-605888c4-9ef4-4377-ae20-f703b7472acf div.sk-serial {display: flex;flex-direction: column;align-items: center;background-color: white;}#sk-605888c4-9ef4-4377-ae20-f703b7472acf div.sk-item {z-index: 1;}#sk-605888c4-9ef4-4377-ae20-f703b7472acf div.sk-parallel {display: flex;align-items: stretch;justify-content: center;background-color: white;}#sk-605888c4-9ef4-4377-ae20-f703b7472acf div.sk-parallel-item {display: flex;flex-direction: column;position: relative;background-color: white;}#sk-605888c4-9ef4-4377-ae20-f703b7472acf div.sk-parallel-item:first-child::after {align-self: flex-end;width: 50%;}#sk-605888c4-9ef4-4377-ae20-f703b7472acf div.sk-parallel-item:last-child::after {align-self: flex-start;width: 50%;}#sk-605888c4-9ef4-4377-ae20-f703b7472acf div.sk-parallel-item:only-child::after {width: 0;}#sk-605888c4-9ef4-4377-ae20-f703b7472acf div.sk-dashed-wrapped {border: 1px dashed gray;margin: 0.2em;box-sizing: border-box;padding-bottom: 0.1em;background-color: white;position: relative;}#sk-605888c4-9ef4-4377-ae20-f703b7472acf div.sk-label label {font-family: monospace;font-weight: bold;background-color: white;display: inline-block;line-height: 1.2em;}#sk-605888c4-9ef4-4377-ae20-f703b7472acf div.sk-label-container {position: relative;z-index: 2;text-align: center;}#sk-605888c4-9ef4-4377-ae20-f703b7472acf div.sk-container {display: inline-block;position: relative;}</style><div id=\"sk-605888c4-9ef4-4377-ae20-f703b7472acf\" class\"sk-top-container\"><div class=\"sk-container\"><div class=\"sk-item sk-dashed-wrapped\"><div class=\"sk-label-container\"><div class=\"sk-label sk-toggleable\"><input class=\"sk-toggleable__control sk-hidden--visually\" id=\"e4df04a2-6569-4b37-b12b-fc25c08af1c0\" type=\"checkbox\" ><label class=\"sk-toggleable__label\" for=\"e4df04a2-6569-4b37-b12b-fc25c08af1c0\">Pipeline</label><div class=\"sk-toggleable__content\"><pre>Pipeline(steps=[('standardscaler', StandardScaler()),\n",
       "                ('decisiontreeclassifier', DecisionTreeClassifier())])</pre></div></div></div><div class=\"sk-serial\"><div class=\"sk-item\"><div class=\"sk-estimator sk-toggleable\"><input class=\"sk-toggleable__control sk-hidden--visually\" id=\"e264f4ea-17f6-421d-8ffd-2cae1a796f09\" type=\"checkbox\" ><label class=\"sk-toggleable__label\" for=\"e264f4ea-17f6-421d-8ffd-2cae1a796f09\">StandardScaler</label><div class=\"sk-toggleable__content\"><pre>StandardScaler()</pre></div></div></div><div class=\"sk-item\"><div class=\"sk-estimator sk-toggleable\"><input class=\"sk-toggleable__control sk-hidden--visually\" id=\"65cbfe9e-43f8-4c62-969c-1ca76a39a203\" type=\"checkbox\" ><label class=\"sk-toggleable__label\" for=\"65cbfe9e-43f8-4c62-969c-1ca76a39a203\">DecisionTreeClassifier</label><div class=\"sk-toggleable__content\"><pre>DecisionTreeClassifier()</pre></div></div></div></div></div></div></div>"
      ],
      "text/plain": [
       "Pipeline(steps=[('standardscaler', StandardScaler()),\n",
       "                ('decisiontreeclassifier', DecisionTreeClassifier())])"
      ]
     },
     "execution_count": 19,
     "metadata": {},
     "output_type": "execute_result"
    }
   ],
   "source": [
    "tree_model = make_pipeline(StandardScaler(), \n",
    "                           DecisionTreeClassifier(),\n",
    "                          )\n",
    "\n",
    "tree_model"
   ]
  },
  {
   "cell_type": "code",
   "execution_count": 20,
   "id": "3ffe4d33-6113-4681-9667-bed499208743",
   "metadata": {},
   "outputs": [
    {
     "data": {
      "text/html": [
       "<style>#sk-6af491ed-f25a-410d-b87a-40f1f5278e9f {color: black;background-color: white;}#sk-6af491ed-f25a-410d-b87a-40f1f5278e9f pre{padding: 0;}#sk-6af491ed-f25a-410d-b87a-40f1f5278e9f div.sk-toggleable {background-color: white;}#sk-6af491ed-f25a-410d-b87a-40f1f5278e9f label.sk-toggleable__label {cursor: pointer;display: block;width: 100%;margin-bottom: 0;padding: 0.2em 0.3em;box-sizing: border-box;text-align: center;}#sk-6af491ed-f25a-410d-b87a-40f1f5278e9f div.sk-toggleable__content {max-height: 0;max-width: 0;overflow: hidden;text-align: left;background-color: #f0f8ff;}#sk-6af491ed-f25a-410d-b87a-40f1f5278e9f div.sk-toggleable__content pre {margin: 0.2em;color: black;border-radius: 0.25em;background-color: #f0f8ff;}#sk-6af491ed-f25a-410d-b87a-40f1f5278e9f input.sk-toggleable__control:checked~div.sk-toggleable__content {max-height: 200px;max-width: 100%;overflow: auto;}#sk-6af491ed-f25a-410d-b87a-40f1f5278e9f div.sk-estimator input.sk-toggleable__control:checked~label.sk-toggleable__label {background-color: #d4ebff;}#sk-6af491ed-f25a-410d-b87a-40f1f5278e9f div.sk-label input.sk-toggleable__control:checked~label.sk-toggleable__label {background-color: #d4ebff;}#sk-6af491ed-f25a-410d-b87a-40f1f5278e9f input.sk-hidden--visually {border: 0;clip: rect(1px 1px 1px 1px);clip: rect(1px, 1px, 1px, 1px);height: 1px;margin: -1px;overflow: hidden;padding: 0;position: absolute;width: 1px;}#sk-6af491ed-f25a-410d-b87a-40f1f5278e9f div.sk-estimator {font-family: monospace;background-color: #f0f8ff;margin: 0.25em 0.25em;border: 1px dotted black;border-radius: 0.25em;box-sizing: border-box;}#sk-6af491ed-f25a-410d-b87a-40f1f5278e9f div.sk-estimator:hover {background-color: #d4ebff;}#sk-6af491ed-f25a-410d-b87a-40f1f5278e9f div.sk-parallel-item::after {content: \"\";width: 100%;border-bottom: 1px solid gray;flex-grow: 1;}#sk-6af491ed-f25a-410d-b87a-40f1f5278e9f div.sk-label:hover label.sk-toggleable__label {background-color: #d4ebff;}#sk-6af491ed-f25a-410d-b87a-40f1f5278e9f div.sk-serial::before {content: \"\";position: absolute;border-left: 1px solid gray;box-sizing: border-box;top: 2em;bottom: 0;left: 50%;}#sk-6af491ed-f25a-410d-b87a-40f1f5278e9f div.sk-serial {display: flex;flex-direction: column;align-items: center;background-color: white;}#sk-6af491ed-f25a-410d-b87a-40f1f5278e9f div.sk-item {z-index: 1;}#sk-6af491ed-f25a-410d-b87a-40f1f5278e9f div.sk-parallel {display: flex;align-items: stretch;justify-content: center;background-color: white;}#sk-6af491ed-f25a-410d-b87a-40f1f5278e9f div.sk-parallel-item {display: flex;flex-direction: column;position: relative;background-color: white;}#sk-6af491ed-f25a-410d-b87a-40f1f5278e9f div.sk-parallel-item:first-child::after {align-self: flex-end;width: 50%;}#sk-6af491ed-f25a-410d-b87a-40f1f5278e9f div.sk-parallel-item:last-child::after {align-self: flex-start;width: 50%;}#sk-6af491ed-f25a-410d-b87a-40f1f5278e9f div.sk-parallel-item:only-child::after {width: 0;}#sk-6af491ed-f25a-410d-b87a-40f1f5278e9f div.sk-dashed-wrapped {border: 1px dashed gray;margin: 0.2em;box-sizing: border-box;padding-bottom: 0.1em;background-color: white;position: relative;}#sk-6af491ed-f25a-410d-b87a-40f1f5278e9f div.sk-label label {font-family: monospace;font-weight: bold;background-color: white;display: inline-block;line-height: 1.2em;}#sk-6af491ed-f25a-410d-b87a-40f1f5278e9f div.sk-label-container {position: relative;z-index: 2;text-align: center;}#sk-6af491ed-f25a-410d-b87a-40f1f5278e9f div.sk-container {display: inline-block;position: relative;}</style><div id=\"sk-6af491ed-f25a-410d-b87a-40f1f5278e9f\" class\"sk-top-container\"><div class=\"sk-container\"><div class=\"sk-item sk-dashed-wrapped\"><div class=\"sk-label-container\"><div class=\"sk-label sk-toggleable\"><input class=\"sk-toggleable__control sk-hidden--visually\" id=\"dca8c962-cfbe-4f8a-b106-489d88a367d0\" type=\"checkbox\" ><label class=\"sk-toggleable__label\" for=\"dca8c962-cfbe-4f8a-b106-489d88a367d0\">Pipeline</label><div class=\"sk-toggleable__content\"><pre>Pipeline(steps=[('standardscaler', StandardScaler()),\n",
       "                ('histgradientboostingclassifier',\n",
       "                 HistGradientBoostingClassifier())])</pre></div></div></div><div class=\"sk-serial\"><div class=\"sk-item\"><div class=\"sk-estimator sk-toggleable\"><input class=\"sk-toggleable__control sk-hidden--visually\" id=\"e04e4e90-f829-4d67-9d88-d2cc8ae4365a\" type=\"checkbox\" ><label class=\"sk-toggleable__label\" for=\"e04e4e90-f829-4d67-9d88-d2cc8ae4365a\">StandardScaler</label><div class=\"sk-toggleable__content\"><pre>StandardScaler()</pre></div></div></div><div class=\"sk-item\"><div class=\"sk-estimator sk-toggleable\"><input class=\"sk-toggleable__control sk-hidden--visually\" id=\"18f39ada-a73a-4ba6-bcb6-590bd5884f96\" type=\"checkbox\" ><label class=\"sk-toggleable__label\" for=\"18f39ada-a73a-4ba6-bcb6-590bd5884f96\">HistGradientBoostingClassifier</label><div class=\"sk-toggleable__content\"><pre>HistGradientBoostingClassifier()</pre></div></div></div></div></div></div></div>"
      ],
      "text/plain": [
       "Pipeline(steps=[('standardscaler', StandardScaler()),\n",
       "                ('histgradientboostingclassifier',\n",
       "                 HistGradientBoostingClassifier())])"
      ]
     },
     "execution_count": 20,
     "metadata": {},
     "output_type": "execute_result"
    }
   ],
   "source": [
    "histboost_model = make_pipeline(StandardScaler(), \n",
    "                                HistGradientBoostingClassifier(),\n",
    "                                )\n",
    "\n",
    "histboost_model"
   ]
  },
  {
   "cell_type": "markdown",
   "id": "ee0ed0b0-277f-4f44-945d-ab89afde3336",
   "metadata": {
    "tags": []
   },
   "source": [
    "### <font style = \"color:rgb(125, 41, 243)\"> **Split Training \\& Test Data** </font>\n",
    "\n",
    "#### <font style = \"color:rgb(125, 41, 243)\"> **2-Feature split** </font>"
   ]
  },
  {
   "cell_type": "code",
   "execution_count": 22,
   "id": "abc88748-73b9-45c1-bb72-4d9d6b1c8bbb",
   "metadata": {
    "tags": []
   },
   "outputs": [],
   "source": [
    "data_train2f, data_test2f, target_train2f, target_test2f = train_test_split(data_2features, \n",
    "                                                                            target,\n",
    "                                                                            train_size = 0.80\n",
    "                                                                            )"
   ]
  },
  {
   "cell_type": "markdown",
   "id": "c5b7126d-a139-4ecb-8c81-d4173cb62911",
   "metadata": {},
   "source": [
    "#### <font style = \"color:rgb(125, 41, 243)\"> **3-Feature split** </font>"
   ]
  },
  {
   "cell_type": "code",
   "execution_count": 23,
   "id": "658d05c1-5b20-4e65-9809-d424f5d7cb0f",
   "metadata": {},
   "outputs": [],
   "source": [
    "data_train3f, data_test3f, target_train3f, target_test3f = train_test_split(data_3features, \n",
    "                                                                            target,\n",
    "                                                                            train_size = 0.80\n",
    "                                                                            )"
   ]
  },
  {
   "cell_type": "markdown",
   "id": "14e5a128-e222-405f-b906-fba9b95cbf28",
   "metadata": {
    "tags": []
   },
   "source": [
    "### <font style = \"color:rgb(125, 41, 243)\"> **2-Feature Model fitting** </font>\n",
    "\n",
    "#### <font style = \"color:rgb(125, 41, 243)\"> **Logistic Regression** </font>"
   ]
  },
  {
   "cell_type": "code",
   "execution_count": 24,
   "id": "9b82f894-d8f8-46c5-9140-1f08c548e3d8",
   "metadata": {},
   "outputs": [
    {
     "name": "stdout",
     "output_type": "stream",
     "text": [
      "CPU times: user 2 µs, sys: 1e+03 ns, total: 3 µs\n",
      "Wall time: 5.01 µs\n"
     ]
    },
    {
     "data": {
      "text/html": [
       "<style>#sk-9df3c129-fe36-4367-a33f-12d384a44892 {color: black;background-color: white;}#sk-9df3c129-fe36-4367-a33f-12d384a44892 pre{padding: 0;}#sk-9df3c129-fe36-4367-a33f-12d384a44892 div.sk-toggleable {background-color: white;}#sk-9df3c129-fe36-4367-a33f-12d384a44892 label.sk-toggleable__label {cursor: pointer;display: block;width: 100%;margin-bottom: 0;padding: 0.2em 0.3em;box-sizing: border-box;text-align: center;}#sk-9df3c129-fe36-4367-a33f-12d384a44892 div.sk-toggleable__content {max-height: 0;max-width: 0;overflow: hidden;text-align: left;background-color: #f0f8ff;}#sk-9df3c129-fe36-4367-a33f-12d384a44892 div.sk-toggleable__content pre {margin: 0.2em;color: black;border-radius: 0.25em;background-color: #f0f8ff;}#sk-9df3c129-fe36-4367-a33f-12d384a44892 input.sk-toggleable__control:checked~div.sk-toggleable__content {max-height: 200px;max-width: 100%;overflow: auto;}#sk-9df3c129-fe36-4367-a33f-12d384a44892 div.sk-estimator input.sk-toggleable__control:checked~label.sk-toggleable__label {background-color: #d4ebff;}#sk-9df3c129-fe36-4367-a33f-12d384a44892 div.sk-label input.sk-toggleable__control:checked~label.sk-toggleable__label {background-color: #d4ebff;}#sk-9df3c129-fe36-4367-a33f-12d384a44892 input.sk-hidden--visually {border: 0;clip: rect(1px 1px 1px 1px);clip: rect(1px, 1px, 1px, 1px);height: 1px;margin: -1px;overflow: hidden;padding: 0;position: absolute;width: 1px;}#sk-9df3c129-fe36-4367-a33f-12d384a44892 div.sk-estimator {font-family: monospace;background-color: #f0f8ff;margin: 0.25em 0.25em;border: 1px dotted black;border-radius: 0.25em;box-sizing: border-box;}#sk-9df3c129-fe36-4367-a33f-12d384a44892 div.sk-estimator:hover {background-color: #d4ebff;}#sk-9df3c129-fe36-4367-a33f-12d384a44892 div.sk-parallel-item::after {content: \"\";width: 100%;border-bottom: 1px solid gray;flex-grow: 1;}#sk-9df3c129-fe36-4367-a33f-12d384a44892 div.sk-label:hover label.sk-toggleable__label {background-color: #d4ebff;}#sk-9df3c129-fe36-4367-a33f-12d384a44892 div.sk-serial::before {content: \"\";position: absolute;border-left: 1px solid gray;box-sizing: border-box;top: 2em;bottom: 0;left: 50%;}#sk-9df3c129-fe36-4367-a33f-12d384a44892 div.sk-serial {display: flex;flex-direction: column;align-items: center;background-color: white;}#sk-9df3c129-fe36-4367-a33f-12d384a44892 div.sk-item {z-index: 1;}#sk-9df3c129-fe36-4367-a33f-12d384a44892 div.sk-parallel {display: flex;align-items: stretch;justify-content: center;background-color: white;}#sk-9df3c129-fe36-4367-a33f-12d384a44892 div.sk-parallel-item {display: flex;flex-direction: column;position: relative;background-color: white;}#sk-9df3c129-fe36-4367-a33f-12d384a44892 div.sk-parallel-item:first-child::after {align-self: flex-end;width: 50%;}#sk-9df3c129-fe36-4367-a33f-12d384a44892 div.sk-parallel-item:last-child::after {align-self: flex-start;width: 50%;}#sk-9df3c129-fe36-4367-a33f-12d384a44892 div.sk-parallel-item:only-child::after {width: 0;}#sk-9df3c129-fe36-4367-a33f-12d384a44892 div.sk-dashed-wrapped {border: 1px dashed gray;margin: 0.2em;box-sizing: border-box;padding-bottom: 0.1em;background-color: white;position: relative;}#sk-9df3c129-fe36-4367-a33f-12d384a44892 div.sk-label label {font-family: monospace;font-weight: bold;background-color: white;display: inline-block;line-height: 1.2em;}#sk-9df3c129-fe36-4367-a33f-12d384a44892 div.sk-label-container {position: relative;z-index: 2;text-align: center;}#sk-9df3c129-fe36-4367-a33f-12d384a44892 div.sk-container {display: inline-block;position: relative;}</style><div id=\"sk-9df3c129-fe36-4367-a33f-12d384a44892\" class\"sk-top-container\"><div class=\"sk-container\"><div class=\"sk-item sk-dashed-wrapped\"><div class=\"sk-label-container\"><div class=\"sk-label sk-toggleable\"><input class=\"sk-toggleable__control sk-hidden--visually\" id=\"d029e1fe-90d9-4c69-b5e1-332ff1e70714\" type=\"checkbox\" ><label class=\"sk-toggleable__label\" for=\"d029e1fe-90d9-4c69-b5e1-332ff1e70714\">Pipeline</label><div class=\"sk-toggleable__content\"><pre>Pipeline(steps=[('standardscaler', StandardScaler()),\n",
       "                ('logisticregression', LogisticRegression())])</pre></div></div></div><div class=\"sk-serial\"><div class=\"sk-item\"><div class=\"sk-estimator sk-toggleable\"><input class=\"sk-toggleable__control sk-hidden--visually\" id=\"5522bd33-863a-4c56-8103-9a4527ed33e7\" type=\"checkbox\" ><label class=\"sk-toggleable__label\" for=\"5522bd33-863a-4c56-8103-9a4527ed33e7\">StandardScaler</label><div class=\"sk-toggleable__content\"><pre>StandardScaler()</pre></div></div></div><div class=\"sk-item\"><div class=\"sk-estimator sk-toggleable\"><input class=\"sk-toggleable__control sk-hidden--visually\" id=\"0a9ba6e8-2ca7-4506-b259-75e5320b5012\" type=\"checkbox\" ><label class=\"sk-toggleable__label\" for=\"0a9ba6e8-2ca7-4506-b259-75e5320b5012\">LogisticRegression</label><div class=\"sk-toggleable__content\"><pre>LogisticRegression()</pre></div></div></div></div></div></div></div>"
      ],
      "text/plain": [
       "Pipeline(steps=[('standardscaler', StandardScaler()),\n",
       "                ('logisticregression', LogisticRegression())])"
      ]
     },
     "execution_count": 24,
     "metadata": {},
     "output_type": "execute_result"
    }
   ],
   "source": [
    "# Logistic Regression Model fitting with training data \n",
    "\n",
    "%time\n",
    "\n",
    "logistic_regression_model.fit(data_train2f, target_train2f)"
   ]
  },
  {
   "cell_type": "markdown",
   "id": "942dd8a2-cf19-4c53-9fff-c6edd23e0278",
   "metadata": {},
   "source": [
    "#### <font style = \"color:rgb(125, 41, 243)\"> **SGDClasifier** </font>"
   ]
  },
  {
   "cell_type": "code",
   "execution_count": 25,
   "id": "150d93f6-5fda-4b74-afb2-54875a7af0b9",
   "metadata": {},
   "outputs": [
    {
     "name": "stdout",
     "output_type": "stream",
     "text": [
      "CPU times: user 4 µs, sys: 1e+03 ns, total: 5 µs\n",
      "Wall time: 7.39 µs\n"
     ]
    },
    {
     "data": {
      "text/html": [
       "<style>#sk-92cb9737-aa25-4938-af41-73e621f8d129 {color: black;background-color: white;}#sk-92cb9737-aa25-4938-af41-73e621f8d129 pre{padding: 0;}#sk-92cb9737-aa25-4938-af41-73e621f8d129 div.sk-toggleable {background-color: white;}#sk-92cb9737-aa25-4938-af41-73e621f8d129 label.sk-toggleable__label {cursor: pointer;display: block;width: 100%;margin-bottom: 0;padding: 0.2em 0.3em;box-sizing: border-box;text-align: center;}#sk-92cb9737-aa25-4938-af41-73e621f8d129 div.sk-toggleable__content {max-height: 0;max-width: 0;overflow: hidden;text-align: left;background-color: #f0f8ff;}#sk-92cb9737-aa25-4938-af41-73e621f8d129 div.sk-toggleable__content pre {margin: 0.2em;color: black;border-radius: 0.25em;background-color: #f0f8ff;}#sk-92cb9737-aa25-4938-af41-73e621f8d129 input.sk-toggleable__control:checked~div.sk-toggleable__content {max-height: 200px;max-width: 100%;overflow: auto;}#sk-92cb9737-aa25-4938-af41-73e621f8d129 div.sk-estimator input.sk-toggleable__control:checked~label.sk-toggleable__label {background-color: #d4ebff;}#sk-92cb9737-aa25-4938-af41-73e621f8d129 div.sk-label input.sk-toggleable__control:checked~label.sk-toggleable__label {background-color: #d4ebff;}#sk-92cb9737-aa25-4938-af41-73e621f8d129 input.sk-hidden--visually {border: 0;clip: rect(1px 1px 1px 1px);clip: rect(1px, 1px, 1px, 1px);height: 1px;margin: -1px;overflow: hidden;padding: 0;position: absolute;width: 1px;}#sk-92cb9737-aa25-4938-af41-73e621f8d129 div.sk-estimator {font-family: monospace;background-color: #f0f8ff;margin: 0.25em 0.25em;border: 1px dotted black;border-radius: 0.25em;box-sizing: border-box;}#sk-92cb9737-aa25-4938-af41-73e621f8d129 div.sk-estimator:hover {background-color: #d4ebff;}#sk-92cb9737-aa25-4938-af41-73e621f8d129 div.sk-parallel-item::after {content: \"\";width: 100%;border-bottom: 1px solid gray;flex-grow: 1;}#sk-92cb9737-aa25-4938-af41-73e621f8d129 div.sk-label:hover label.sk-toggleable__label {background-color: #d4ebff;}#sk-92cb9737-aa25-4938-af41-73e621f8d129 div.sk-serial::before {content: \"\";position: absolute;border-left: 1px solid gray;box-sizing: border-box;top: 2em;bottom: 0;left: 50%;}#sk-92cb9737-aa25-4938-af41-73e621f8d129 div.sk-serial {display: flex;flex-direction: column;align-items: center;background-color: white;}#sk-92cb9737-aa25-4938-af41-73e621f8d129 div.sk-item {z-index: 1;}#sk-92cb9737-aa25-4938-af41-73e621f8d129 div.sk-parallel {display: flex;align-items: stretch;justify-content: center;background-color: white;}#sk-92cb9737-aa25-4938-af41-73e621f8d129 div.sk-parallel-item {display: flex;flex-direction: column;position: relative;background-color: white;}#sk-92cb9737-aa25-4938-af41-73e621f8d129 div.sk-parallel-item:first-child::after {align-self: flex-end;width: 50%;}#sk-92cb9737-aa25-4938-af41-73e621f8d129 div.sk-parallel-item:last-child::after {align-self: flex-start;width: 50%;}#sk-92cb9737-aa25-4938-af41-73e621f8d129 div.sk-parallel-item:only-child::after {width: 0;}#sk-92cb9737-aa25-4938-af41-73e621f8d129 div.sk-dashed-wrapped {border: 1px dashed gray;margin: 0.2em;box-sizing: border-box;padding-bottom: 0.1em;background-color: white;position: relative;}#sk-92cb9737-aa25-4938-af41-73e621f8d129 div.sk-label label {font-family: monospace;font-weight: bold;background-color: white;display: inline-block;line-height: 1.2em;}#sk-92cb9737-aa25-4938-af41-73e621f8d129 div.sk-label-container {position: relative;z-index: 2;text-align: center;}#sk-92cb9737-aa25-4938-af41-73e621f8d129 div.sk-container {display: inline-block;position: relative;}</style><div id=\"sk-92cb9737-aa25-4938-af41-73e621f8d129\" class\"sk-top-container\"><div class=\"sk-container\"><div class=\"sk-item sk-dashed-wrapped\"><div class=\"sk-label-container\"><div class=\"sk-label sk-toggleable\"><input class=\"sk-toggleable__control sk-hidden--visually\" id=\"a4d12475-3fac-4c56-9db2-8e44a7aff707\" type=\"checkbox\" ><label class=\"sk-toggleable__label\" for=\"a4d12475-3fac-4c56-9db2-8e44a7aff707\">Pipeline</label><div class=\"sk-toggleable__content\"><pre>Pipeline(steps=[('standardscaler', StandardScaler()),\n",
       "                ('sgdclassifier', SGDClassifier())])</pre></div></div></div><div class=\"sk-serial\"><div class=\"sk-item\"><div class=\"sk-estimator sk-toggleable\"><input class=\"sk-toggleable__control sk-hidden--visually\" id=\"e55bc5b4-82dd-4861-a36e-1dfad13bf972\" type=\"checkbox\" ><label class=\"sk-toggleable__label\" for=\"e55bc5b4-82dd-4861-a36e-1dfad13bf972\">StandardScaler</label><div class=\"sk-toggleable__content\"><pre>StandardScaler()</pre></div></div></div><div class=\"sk-item\"><div class=\"sk-estimator sk-toggleable\"><input class=\"sk-toggleable__control sk-hidden--visually\" id=\"4c51025a-031f-43db-b570-0a4090c9bb5d\" type=\"checkbox\" ><label class=\"sk-toggleable__label\" for=\"4c51025a-031f-43db-b570-0a4090c9bb5d\">SGDClassifier</label><div class=\"sk-toggleable__content\"><pre>SGDClassifier()</pre></div></div></div></div></div></div></div>"
      ],
      "text/plain": [
       "Pipeline(steps=[('standardscaler', StandardScaler()),\n",
       "                ('sgdclassifier', SGDClassifier())])"
      ]
     },
     "execution_count": 25,
     "metadata": {},
     "output_type": "execute_result"
    }
   ],
   "source": [
    "# SGDClasifier Model fitting with training data\n",
    "\n",
    "%time\n",
    "\n",
    "sgdc_model.fit(data_train2f, target_train2f)"
   ]
  },
  {
   "cell_type": "markdown",
   "id": "d1c6c6fe-8229-4461-a905-6be1c5fec445",
   "metadata": {},
   "source": [
    "#### <font style = \"color:rgb(125, 41, 243)\"> **SVClasifier** </font>"
   ]
  },
  {
   "cell_type": "code",
   "execution_count": 26,
   "id": "277d172e-2c74-4bf7-97db-150fae97f4eb",
   "metadata": {},
   "outputs": [
    {
     "name": "stdout",
     "output_type": "stream",
     "text": [
      "CPU times: user 3 µs, sys: 0 ns, total: 3 µs\n",
      "Wall time: 9.06 µs\n"
     ]
    },
    {
     "data": {
      "text/html": [
       "<style>#sk-85e43ee3-6d15-4662-b0bb-17636a8716c0 {color: black;background-color: white;}#sk-85e43ee3-6d15-4662-b0bb-17636a8716c0 pre{padding: 0;}#sk-85e43ee3-6d15-4662-b0bb-17636a8716c0 div.sk-toggleable {background-color: white;}#sk-85e43ee3-6d15-4662-b0bb-17636a8716c0 label.sk-toggleable__label {cursor: pointer;display: block;width: 100%;margin-bottom: 0;padding: 0.2em 0.3em;box-sizing: border-box;text-align: center;}#sk-85e43ee3-6d15-4662-b0bb-17636a8716c0 div.sk-toggleable__content {max-height: 0;max-width: 0;overflow: hidden;text-align: left;background-color: #f0f8ff;}#sk-85e43ee3-6d15-4662-b0bb-17636a8716c0 div.sk-toggleable__content pre {margin: 0.2em;color: black;border-radius: 0.25em;background-color: #f0f8ff;}#sk-85e43ee3-6d15-4662-b0bb-17636a8716c0 input.sk-toggleable__control:checked~div.sk-toggleable__content {max-height: 200px;max-width: 100%;overflow: auto;}#sk-85e43ee3-6d15-4662-b0bb-17636a8716c0 div.sk-estimator input.sk-toggleable__control:checked~label.sk-toggleable__label {background-color: #d4ebff;}#sk-85e43ee3-6d15-4662-b0bb-17636a8716c0 div.sk-label input.sk-toggleable__control:checked~label.sk-toggleable__label {background-color: #d4ebff;}#sk-85e43ee3-6d15-4662-b0bb-17636a8716c0 input.sk-hidden--visually {border: 0;clip: rect(1px 1px 1px 1px);clip: rect(1px, 1px, 1px, 1px);height: 1px;margin: -1px;overflow: hidden;padding: 0;position: absolute;width: 1px;}#sk-85e43ee3-6d15-4662-b0bb-17636a8716c0 div.sk-estimator {font-family: monospace;background-color: #f0f8ff;margin: 0.25em 0.25em;border: 1px dotted black;border-radius: 0.25em;box-sizing: border-box;}#sk-85e43ee3-6d15-4662-b0bb-17636a8716c0 div.sk-estimator:hover {background-color: #d4ebff;}#sk-85e43ee3-6d15-4662-b0bb-17636a8716c0 div.sk-parallel-item::after {content: \"\";width: 100%;border-bottom: 1px solid gray;flex-grow: 1;}#sk-85e43ee3-6d15-4662-b0bb-17636a8716c0 div.sk-label:hover label.sk-toggleable__label {background-color: #d4ebff;}#sk-85e43ee3-6d15-4662-b0bb-17636a8716c0 div.sk-serial::before {content: \"\";position: absolute;border-left: 1px solid gray;box-sizing: border-box;top: 2em;bottom: 0;left: 50%;}#sk-85e43ee3-6d15-4662-b0bb-17636a8716c0 div.sk-serial {display: flex;flex-direction: column;align-items: center;background-color: white;}#sk-85e43ee3-6d15-4662-b0bb-17636a8716c0 div.sk-item {z-index: 1;}#sk-85e43ee3-6d15-4662-b0bb-17636a8716c0 div.sk-parallel {display: flex;align-items: stretch;justify-content: center;background-color: white;}#sk-85e43ee3-6d15-4662-b0bb-17636a8716c0 div.sk-parallel-item {display: flex;flex-direction: column;position: relative;background-color: white;}#sk-85e43ee3-6d15-4662-b0bb-17636a8716c0 div.sk-parallel-item:first-child::after {align-self: flex-end;width: 50%;}#sk-85e43ee3-6d15-4662-b0bb-17636a8716c0 div.sk-parallel-item:last-child::after {align-self: flex-start;width: 50%;}#sk-85e43ee3-6d15-4662-b0bb-17636a8716c0 div.sk-parallel-item:only-child::after {width: 0;}#sk-85e43ee3-6d15-4662-b0bb-17636a8716c0 div.sk-dashed-wrapped {border: 1px dashed gray;margin: 0.2em;box-sizing: border-box;padding-bottom: 0.1em;background-color: white;position: relative;}#sk-85e43ee3-6d15-4662-b0bb-17636a8716c0 div.sk-label label {font-family: monospace;font-weight: bold;background-color: white;display: inline-block;line-height: 1.2em;}#sk-85e43ee3-6d15-4662-b0bb-17636a8716c0 div.sk-label-container {position: relative;z-index: 2;text-align: center;}#sk-85e43ee3-6d15-4662-b0bb-17636a8716c0 div.sk-container {display: inline-block;position: relative;}</style><div id=\"sk-85e43ee3-6d15-4662-b0bb-17636a8716c0\" class\"sk-top-container\"><div class=\"sk-container\"><div class=\"sk-item sk-dashed-wrapped\"><div class=\"sk-label-container\"><div class=\"sk-label sk-toggleable\"><input class=\"sk-toggleable__control sk-hidden--visually\" id=\"519c5481-0bf7-4d42-b920-5bb6534e0e3f\" type=\"checkbox\" ><label class=\"sk-toggleable__label\" for=\"519c5481-0bf7-4d42-b920-5bb6534e0e3f\">Pipeline</label><div class=\"sk-toggleable__content\"><pre>Pipeline(steps=[('standardscaler', StandardScaler()), ('svc', SVC())])</pre></div></div></div><div class=\"sk-serial\"><div class=\"sk-item\"><div class=\"sk-estimator sk-toggleable\"><input class=\"sk-toggleable__control sk-hidden--visually\" id=\"e526ec4b-7ee8-4cf9-9fda-8df9702042d8\" type=\"checkbox\" ><label class=\"sk-toggleable__label\" for=\"e526ec4b-7ee8-4cf9-9fda-8df9702042d8\">StandardScaler</label><div class=\"sk-toggleable__content\"><pre>StandardScaler()</pre></div></div></div><div class=\"sk-item\"><div class=\"sk-estimator sk-toggleable\"><input class=\"sk-toggleable__control sk-hidden--visually\" id=\"735df289-b7d9-4c97-b3c0-31f85a9b2235\" type=\"checkbox\" ><label class=\"sk-toggleable__label\" for=\"735df289-b7d9-4c97-b3c0-31f85a9b2235\">SVC</label><div class=\"sk-toggleable__content\"><pre>SVC()</pre></div></div></div></div></div></div></div>"
      ],
      "text/plain": [
       "Pipeline(steps=[('standardscaler', StandardScaler()), ('svc', SVC())])"
      ]
     },
     "execution_count": 26,
     "metadata": {},
     "output_type": "execute_result"
    }
   ],
   "source": [
    "# SVClasifier Model fitting with training data\n",
    "\n",
    "%time\n",
    "\n",
    "svc_model.fit(data_train2f, target_train2f)"
   ]
  },
  {
   "cell_type": "markdown",
   "id": "776e4931-c056-442e-af2a-f042cd222e1d",
   "metadata": {},
   "source": [
    "#### <font style = \"color:rgb(125, 41, 243)\"> **KNearestNeighbors** </font>"
   ]
  },
  {
   "cell_type": "code",
   "execution_count": 27,
   "id": "7e06062b-efbc-4965-b26d-563f7f5a0d63",
   "metadata": {},
   "outputs": [
    {
     "name": "stdout",
     "output_type": "stream",
     "text": [
      "CPU times: user 7 µs, sys: 1 µs, total: 8 µs\n",
      "Wall time: 13.6 µs\n"
     ]
    },
    {
     "data": {
      "text/html": [
       "<style>#sk-dee0c944-d3fe-4fb2-99dc-aabb7bbcda53 {color: black;background-color: white;}#sk-dee0c944-d3fe-4fb2-99dc-aabb7bbcda53 pre{padding: 0;}#sk-dee0c944-d3fe-4fb2-99dc-aabb7bbcda53 div.sk-toggleable {background-color: white;}#sk-dee0c944-d3fe-4fb2-99dc-aabb7bbcda53 label.sk-toggleable__label {cursor: pointer;display: block;width: 100%;margin-bottom: 0;padding: 0.2em 0.3em;box-sizing: border-box;text-align: center;}#sk-dee0c944-d3fe-4fb2-99dc-aabb7bbcda53 div.sk-toggleable__content {max-height: 0;max-width: 0;overflow: hidden;text-align: left;background-color: #f0f8ff;}#sk-dee0c944-d3fe-4fb2-99dc-aabb7bbcda53 div.sk-toggleable__content pre {margin: 0.2em;color: black;border-radius: 0.25em;background-color: #f0f8ff;}#sk-dee0c944-d3fe-4fb2-99dc-aabb7bbcda53 input.sk-toggleable__control:checked~div.sk-toggleable__content {max-height: 200px;max-width: 100%;overflow: auto;}#sk-dee0c944-d3fe-4fb2-99dc-aabb7bbcda53 div.sk-estimator input.sk-toggleable__control:checked~label.sk-toggleable__label {background-color: #d4ebff;}#sk-dee0c944-d3fe-4fb2-99dc-aabb7bbcda53 div.sk-label input.sk-toggleable__control:checked~label.sk-toggleable__label {background-color: #d4ebff;}#sk-dee0c944-d3fe-4fb2-99dc-aabb7bbcda53 input.sk-hidden--visually {border: 0;clip: rect(1px 1px 1px 1px);clip: rect(1px, 1px, 1px, 1px);height: 1px;margin: -1px;overflow: hidden;padding: 0;position: absolute;width: 1px;}#sk-dee0c944-d3fe-4fb2-99dc-aabb7bbcda53 div.sk-estimator {font-family: monospace;background-color: #f0f8ff;margin: 0.25em 0.25em;border: 1px dotted black;border-radius: 0.25em;box-sizing: border-box;}#sk-dee0c944-d3fe-4fb2-99dc-aabb7bbcda53 div.sk-estimator:hover {background-color: #d4ebff;}#sk-dee0c944-d3fe-4fb2-99dc-aabb7bbcda53 div.sk-parallel-item::after {content: \"\";width: 100%;border-bottom: 1px solid gray;flex-grow: 1;}#sk-dee0c944-d3fe-4fb2-99dc-aabb7bbcda53 div.sk-label:hover label.sk-toggleable__label {background-color: #d4ebff;}#sk-dee0c944-d3fe-4fb2-99dc-aabb7bbcda53 div.sk-serial::before {content: \"\";position: absolute;border-left: 1px solid gray;box-sizing: border-box;top: 2em;bottom: 0;left: 50%;}#sk-dee0c944-d3fe-4fb2-99dc-aabb7bbcda53 div.sk-serial {display: flex;flex-direction: column;align-items: center;background-color: white;}#sk-dee0c944-d3fe-4fb2-99dc-aabb7bbcda53 div.sk-item {z-index: 1;}#sk-dee0c944-d3fe-4fb2-99dc-aabb7bbcda53 div.sk-parallel {display: flex;align-items: stretch;justify-content: center;background-color: white;}#sk-dee0c944-d3fe-4fb2-99dc-aabb7bbcda53 div.sk-parallel-item {display: flex;flex-direction: column;position: relative;background-color: white;}#sk-dee0c944-d3fe-4fb2-99dc-aabb7bbcda53 div.sk-parallel-item:first-child::after {align-self: flex-end;width: 50%;}#sk-dee0c944-d3fe-4fb2-99dc-aabb7bbcda53 div.sk-parallel-item:last-child::after {align-self: flex-start;width: 50%;}#sk-dee0c944-d3fe-4fb2-99dc-aabb7bbcda53 div.sk-parallel-item:only-child::after {width: 0;}#sk-dee0c944-d3fe-4fb2-99dc-aabb7bbcda53 div.sk-dashed-wrapped {border: 1px dashed gray;margin: 0.2em;box-sizing: border-box;padding-bottom: 0.1em;background-color: white;position: relative;}#sk-dee0c944-d3fe-4fb2-99dc-aabb7bbcda53 div.sk-label label {font-family: monospace;font-weight: bold;background-color: white;display: inline-block;line-height: 1.2em;}#sk-dee0c944-d3fe-4fb2-99dc-aabb7bbcda53 div.sk-label-container {position: relative;z-index: 2;text-align: center;}#sk-dee0c944-d3fe-4fb2-99dc-aabb7bbcda53 div.sk-container {display: inline-block;position: relative;}</style><div id=\"sk-dee0c944-d3fe-4fb2-99dc-aabb7bbcda53\" class\"sk-top-container\"><div class=\"sk-container\"><div class=\"sk-item sk-dashed-wrapped\"><div class=\"sk-label-container\"><div class=\"sk-label sk-toggleable\"><input class=\"sk-toggleable__control sk-hidden--visually\" id=\"6f5fa24f-5644-4a1a-a0f8-f104d12dae77\" type=\"checkbox\" ><label class=\"sk-toggleable__label\" for=\"6f5fa24f-5644-4a1a-a0f8-f104d12dae77\">Pipeline</label><div class=\"sk-toggleable__content\"><pre>Pipeline(steps=[('standardscaler', StandardScaler()),\n",
       "                ('kneighborsclassifier', KNeighborsClassifier())])</pre></div></div></div><div class=\"sk-serial\"><div class=\"sk-item\"><div class=\"sk-estimator sk-toggleable\"><input class=\"sk-toggleable__control sk-hidden--visually\" id=\"47d9cad0-6e5d-465e-b6a6-ccd2b24ff493\" type=\"checkbox\" ><label class=\"sk-toggleable__label\" for=\"47d9cad0-6e5d-465e-b6a6-ccd2b24ff493\">StandardScaler</label><div class=\"sk-toggleable__content\"><pre>StandardScaler()</pre></div></div></div><div class=\"sk-item\"><div class=\"sk-estimator sk-toggleable\"><input class=\"sk-toggleable__control sk-hidden--visually\" id=\"d8600714-7da0-4a4a-a475-197dc99775b0\" type=\"checkbox\" ><label class=\"sk-toggleable__label\" for=\"d8600714-7da0-4a4a-a475-197dc99775b0\">KNeighborsClassifier</label><div class=\"sk-toggleable__content\"><pre>KNeighborsClassifier()</pre></div></div></div></div></div></div></div>"
      ],
      "text/plain": [
       "Pipeline(steps=[('standardscaler', StandardScaler()),\n",
       "                ('kneighborsclassifier', KNeighborsClassifier())])"
      ]
     },
     "execution_count": 27,
     "metadata": {},
     "output_type": "execute_result"
    }
   ],
   "source": [
    "# KNearestNeighbors Model fitting with training data\n",
    "\n",
    "%time\n",
    "\n",
    "knn_model.fit(data_train2f, target_train2f)"
   ]
  },
  {
   "cell_type": "markdown",
   "id": "5d7018f4-b7ae-419d-b19f-74d58385cc35",
   "metadata": {},
   "source": [
    "#### <font style = \"color:rgb(125, 41, 243)\"> **Decision tree** </font>"
   ]
  },
  {
   "cell_type": "code",
   "execution_count": 28,
   "id": "6a18ad97-8644-436f-9581-40bdd967ceb6",
   "metadata": {},
   "outputs": [
    {
     "name": "stdout",
     "output_type": "stream",
     "text": [
      "CPU times: user 4 µs, sys: 1e+03 ns, total: 5 µs\n",
      "Wall time: 7.87 µs\n"
     ]
    },
    {
     "data": {
      "text/html": [
       "<style>#sk-9c6901a2-c8fc-462e-bf6f-8259bc7457ea {color: black;background-color: white;}#sk-9c6901a2-c8fc-462e-bf6f-8259bc7457ea pre{padding: 0;}#sk-9c6901a2-c8fc-462e-bf6f-8259bc7457ea div.sk-toggleable {background-color: white;}#sk-9c6901a2-c8fc-462e-bf6f-8259bc7457ea label.sk-toggleable__label {cursor: pointer;display: block;width: 100%;margin-bottom: 0;padding: 0.2em 0.3em;box-sizing: border-box;text-align: center;}#sk-9c6901a2-c8fc-462e-bf6f-8259bc7457ea div.sk-toggleable__content {max-height: 0;max-width: 0;overflow: hidden;text-align: left;background-color: #f0f8ff;}#sk-9c6901a2-c8fc-462e-bf6f-8259bc7457ea div.sk-toggleable__content pre {margin: 0.2em;color: black;border-radius: 0.25em;background-color: #f0f8ff;}#sk-9c6901a2-c8fc-462e-bf6f-8259bc7457ea input.sk-toggleable__control:checked~div.sk-toggleable__content {max-height: 200px;max-width: 100%;overflow: auto;}#sk-9c6901a2-c8fc-462e-bf6f-8259bc7457ea div.sk-estimator input.sk-toggleable__control:checked~label.sk-toggleable__label {background-color: #d4ebff;}#sk-9c6901a2-c8fc-462e-bf6f-8259bc7457ea div.sk-label input.sk-toggleable__control:checked~label.sk-toggleable__label {background-color: #d4ebff;}#sk-9c6901a2-c8fc-462e-bf6f-8259bc7457ea input.sk-hidden--visually {border: 0;clip: rect(1px 1px 1px 1px);clip: rect(1px, 1px, 1px, 1px);height: 1px;margin: -1px;overflow: hidden;padding: 0;position: absolute;width: 1px;}#sk-9c6901a2-c8fc-462e-bf6f-8259bc7457ea div.sk-estimator {font-family: monospace;background-color: #f0f8ff;margin: 0.25em 0.25em;border: 1px dotted black;border-radius: 0.25em;box-sizing: border-box;}#sk-9c6901a2-c8fc-462e-bf6f-8259bc7457ea div.sk-estimator:hover {background-color: #d4ebff;}#sk-9c6901a2-c8fc-462e-bf6f-8259bc7457ea div.sk-parallel-item::after {content: \"\";width: 100%;border-bottom: 1px solid gray;flex-grow: 1;}#sk-9c6901a2-c8fc-462e-bf6f-8259bc7457ea div.sk-label:hover label.sk-toggleable__label {background-color: #d4ebff;}#sk-9c6901a2-c8fc-462e-bf6f-8259bc7457ea div.sk-serial::before {content: \"\";position: absolute;border-left: 1px solid gray;box-sizing: border-box;top: 2em;bottom: 0;left: 50%;}#sk-9c6901a2-c8fc-462e-bf6f-8259bc7457ea div.sk-serial {display: flex;flex-direction: column;align-items: center;background-color: white;}#sk-9c6901a2-c8fc-462e-bf6f-8259bc7457ea div.sk-item {z-index: 1;}#sk-9c6901a2-c8fc-462e-bf6f-8259bc7457ea div.sk-parallel {display: flex;align-items: stretch;justify-content: center;background-color: white;}#sk-9c6901a2-c8fc-462e-bf6f-8259bc7457ea div.sk-parallel-item {display: flex;flex-direction: column;position: relative;background-color: white;}#sk-9c6901a2-c8fc-462e-bf6f-8259bc7457ea div.sk-parallel-item:first-child::after {align-self: flex-end;width: 50%;}#sk-9c6901a2-c8fc-462e-bf6f-8259bc7457ea div.sk-parallel-item:last-child::after {align-self: flex-start;width: 50%;}#sk-9c6901a2-c8fc-462e-bf6f-8259bc7457ea div.sk-parallel-item:only-child::after {width: 0;}#sk-9c6901a2-c8fc-462e-bf6f-8259bc7457ea div.sk-dashed-wrapped {border: 1px dashed gray;margin: 0.2em;box-sizing: border-box;padding-bottom: 0.1em;background-color: white;position: relative;}#sk-9c6901a2-c8fc-462e-bf6f-8259bc7457ea div.sk-label label {font-family: monospace;font-weight: bold;background-color: white;display: inline-block;line-height: 1.2em;}#sk-9c6901a2-c8fc-462e-bf6f-8259bc7457ea div.sk-label-container {position: relative;z-index: 2;text-align: center;}#sk-9c6901a2-c8fc-462e-bf6f-8259bc7457ea div.sk-container {display: inline-block;position: relative;}</style><div id=\"sk-9c6901a2-c8fc-462e-bf6f-8259bc7457ea\" class\"sk-top-container\"><div class=\"sk-container\"><div class=\"sk-item sk-dashed-wrapped\"><div class=\"sk-label-container\"><div class=\"sk-label sk-toggleable\"><input class=\"sk-toggleable__control sk-hidden--visually\" id=\"de7770ed-7846-436d-bc55-04af2c538500\" type=\"checkbox\" ><label class=\"sk-toggleable__label\" for=\"de7770ed-7846-436d-bc55-04af2c538500\">Pipeline</label><div class=\"sk-toggleable__content\"><pre>Pipeline(steps=[('standardscaler', StandardScaler()),\n",
       "                ('decisiontreeclassifier', DecisionTreeClassifier())])</pre></div></div></div><div class=\"sk-serial\"><div class=\"sk-item\"><div class=\"sk-estimator sk-toggleable\"><input class=\"sk-toggleable__control sk-hidden--visually\" id=\"9eb5c85b-c221-45a2-a388-c20588c9c176\" type=\"checkbox\" ><label class=\"sk-toggleable__label\" for=\"9eb5c85b-c221-45a2-a388-c20588c9c176\">StandardScaler</label><div class=\"sk-toggleable__content\"><pre>StandardScaler()</pre></div></div></div><div class=\"sk-item\"><div class=\"sk-estimator sk-toggleable\"><input class=\"sk-toggleable__control sk-hidden--visually\" id=\"0d6911cb-d635-4375-841c-d7f90dc5c5d0\" type=\"checkbox\" ><label class=\"sk-toggleable__label\" for=\"0d6911cb-d635-4375-841c-d7f90dc5c5d0\">DecisionTreeClassifier</label><div class=\"sk-toggleable__content\"><pre>DecisionTreeClassifier()</pre></div></div></div></div></div></div></div>"
      ],
      "text/plain": [
       "Pipeline(steps=[('standardscaler', StandardScaler()),\n",
       "                ('decisiontreeclassifier', DecisionTreeClassifier())])"
      ]
     },
     "execution_count": 28,
     "metadata": {},
     "output_type": "execute_result"
    }
   ],
   "source": [
    "# Decision tree Model fitting with training data\n",
    "\n",
    "%time\n",
    "\n",
    "tree_model.fit(data_train2f, target_train2f)"
   ]
  },
  {
   "cell_type": "markdown",
   "id": "a6eebf71-8c22-4075-956b-0adf282e7cc0",
   "metadata": {},
   "source": [
    "#### <font style = \"color:rgb(125, 41, 243)\"> **Histgrade Boost** </font>"
   ]
  },
  {
   "cell_type": "code",
   "execution_count": 29,
   "id": "cce78476-7f00-48b3-bf83-17f07e883cfd",
   "metadata": {},
   "outputs": [
    {
     "name": "stdout",
     "output_type": "stream",
     "text": [
      "CPU times: user 3 µs, sys: 0 ns, total: 3 µs\n",
      "Wall time: 7.39 µs\n"
     ]
    },
    {
     "data": {
      "text/html": [
       "<style>#sk-888ae83b-0707-4681-9cb2-9ba49415d569 {color: black;background-color: white;}#sk-888ae83b-0707-4681-9cb2-9ba49415d569 pre{padding: 0;}#sk-888ae83b-0707-4681-9cb2-9ba49415d569 div.sk-toggleable {background-color: white;}#sk-888ae83b-0707-4681-9cb2-9ba49415d569 label.sk-toggleable__label {cursor: pointer;display: block;width: 100%;margin-bottom: 0;padding: 0.2em 0.3em;box-sizing: border-box;text-align: center;}#sk-888ae83b-0707-4681-9cb2-9ba49415d569 div.sk-toggleable__content {max-height: 0;max-width: 0;overflow: hidden;text-align: left;background-color: #f0f8ff;}#sk-888ae83b-0707-4681-9cb2-9ba49415d569 div.sk-toggleable__content pre {margin: 0.2em;color: black;border-radius: 0.25em;background-color: #f0f8ff;}#sk-888ae83b-0707-4681-9cb2-9ba49415d569 input.sk-toggleable__control:checked~div.sk-toggleable__content {max-height: 200px;max-width: 100%;overflow: auto;}#sk-888ae83b-0707-4681-9cb2-9ba49415d569 div.sk-estimator input.sk-toggleable__control:checked~label.sk-toggleable__label {background-color: #d4ebff;}#sk-888ae83b-0707-4681-9cb2-9ba49415d569 div.sk-label input.sk-toggleable__control:checked~label.sk-toggleable__label {background-color: #d4ebff;}#sk-888ae83b-0707-4681-9cb2-9ba49415d569 input.sk-hidden--visually {border: 0;clip: rect(1px 1px 1px 1px);clip: rect(1px, 1px, 1px, 1px);height: 1px;margin: -1px;overflow: hidden;padding: 0;position: absolute;width: 1px;}#sk-888ae83b-0707-4681-9cb2-9ba49415d569 div.sk-estimator {font-family: monospace;background-color: #f0f8ff;margin: 0.25em 0.25em;border: 1px dotted black;border-radius: 0.25em;box-sizing: border-box;}#sk-888ae83b-0707-4681-9cb2-9ba49415d569 div.sk-estimator:hover {background-color: #d4ebff;}#sk-888ae83b-0707-4681-9cb2-9ba49415d569 div.sk-parallel-item::after {content: \"\";width: 100%;border-bottom: 1px solid gray;flex-grow: 1;}#sk-888ae83b-0707-4681-9cb2-9ba49415d569 div.sk-label:hover label.sk-toggleable__label {background-color: #d4ebff;}#sk-888ae83b-0707-4681-9cb2-9ba49415d569 div.sk-serial::before {content: \"\";position: absolute;border-left: 1px solid gray;box-sizing: border-box;top: 2em;bottom: 0;left: 50%;}#sk-888ae83b-0707-4681-9cb2-9ba49415d569 div.sk-serial {display: flex;flex-direction: column;align-items: center;background-color: white;}#sk-888ae83b-0707-4681-9cb2-9ba49415d569 div.sk-item {z-index: 1;}#sk-888ae83b-0707-4681-9cb2-9ba49415d569 div.sk-parallel {display: flex;align-items: stretch;justify-content: center;background-color: white;}#sk-888ae83b-0707-4681-9cb2-9ba49415d569 div.sk-parallel-item {display: flex;flex-direction: column;position: relative;background-color: white;}#sk-888ae83b-0707-4681-9cb2-9ba49415d569 div.sk-parallel-item:first-child::after {align-self: flex-end;width: 50%;}#sk-888ae83b-0707-4681-9cb2-9ba49415d569 div.sk-parallel-item:last-child::after {align-self: flex-start;width: 50%;}#sk-888ae83b-0707-4681-9cb2-9ba49415d569 div.sk-parallel-item:only-child::after {width: 0;}#sk-888ae83b-0707-4681-9cb2-9ba49415d569 div.sk-dashed-wrapped {border: 1px dashed gray;margin: 0.2em;box-sizing: border-box;padding-bottom: 0.1em;background-color: white;position: relative;}#sk-888ae83b-0707-4681-9cb2-9ba49415d569 div.sk-label label {font-family: monospace;font-weight: bold;background-color: white;display: inline-block;line-height: 1.2em;}#sk-888ae83b-0707-4681-9cb2-9ba49415d569 div.sk-label-container {position: relative;z-index: 2;text-align: center;}#sk-888ae83b-0707-4681-9cb2-9ba49415d569 div.sk-container {display: inline-block;position: relative;}</style><div id=\"sk-888ae83b-0707-4681-9cb2-9ba49415d569\" class\"sk-top-container\"><div class=\"sk-container\"><div class=\"sk-item sk-dashed-wrapped\"><div class=\"sk-label-container\"><div class=\"sk-label sk-toggleable\"><input class=\"sk-toggleable__control sk-hidden--visually\" id=\"a8dda933-2f09-4622-b4ba-6def55cacd11\" type=\"checkbox\" ><label class=\"sk-toggleable__label\" for=\"a8dda933-2f09-4622-b4ba-6def55cacd11\">Pipeline</label><div class=\"sk-toggleable__content\"><pre>Pipeline(steps=[('standardscaler', StandardScaler()),\n",
       "                ('histgradientboostingclassifier',\n",
       "                 HistGradientBoostingClassifier())])</pre></div></div></div><div class=\"sk-serial\"><div class=\"sk-item\"><div class=\"sk-estimator sk-toggleable\"><input class=\"sk-toggleable__control sk-hidden--visually\" id=\"019474dd-7afb-4b34-9ef4-f7958ed0753b\" type=\"checkbox\" ><label class=\"sk-toggleable__label\" for=\"019474dd-7afb-4b34-9ef4-f7958ed0753b\">StandardScaler</label><div class=\"sk-toggleable__content\"><pre>StandardScaler()</pre></div></div></div><div class=\"sk-item\"><div class=\"sk-estimator sk-toggleable\"><input class=\"sk-toggleable__control sk-hidden--visually\" id=\"4c848b69-cf25-4fd6-a6ed-93029d180b1d\" type=\"checkbox\" ><label class=\"sk-toggleable__label\" for=\"4c848b69-cf25-4fd6-a6ed-93029d180b1d\">HistGradientBoostingClassifier</label><div class=\"sk-toggleable__content\"><pre>HistGradientBoostingClassifier()</pre></div></div></div></div></div></div></div>"
      ],
      "text/plain": [
       "Pipeline(steps=[('standardscaler', StandardScaler()),\n",
       "                ('histgradientboostingclassifier',\n",
       "                 HistGradientBoostingClassifier())])"
      ]
     },
     "execution_count": 29,
     "metadata": {},
     "output_type": "execute_result"
    }
   ],
   "source": [
    "# Histgrade Boost Model fitting with training data\n",
    "\n",
    "%time\n",
    "\n",
    "histboost_model.fit(data_train2f, target_train2f)"
   ]
  },
  {
   "cell_type": "markdown",
   "id": "cd950396-c749-4e9a-b823-00b77c45e478",
   "metadata": {},
   "source": [
    "### <font style = \"color:rgb(125, 41, 243)\"> **2-Feature Model Predictions** </font>"
   ]
  },
  {
   "cell_type": "code",
   "execution_count": 30,
   "id": "2300041c-1297-47d2-99c6-f7bab1276842",
   "metadata": {},
   "outputs": [],
   "source": [
    "lr_predict = logistic_regression_model.predict(data_test2f)"
   ]
  },
  {
   "cell_type": "code",
   "execution_count": 31,
   "id": "d1dc8403-2e22-4ba9-b341-25f3fe9aef48",
   "metadata": {},
   "outputs": [],
   "source": [
    "sgd_predict = sgdc_model.predict(data_test2f)"
   ]
  },
  {
   "cell_type": "code",
   "execution_count": 32,
   "id": "a2b0f771-07b9-4480-95ae-dbb1bb3b7b62",
   "metadata": {},
   "outputs": [],
   "source": [
    "svc_predict = svc_model.predict(data_test2f)"
   ]
  },
  {
   "cell_type": "code",
   "execution_count": 33,
   "id": "cb1d406a-b67f-4da1-939f-b216382c6278",
   "metadata": {},
   "outputs": [],
   "source": [
    "knn_predict = knn_model.predict(data_test2f)"
   ]
  },
  {
   "cell_type": "code",
   "execution_count": 34,
   "id": "0b3c107a-d6d8-4b5d-94c4-ae507b483746",
   "metadata": {},
   "outputs": [],
   "source": [
    "tree_predict = tree_model.predict(data_test2f)"
   ]
  },
  {
   "cell_type": "code",
   "execution_count": 35,
   "id": "f528fd55-a1aa-403d-ac04-7578a9ca9da4",
   "metadata": {},
   "outputs": [],
   "source": [
    "histboost_predict = histboost_model.predict(data_test2f)"
   ]
  },
  {
   "cell_type": "code",
   "execution_count": 39,
   "id": "71142b5c-5ba1-428a-b273-9dfc469a4bef",
   "metadata": {},
   "outputs": [
    {
     "data": {
      "text/html": [
       "<div>\n",
       "<style scoped>\n",
       "    .dataframe tbody tr th:only-of-type {\n",
       "        vertical-align: middle;\n",
       "    }\n",
       "\n",
       "    .dataframe tbody tr th {\n",
       "        vertical-align: top;\n",
       "    }\n",
       "\n",
       "    .dataframe thead th {\n",
       "        text-align: right;\n",
       "    }\n",
       "</style>\n",
       "<table border=\"1\" class=\"dataframe\">\n",
       "  <thead>\n",
       "    <tr style=\"text-align: right;\">\n",
       "      <th></th>\n",
       "      <th>Target</th>\n",
       "      <th>Logistic Regression</th>\n",
       "      <th>SGDClassifier</th>\n",
       "      <th>SVClassifier</th>\n",
       "      <th>KNNClassifier</th>\n",
       "      <th>Decision Tree</th>\n",
       "      <th>Hist Grad Boosting</th>\n",
       "    </tr>\n",
       "  </thead>\n",
       "  <tbody>\n",
       "    <tr>\n",
       "      <th>15</th>\n",
       "      <td>Iris-setosa</td>\n",
       "      <td>Iris-setosa</td>\n",
       "      <td>Iris-setosa</td>\n",
       "      <td>Iris-setosa</td>\n",
       "      <td>Iris-setosa</td>\n",
       "      <td>Iris-setosa</td>\n",
       "      <td>Iris-setosa</td>\n",
       "    </tr>\n",
       "    <tr>\n",
       "      <th>140</th>\n",
       "      <td>Iris-virginica</td>\n",
       "      <td>Iris-virginica</td>\n",
       "      <td>Iris-virginica</td>\n",
       "      <td>Iris-virginica</td>\n",
       "      <td>Iris-virginica</td>\n",
       "      <td>Iris-virginica</td>\n",
       "      <td>Iris-virginica</td>\n",
       "    </tr>\n",
       "    <tr>\n",
       "      <th>117</th>\n",
       "      <td>Iris-virginica</td>\n",
       "      <td>Iris-virginica</td>\n",
       "      <td>Iris-virginica</td>\n",
       "      <td>Iris-virginica</td>\n",
       "      <td>Iris-virginica</td>\n",
       "      <td>Iris-virginica</td>\n",
       "      <td>Iris-virginica</td>\n",
       "    </tr>\n",
       "    <tr>\n",
       "      <th>134</th>\n",
       "      <td>Iris-virginica</td>\n",
       "      <td>Iris-versicolor</td>\n",
       "      <td>Iris-versicolor</td>\n",
       "      <td>Iris-versicolor</td>\n",
       "      <td>Iris-versicolor</td>\n",
       "      <td>Iris-virginica</td>\n",
       "      <td>Iris-versicolor</td>\n",
       "    </tr>\n",
       "    <tr>\n",
       "      <th>137</th>\n",
       "      <td>Iris-virginica</td>\n",
       "      <td>Iris-virginica</td>\n",
       "      <td>Iris-virginica</td>\n",
       "      <td>Iris-virginica</td>\n",
       "      <td>Iris-virginica</td>\n",
       "      <td>Iris-virginica</td>\n",
       "      <td>Iris-virginica</td>\n",
       "    </tr>\n",
       "    <tr>\n",
       "      <th>149</th>\n",
       "      <td>Iris-virginica</td>\n",
       "      <td>Iris-virginica</td>\n",
       "      <td>Iris-virginica</td>\n",
       "      <td>Iris-virginica</td>\n",
       "      <td>Iris-virginica</td>\n",
       "      <td>Iris-virginica</td>\n",
       "      <td>Iris-virginica</td>\n",
       "    </tr>\n",
       "    <tr>\n",
       "      <th>29</th>\n",
       "      <td>Iris-setosa</td>\n",
       "      <td>Iris-setosa</td>\n",
       "      <td>Iris-setosa</td>\n",
       "      <td>Iris-setosa</td>\n",
       "      <td>Iris-setosa</td>\n",
       "      <td>Iris-setosa</td>\n",
       "      <td>Iris-setosa</td>\n",
       "    </tr>\n",
       "    <tr>\n",
       "      <th>4</th>\n",
       "      <td>Iris-setosa</td>\n",
       "      <td>Iris-setosa</td>\n",
       "      <td>Iris-setosa</td>\n",
       "      <td>Iris-setosa</td>\n",
       "      <td>Iris-setosa</td>\n",
       "      <td>Iris-setosa</td>\n",
       "      <td>Iris-setosa</td>\n",
       "    </tr>\n",
       "    <tr>\n",
       "      <th>119</th>\n",
       "      <td>Iris-virginica</td>\n",
       "      <td>Iris-versicolor</td>\n",
       "      <td>Iris-virginica</td>\n",
       "      <td>Iris-versicolor</td>\n",
       "      <td>Iris-versicolor</td>\n",
       "      <td>Iris-versicolor</td>\n",
       "      <td>Iris-versicolor</td>\n",
       "    </tr>\n",
       "    <tr>\n",
       "      <th>39</th>\n",
       "      <td>Iris-setosa</td>\n",
       "      <td>Iris-setosa</td>\n",
       "      <td>Iris-setosa</td>\n",
       "      <td>Iris-setosa</td>\n",
       "      <td>Iris-setosa</td>\n",
       "      <td>Iris-setosa</td>\n",
       "      <td>Iris-setosa</td>\n",
       "    </tr>\n",
       "    <tr>\n",
       "      <th>31</th>\n",
       "      <td>Iris-setosa</td>\n",
       "      <td>Iris-setosa</td>\n",
       "      <td>Iris-setosa</td>\n",
       "      <td>Iris-setosa</td>\n",
       "      <td>Iris-setosa</td>\n",
       "      <td>Iris-setosa</td>\n",
       "      <td>Iris-setosa</td>\n",
       "    </tr>\n",
       "    <tr>\n",
       "      <th>68</th>\n",
       "      <td>Iris-versicolor</td>\n",
       "      <td>Iris-versicolor</td>\n",
       "      <td>Iris-versicolor</td>\n",
       "      <td>Iris-versicolor</td>\n",
       "      <td>Iris-versicolor</td>\n",
       "      <td>Iris-versicolor</td>\n",
       "      <td>Iris-versicolor</td>\n",
       "    </tr>\n",
       "    <tr>\n",
       "      <th>22</th>\n",
       "      <td>Iris-setosa</td>\n",
       "      <td>Iris-setosa</td>\n",
       "      <td>Iris-setosa</td>\n",
       "      <td>Iris-setosa</td>\n",
       "      <td>Iris-setosa</td>\n",
       "      <td>Iris-setosa</td>\n",
       "      <td>Iris-setosa</td>\n",
       "    </tr>\n",
       "    <tr>\n",
       "      <th>129</th>\n",
       "      <td>Iris-virginica</td>\n",
       "      <td>Iris-virginica</td>\n",
       "      <td>Iris-virginica</td>\n",
       "      <td>Iris-virginica</td>\n",
       "      <td>Iris-virginica</td>\n",
       "      <td>Iris-versicolor</td>\n",
       "      <td>Iris-virginica</td>\n",
       "    </tr>\n",
       "    <tr>\n",
       "      <th>73</th>\n",
       "      <td>Iris-versicolor</td>\n",
       "      <td>Iris-versicolor</td>\n",
       "      <td>Iris-versicolor</td>\n",
       "      <td>Iris-versicolor</td>\n",
       "      <td>Iris-versicolor</td>\n",
       "      <td>Iris-versicolor</td>\n",
       "      <td>Iris-versicolor</td>\n",
       "    </tr>\n",
       "    <tr>\n",
       "      <th>33</th>\n",
       "      <td>Iris-setosa</td>\n",
       "      <td>Iris-setosa</td>\n",
       "      <td>Iris-setosa</td>\n",
       "      <td>Iris-setosa</td>\n",
       "      <td>Iris-setosa</td>\n",
       "      <td>Iris-setosa</td>\n",
       "      <td>Iris-setosa</td>\n",
       "    </tr>\n",
       "    <tr>\n",
       "      <th>45</th>\n",
       "      <td>Iris-setosa</td>\n",
       "      <td>Iris-setosa</td>\n",
       "      <td>Iris-setosa</td>\n",
       "      <td>Iris-setosa</td>\n",
       "      <td>Iris-setosa</td>\n",
       "      <td>Iris-setosa</td>\n",
       "      <td>Iris-setosa</td>\n",
       "    </tr>\n",
       "    <tr>\n",
       "      <th>54</th>\n",
       "      <td>Iris-versicolor</td>\n",
       "      <td>Iris-versicolor</td>\n",
       "      <td>Iris-virginica</td>\n",
       "      <td>Iris-versicolor</td>\n",
       "      <td>Iris-versicolor</td>\n",
       "      <td>Iris-versicolor</td>\n",
       "      <td>Iris-versicolor</td>\n",
       "    </tr>\n",
       "    <tr>\n",
       "      <th>114</th>\n",
       "      <td>Iris-virginica</td>\n",
       "      <td>Iris-virginica</td>\n",
       "      <td>Iris-virginica</td>\n",
       "      <td>Iris-virginica</td>\n",
       "      <td>Iris-virginica</td>\n",
       "      <td>Iris-virginica</td>\n",
       "      <td>Iris-virginica</td>\n",
       "    </tr>\n",
       "    <tr>\n",
       "      <th>144</th>\n",
       "      <td>Iris-virginica</td>\n",
       "      <td>Iris-virginica</td>\n",
       "      <td>Iris-virginica</td>\n",
       "      <td>Iris-virginica</td>\n",
       "      <td>Iris-virginica</td>\n",
       "      <td>Iris-virginica</td>\n",
       "      <td>Iris-virginica</td>\n",
       "    </tr>\n",
       "    <tr>\n",
       "      <th>90</th>\n",
       "      <td>Iris-versicolor</td>\n",
       "      <td>Iris-versicolor</td>\n",
       "      <td>Iris-versicolor</td>\n",
       "      <td>Iris-versicolor</td>\n",
       "      <td>Iris-versicolor</td>\n",
       "      <td>Iris-versicolor</td>\n",
       "      <td>Iris-versicolor</td>\n",
       "    </tr>\n",
       "    <tr>\n",
       "      <th>8</th>\n",
       "      <td>Iris-setosa</td>\n",
       "      <td>Iris-setosa</td>\n",
       "      <td>Iris-setosa</td>\n",
       "      <td>Iris-setosa</td>\n",
       "      <td>Iris-setosa</td>\n",
       "      <td>Iris-setosa</td>\n",
       "      <td>Iris-setosa</td>\n",
       "    </tr>\n",
       "    <tr>\n",
       "      <th>135</th>\n",
       "      <td>Iris-virginica</td>\n",
       "      <td>Iris-virginica</td>\n",
       "      <td>Iris-virginica</td>\n",
       "      <td>Iris-virginica</td>\n",
       "      <td>Iris-virginica</td>\n",
       "      <td>Iris-virginica</td>\n",
       "      <td>Iris-virginica</td>\n",
       "    </tr>\n",
       "    <tr>\n",
       "      <th>1</th>\n",
       "      <td>Iris-setosa</td>\n",
       "      <td>Iris-setosa</td>\n",
       "      <td>Iris-setosa</td>\n",
       "      <td>Iris-setosa</td>\n",
       "      <td>Iris-setosa</td>\n",
       "      <td>Iris-setosa</td>\n",
       "      <td>Iris-setosa</td>\n",
       "    </tr>\n",
       "    <tr>\n",
       "      <th>85</th>\n",
       "      <td>Iris-versicolor</td>\n",
       "      <td>Iris-versicolor</td>\n",
       "      <td>Iris-virginica</td>\n",
       "      <td>Iris-versicolor</td>\n",
       "      <td>Iris-versicolor</td>\n",
       "      <td>Iris-versicolor</td>\n",
       "      <td>Iris-versicolor</td>\n",
       "    </tr>\n",
       "    <tr>\n",
       "      <th>58</th>\n",
       "      <td>Iris-versicolor</td>\n",
       "      <td>Iris-versicolor</td>\n",
       "      <td>Iris-versicolor</td>\n",
       "      <td>Iris-versicolor</td>\n",
       "      <td>Iris-versicolor</td>\n",
       "      <td>Iris-versicolor</td>\n",
       "      <td>Iris-versicolor</td>\n",
       "    </tr>\n",
       "    <tr>\n",
       "      <th>123</th>\n",
       "      <td>Iris-virginica</td>\n",
       "      <td>Iris-virginica</td>\n",
       "      <td>Iris-virginica</td>\n",
       "      <td>Iris-virginica</td>\n",
       "      <td>Iris-virginica</td>\n",
       "      <td>Iris-virginica</td>\n",
       "      <td>Iris-virginica</td>\n",
       "    </tr>\n",
       "    <tr>\n",
       "      <th>100</th>\n",
       "      <td>Iris-virginica</td>\n",
       "      <td>Iris-virginica</td>\n",
       "      <td>Iris-virginica</td>\n",
       "      <td>Iris-virginica</td>\n",
       "      <td>Iris-virginica</td>\n",
       "      <td>Iris-virginica</td>\n",
       "      <td>Iris-virginica</td>\n",
       "    </tr>\n",
       "    <tr>\n",
       "      <th>92</th>\n",
       "      <td>Iris-versicolor</td>\n",
       "      <td>Iris-versicolor</td>\n",
       "      <td>Iris-versicolor</td>\n",
       "      <td>Iris-versicolor</td>\n",
       "      <td>Iris-versicolor</td>\n",
       "      <td>Iris-versicolor</td>\n",
       "      <td>Iris-versicolor</td>\n",
       "    </tr>\n",
       "    <tr>\n",
       "      <th>42</th>\n",
       "      <td>Iris-setosa</td>\n",
       "      <td>Iris-setosa</td>\n",
       "      <td>Iris-setosa</td>\n",
       "      <td>Iris-setosa</td>\n",
       "      <td>Iris-setosa</td>\n",
       "      <td>Iris-setosa</td>\n",
       "      <td>Iris-setosa</td>\n",
       "    </tr>\n",
       "  </tbody>\n",
       "</table>\n",
       "</div>"
      ],
      "text/plain": [
       "              Target Logistic Regression    SGDClassifier     SVClassifier  \\\n",
       "15       Iris-setosa         Iris-setosa      Iris-setosa      Iris-setosa   \n",
       "140   Iris-virginica      Iris-virginica   Iris-virginica   Iris-virginica   \n",
       "117   Iris-virginica      Iris-virginica   Iris-virginica   Iris-virginica   \n",
       "134   Iris-virginica     Iris-versicolor  Iris-versicolor  Iris-versicolor   \n",
       "137   Iris-virginica      Iris-virginica   Iris-virginica   Iris-virginica   \n",
       "149   Iris-virginica      Iris-virginica   Iris-virginica   Iris-virginica   \n",
       "29       Iris-setosa         Iris-setosa      Iris-setosa      Iris-setosa   \n",
       "4        Iris-setosa         Iris-setosa      Iris-setosa      Iris-setosa   \n",
       "119   Iris-virginica     Iris-versicolor   Iris-virginica  Iris-versicolor   \n",
       "39       Iris-setosa         Iris-setosa      Iris-setosa      Iris-setosa   \n",
       "31       Iris-setosa         Iris-setosa      Iris-setosa      Iris-setosa   \n",
       "68   Iris-versicolor     Iris-versicolor  Iris-versicolor  Iris-versicolor   \n",
       "22       Iris-setosa         Iris-setosa      Iris-setosa      Iris-setosa   \n",
       "129   Iris-virginica      Iris-virginica   Iris-virginica   Iris-virginica   \n",
       "73   Iris-versicolor     Iris-versicolor  Iris-versicolor  Iris-versicolor   \n",
       "33       Iris-setosa         Iris-setosa      Iris-setosa      Iris-setosa   \n",
       "45       Iris-setosa         Iris-setosa      Iris-setosa      Iris-setosa   \n",
       "54   Iris-versicolor     Iris-versicolor   Iris-virginica  Iris-versicolor   \n",
       "114   Iris-virginica      Iris-virginica   Iris-virginica   Iris-virginica   \n",
       "144   Iris-virginica      Iris-virginica   Iris-virginica   Iris-virginica   \n",
       "90   Iris-versicolor     Iris-versicolor  Iris-versicolor  Iris-versicolor   \n",
       "8        Iris-setosa         Iris-setosa      Iris-setosa      Iris-setosa   \n",
       "135   Iris-virginica      Iris-virginica   Iris-virginica   Iris-virginica   \n",
       "1        Iris-setosa         Iris-setosa      Iris-setosa      Iris-setosa   \n",
       "85   Iris-versicolor     Iris-versicolor   Iris-virginica  Iris-versicolor   \n",
       "58   Iris-versicolor     Iris-versicolor  Iris-versicolor  Iris-versicolor   \n",
       "123   Iris-virginica      Iris-virginica   Iris-virginica   Iris-virginica   \n",
       "100   Iris-virginica      Iris-virginica   Iris-virginica   Iris-virginica   \n",
       "92   Iris-versicolor     Iris-versicolor  Iris-versicolor  Iris-versicolor   \n",
       "42       Iris-setosa         Iris-setosa      Iris-setosa      Iris-setosa   \n",
       "\n",
       "       KNNClassifier    Decision Tree Hist Grad Boosting  \n",
       "15       Iris-setosa      Iris-setosa        Iris-setosa  \n",
       "140   Iris-virginica   Iris-virginica     Iris-virginica  \n",
       "117   Iris-virginica   Iris-virginica     Iris-virginica  \n",
       "134  Iris-versicolor   Iris-virginica    Iris-versicolor  \n",
       "137   Iris-virginica   Iris-virginica     Iris-virginica  \n",
       "149   Iris-virginica   Iris-virginica     Iris-virginica  \n",
       "29       Iris-setosa      Iris-setosa        Iris-setosa  \n",
       "4        Iris-setosa      Iris-setosa        Iris-setosa  \n",
       "119  Iris-versicolor  Iris-versicolor    Iris-versicolor  \n",
       "39       Iris-setosa      Iris-setosa        Iris-setosa  \n",
       "31       Iris-setosa      Iris-setosa        Iris-setosa  \n",
       "68   Iris-versicolor  Iris-versicolor    Iris-versicolor  \n",
       "22       Iris-setosa      Iris-setosa        Iris-setosa  \n",
       "129   Iris-virginica  Iris-versicolor     Iris-virginica  \n",
       "73   Iris-versicolor  Iris-versicolor    Iris-versicolor  \n",
       "33       Iris-setosa      Iris-setosa        Iris-setosa  \n",
       "45       Iris-setosa      Iris-setosa        Iris-setosa  \n",
       "54   Iris-versicolor  Iris-versicolor    Iris-versicolor  \n",
       "114   Iris-virginica   Iris-virginica     Iris-virginica  \n",
       "144   Iris-virginica   Iris-virginica     Iris-virginica  \n",
       "90   Iris-versicolor  Iris-versicolor    Iris-versicolor  \n",
       "8        Iris-setosa      Iris-setosa        Iris-setosa  \n",
       "135   Iris-virginica   Iris-virginica     Iris-virginica  \n",
       "1        Iris-setosa      Iris-setosa        Iris-setosa  \n",
       "85   Iris-versicolor  Iris-versicolor    Iris-versicolor  \n",
       "58   Iris-versicolor  Iris-versicolor    Iris-versicolor  \n",
       "123   Iris-virginica   Iris-virginica     Iris-virginica  \n",
       "100   Iris-virginica   Iris-virginica     Iris-virginica  \n",
       "92   Iris-versicolor  Iris-versicolor    Iris-versicolor  \n",
       "42       Iris-setosa      Iris-setosa        Iris-setosa  "
      ]
     },
     "execution_count": 39,
     "metadata": {},
     "output_type": "execute_result"
    }
   ],
   "source": [
    "model_results_df = pd.DataFrame({'Target': target_test2f,\n",
    "                                 'Logistic Regression': lr_predict,\n",
    "                                 'SGDClassifier': sgd_predict,\n",
    "                                 'SVClassifier': svc_predict,\n",
    "                                 'KNNClassifier': knn_predict,\n",
    "                                 'Decision Tree': tree_predict,\n",
    "                                 'Hist Grad Boosting': histboost_predict,\n",
    "                                }\n",
    "                               )\n",
    "model_results_df                "
   ]
  },
  {
   "cell_type": "code",
   "execution_count": 40,
   "id": "9617558d-8b8b-4c4e-a169-04400bc5f81e",
   "metadata": {},
   "outputs": [],
   "source": [
    "pd.options.plotting.backend = \"plotly\""
   ]
  },
  {
   "cell_type": "code",
   "execution_count": 65,
   "id": "183a927b-d00a-49e6-9240-43b24caaa77c",
   "metadata": {},
   "outputs": [
    {
     "data": {
      "application/vnd.plotly.v1+json": {
       "config": {
        "plotlyServerURL": "https://plot.ly"
       },
       "data": [
        {
         "alignmentgroup": "True",
         "bingroup": "x",
         "hovertemplate": "variable=Target<br>value=%{x}<br>count=%{y}<extra></extra>",
         "legendgroup": "Target",
         "marker": {
          "color": "#636efa",
          "pattern": {
           "shape": ""
          }
         },
         "name": "Target",
         "offsetgroup": "Target",
         "orientation": "v",
         "showlegend": true,
         "type": "histogram",
         "x": [
          "Iris-setosa",
          "Iris-virginica",
          "Iris-virginica",
          "Iris-virginica",
          "Iris-virginica",
          "Iris-virginica",
          "Iris-setosa",
          "Iris-setosa",
          "Iris-virginica",
          "Iris-setosa",
          "Iris-setosa",
          "Iris-versicolor",
          "Iris-setosa",
          "Iris-virginica",
          "Iris-versicolor",
          "Iris-setosa",
          "Iris-setosa",
          "Iris-versicolor",
          "Iris-virginica",
          "Iris-virginica",
          "Iris-versicolor",
          "Iris-setosa",
          "Iris-virginica",
          "Iris-setosa",
          "Iris-versicolor",
          "Iris-versicolor",
          "Iris-virginica",
          "Iris-virginica",
          "Iris-versicolor",
          "Iris-setosa"
         ],
         "xaxis": "x",
         "yaxis": "y"
        },
        {
         "alignmentgroup": "True",
         "bingroup": "x",
         "hovertemplate": "variable=Logistic Regression<br>value=%{x}<br>count=%{y}<extra></extra>",
         "legendgroup": "Logistic Regression",
         "marker": {
          "color": "#EF553B",
          "pattern": {
           "shape": ""
          }
         },
         "name": "Logistic Regression",
         "offsetgroup": "Logistic Regression",
         "orientation": "v",
         "showlegend": true,
         "type": "histogram",
         "x": [
          "Iris-setosa",
          "Iris-virginica",
          "Iris-virginica",
          "Iris-versicolor",
          "Iris-virginica",
          "Iris-virginica",
          "Iris-setosa",
          "Iris-setosa",
          "Iris-versicolor",
          "Iris-setosa",
          "Iris-setosa",
          "Iris-versicolor",
          "Iris-setosa",
          "Iris-virginica",
          "Iris-versicolor",
          "Iris-setosa",
          "Iris-setosa",
          "Iris-versicolor",
          "Iris-virginica",
          "Iris-virginica",
          "Iris-versicolor",
          "Iris-setosa",
          "Iris-virginica",
          "Iris-setosa",
          "Iris-versicolor",
          "Iris-versicolor",
          "Iris-virginica",
          "Iris-virginica",
          "Iris-versicolor",
          "Iris-setosa"
         ],
         "xaxis": "x",
         "yaxis": "y"
        },
        {
         "alignmentgroup": "True",
         "bingroup": "x",
         "hovertemplate": "variable=SGDClassifier<br>value=%{x}<br>count=%{y}<extra></extra>",
         "legendgroup": "SGDClassifier",
         "marker": {
          "color": "#00cc96",
          "pattern": {
           "shape": ""
          }
         },
         "name": "SGDClassifier",
         "offsetgroup": "SGDClassifier",
         "orientation": "v",
         "showlegend": true,
         "type": "histogram",
         "x": [
          "Iris-setosa",
          "Iris-virginica",
          "Iris-virginica",
          "Iris-versicolor",
          "Iris-virginica",
          "Iris-virginica",
          "Iris-setosa",
          "Iris-setosa",
          "Iris-virginica",
          "Iris-setosa",
          "Iris-setosa",
          "Iris-versicolor",
          "Iris-setosa",
          "Iris-virginica",
          "Iris-versicolor",
          "Iris-setosa",
          "Iris-setosa",
          "Iris-virginica",
          "Iris-virginica",
          "Iris-virginica",
          "Iris-versicolor",
          "Iris-setosa",
          "Iris-virginica",
          "Iris-setosa",
          "Iris-virginica",
          "Iris-versicolor",
          "Iris-virginica",
          "Iris-virginica",
          "Iris-versicolor",
          "Iris-setosa"
         ],
         "xaxis": "x",
         "yaxis": "y"
        },
        {
         "alignmentgroup": "True",
         "bingroup": "x",
         "hovertemplate": "variable=SVClassifier<br>value=%{x}<br>count=%{y}<extra></extra>",
         "legendgroup": "SVClassifier",
         "marker": {
          "color": "#ab63fa",
          "pattern": {
           "shape": ""
          }
         },
         "name": "SVClassifier",
         "offsetgroup": "SVClassifier",
         "orientation": "v",
         "showlegend": true,
         "type": "histogram",
         "x": [
          "Iris-setosa",
          "Iris-virginica",
          "Iris-virginica",
          "Iris-versicolor",
          "Iris-virginica",
          "Iris-virginica",
          "Iris-setosa",
          "Iris-setosa",
          "Iris-versicolor",
          "Iris-setosa",
          "Iris-setosa",
          "Iris-versicolor",
          "Iris-setosa",
          "Iris-virginica",
          "Iris-versicolor",
          "Iris-setosa",
          "Iris-setosa",
          "Iris-versicolor",
          "Iris-virginica",
          "Iris-virginica",
          "Iris-versicolor",
          "Iris-setosa",
          "Iris-virginica",
          "Iris-setosa",
          "Iris-versicolor",
          "Iris-versicolor",
          "Iris-virginica",
          "Iris-virginica",
          "Iris-versicolor",
          "Iris-setosa"
         ],
         "xaxis": "x",
         "yaxis": "y"
        },
        {
         "alignmentgroup": "True",
         "bingroup": "x",
         "hovertemplate": "variable=KNNClassifier<br>value=%{x}<br>count=%{y}<extra></extra>",
         "legendgroup": "KNNClassifier",
         "marker": {
          "color": "#FFA15A",
          "pattern": {
           "shape": ""
          }
         },
         "name": "KNNClassifier",
         "offsetgroup": "KNNClassifier",
         "orientation": "v",
         "showlegend": true,
         "type": "histogram",
         "x": [
          "Iris-setosa",
          "Iris-virginica",
          "Iris-virginica",
          "Iris-versicolor",
          "Iris-virginica",
          "Iris-virginica",
          "Iris-setosa",
          "Iris-setosa",
          "Iris-versicolor",
          "Iris-setosa",
          "Iris-setosa",
          "Iris-versicolor",
          "Iris-setosa",
          "Iris-virginica",
          "Iris-versicolor",
          "Iris-setosa",
          "Iris-setosa",
          "Iris-versicolor",
          "Iris-virginica",
          "Iris-virginica",
          "Iris-versicolor",
          "Iris-setosa",
          "Iris-virginica",
          "Iris-setosa",
          "Iris-versicolor",
          "Iris-versicolor",
          "Iris-virginica",
          "Iris-virginica",
          "Iris-versicolor",
          "Iris-setosa"
         ],
         "xaxis": "x",
         "yaxis": "y"
        },
        {
         "alignmentgroup": "True",
         "bingroup": "x",
         "hovertemplate": "variable=Decision Tree<br>value=%{x}<br>count=%{y}<extra></extra>",
         "legendgroup": "Decision Tree",
         "marker": {
          "color": "#19d3f3",
          "pattern": {
           "shape": ""
          }
         },
         "name": "Decision Tree",
         "offsetgroup": "Decision Tree",
         "orientation": "v",
         "showlegend": true,
         "type": "histogram",
         "x": [
          "Iris-setosa",
          "Iris-virginica",
          "Iris-virginica",
          "Iris-virginica",
          "Iris-virginica",
          "Iris-virginica",
          "Iris-setosa",
          "Iris-setosa",
          "Iris-versicolor",
          "Iris-setosa",
          "Iris-setosa",
          "Iris-versicolor",
          "Iris-setosa",
          "Iris-versicolor",
          "Iris-versicolor",
          "Iris-setosa",
          "Iris-setosa",
          "Iris-versicolor",
          "Iris-virginica",
          "Iris-virginica",
          "Iris-versicolor",
          "Iris-setosa",
          "Iris-virginica",
          "Iris-setosa",
          "Iris-versicolor",
          "Iris-versicolor",
          "Iris-virginica",
          "Iris-virginica",
          "Iris-versicolor",
          "Iris-setosa"
         ],
         "xaxis": "x",
         "yaxis": "y"
        },
        {
         "alignmentgroup": "True",
         "bingroup": "x",
         "hovertemplate": "variable=Hist Grad Boosting<br>value=%{x}<br>count=%{y}<extra></extra>",
         "legendgroup": "Hist Grad Boosting",
         "marker": {
          "color": "#FF6692",
          "pattern": {
           "shape": ""
          }
         },
         "name": "Hist Grad Boosting",
         "offsetgroup": "Hist Grad Boosting",
         "orientation": "v",
         "showlegend": true,
         "type": "histogram",
         "x": [
          "Iris-setosa",
          "Iris-virginica",
          "Iris-virginica",
          "Iris-versicolor",
          "Iris-virginica",
          "Iris-virginica",
          "Iris-setosa",
          "Iris-setosa",
          "Iris-versicolor",
          "Iris-setosa",
          "Iris-setosa",
          "Iris-versicolor",
          "Iris-setosa",
          "Iris-virginica",
          "Iris-versicolor",
          "Iris-setosa",
          "Iris-setosa",
          "Iris-versicolor",
          "Iris-virginica",
          "Iris-virginica",
          "Iris-versicolor",
          "Iris-setosa",
          "Iris-virginica",
          "Iris-setosa",
          "Iris-versicolor",
          "Iris-versicolor",
          "Iris-virginica",
          "Iris-virginica",
          "Iris-versicolor",
          "Iris-setosa"
         ],
         "xaxis": "x",
         "yaxis": "y"
        }
       ],
       "layout": {
        "autosize": true,
        "barmode": "group",
        "legend": {
         "title": {
          "text": "variable"
         },
         "tracegroupgap": 0
        },
        "margin": {
         "t": 60
        },
        "template": {
         "data": {
          "bar": [
           {
            "error_x": {
             "color": "#2a3f5f"
            },
            "error_y": {
             "color": "#2a3f5f"
            },
            "marker": {
             "line": {
              "color": "#E5ECF6",
              "width": 0.5
             },
             "pattern": {
              "fillmode": "overlay",
              "size": 10,
              "solidity": 0.2
             }
            },
            "type": "bar"
           }
          ],
          "barpolar": [
           {
            "marker": {
             "line": {
              "color": "#E5ECF6",
              "width": 0.5
             },
             "pattern": {
              "fillmode": "overlay",
              "size": 10,
              "solidity": 0.2
             }
            },
            "type": "barpolar"
           }
          ],
          "carpet": [
           {
            "aaxis": {
             "endlinecolor": "#2a3f5f",
             "gridcolor": "white",
             "linecolor": "white",
             "minorgridcolor": "white",
             "startlinecolor": "#2a3f5f"
            },
            "baxis": {
             "endlinecolor": "#2a3f5f",
             "gridcolor": "white",
             "linecolor": "white",
             "minorgridcolor": "white",
             "startlinecolor": "#2a3f5f"
            },
            "type": "carpet"
           }
          ],
          "choropleth": [
           {
            "colorbar": {
             "outlinewidth": 0,
             "ticks": ""
            },
            "type": "choropleth"
           }
          ],
          "contour": [
           {
            "colorbar": {
             "outlinewidth": 0,
             "ticks": ""
            },
            "colorscale": [
             [
              0,
              "#0d0887"
             ],
             [
              0.1111111111111111,
              "#46039f"
             ],
             [
              0.2222222222222222,
              "#7201a8"
             ],
             [
              0.3333333333333333,
              "#9c179e"
             ],
             [
              0.4444444444444444,
              "#bd3786"
             ],
             [
              0.5555555555555556,
              "#d8576b"
             ],
             [
              0.6666666666666666,
              "#ed7953"
             ],
             [
              0.7777777777777778,
              "#fb9f3a"
             ],
             [
              0.8888888888888888,
              "#fdca26"
             ],
             [
              1,
              "#f0f921"
             ]
            ],
            "type": "contour"
           }
          ],
          "contourcarpet": [
           {
            "colorbar": {
             "outlinewidth": 0,
             "ticks": ""
            },
            "type": "contourcarpet"
           }
          ],
          "heatmap": [
           {
            "colorbar": {
             "outlinewidth": 0,
             "ticks": ""
            },
            "colorscale": [
             [
              0,
              "#0d0887"
             ],
             [
              0.1111111111111111,
              "#46039f"
             ],
             [
              0.2222222222222222,
              "#7201a8"
             ],
             [
              0.3333333333333333,
              "#9c179e"
             ],
             [
              0.4444444444444444,
              "#bd3786"
             ],
             [
              0.5555555555555556,
              "#d8576b"
             ],
             [
              0.6666666666666666,
              "#ed7953"
             ],
             [
              0.7777777777777778,
              "#fb9f3a"
             ],
             [
              0.8888888888888888,
              "#fdca26"
             ],
             [
              1,
              "#f0f921"
             ]
            ],
            "type": "heatmap"
           }
          ],
          "heatmapgl": [
           {
            "colorbar": {
             "outlinewidth": 0,
             "ticks": ""
            },
            "colorscale": [
             [
              0,
              "#0d0887"
             ],
             [
              0.1111111111111111,
              "#46039f"
             ],
             [
              0.2222222222222222,
              "#7201a8"
             ],
             [
              0.3333333333333333,
              "#9c179e"
             ],
             [
              0.4444444444444444,
              "#bd3786"
             ],
             [
              0.5555555555555556,
              "#d8576b"
             ],
             [
              0.6666666666666666,
              "#ed7953"
             ],
             [
              0.7777777777777778,
              "#fb9f3a"
             ],
             [
              0.8888888888888888,
              "#fdca26"
             ],
             [
              1,
              "#f0f921"
             ]
            ],
            "type": "heatmapgl"
           }
          ],
          "histogram": [
           {
            "marker": {
             "pattern": {
              "fillmode": "overlay",
              "size": 10,
              "solidity": 0.2
             }
            },
            "type": "histogram"
           }
          ],
          "histogram2d": [
           {
            "colorbar": {
             "outlinewidth": 0,
             "ticks": ""
            },
            "colorscale": [
             [
              0,
              "#0d0887"
             ],
             [
              0.1111111111111111,
              "#46039f"
             ],
             [
              0.2222222222222222,
              "#7201a8"
             ],
             [
              0.3333333333333333,
              "#9c179e"
             ],
             [
              0.4444444444444444,
              "#bd3786"
             ],
             [
              0.5555555555555556,
              "#d8576b"
             ],
             [
              0.6666666666666666,
              "#ed7953"
             ],
             [
              0.7777777777777778,
              "#fb9f3a"
             ],
             [
              0.8888888888888888,
              "#fdca26"
             ],
             [
              1,
              "#f0f921"
             ]
            ],
            "type": "histogram2d"
           }
          ],
          "histogram2dcontour": [
           {
            "colorbar": {
             "outlinewidth": 0,
             "ticks": ""
            },
            "colorscale": [
             [
              0,
              "#0d0887"
             ],
             [
              0.1111111111111111,
              "#46039f"
             ],
             [
              0.2222222222222222,
              "#7201a8"
             ],
             [
              0.3333333333333333,
              "#9c179e"
             ],
             [
              0.4444444444444444,
              "#bd3786"
             ],
             [
              0.5555555555555556,
              "#d8576b"
             ],
             [
              0.6666666666666666,
              "#ed7953"
             ],
             [
              0.7777777777777778,
              "#fb9f3a"
             ],
             [
              0.8888888888888888,
              "#fdca26"
             ],
             [
              1,
              "#f0f921"
             ]
            ],
            "type": "histogram2dcontour"
           }
          ],
          "mesh3d": [
           {
            "colorbar": {
             "outlinewidth": 0,
             "ticks": ""
            },
            "type": "mesh3d"
           }
          ],
          "parcoords": [
           {
            "line": {
             "colorbar": {
              "outlinewidth": 0,
              "ticks": ""
             }
            },
            "type": "parcoords"
           }
          ],
          "pie": [
           {
            "automargin": true,
            "type": "pie"
           }
          ],
          "scatter": [
           {
            "marker": {
             "colorbar": {
              "outlinewidth": 0,
              "ticks": ""
             }
            },
            "type": "scatter"
           }
          ],
          "scatter3d": [
           {
            "line": {
             "colorbar": {
              "outlinewidth": 0,
              "ticks": ""
             }
            },
            "marker": {
             "colorbar": {
              "outlinewidth": 0,
              "ticks": ""
             }
            },
            "type": "scatter3d"
           }
          ],
          "scattercarpet": [
           {
            "marker": {
             "colorbar": {
              "outlinewidth": 0,
              "ticks": ""
             }
            },
            "type": "scattercarpet"
           }
          ],
          "scattergeo": [
           {
            "marker": {
             "colorbar": {
              "outlinewidth": 0,
              "ticks": ""
             }
            },
            "type": "scattergeo"
           }
          ],
          "scattergl": [
           {
            "marker": {
             "colorbar": {
              "outlinewidth": 0,
              "ticks": ""
             }
            },
            "type": "scattergl"
           }
          ],
          "scattermapbox": [
           {
            "marker": {
             "colorbar": {
              "outlinewidth": 0,
              "ticks": ""
             }
            },
            "type": "scattermapbox"
           }
          ],
          "scatterpolar": [
           {
            "marker": {
             "colorbar": {
              "outlinewidth": 0,
              "ticks": ""
             }
            },
            "type": "scatterpolar"
           }
          ],
          "scatterpolargl": [
           {
            "marker": {
             "colorbar": {
              "outlinewidth": 0,
              "ticks": ""
             }
            },
            "type": "scatterpolargl"
           }
          ],
          "scatterternary": [
           {
            "marker": {
             "colorbar": {
              "outlinewidth": 0,
              "ticks": ""
             }
            },
            "type": "scatterternary"
           }
          ],
          "surface": [
           {
            "colorbar": {
             "outlinewidth": 0,
             "ticks": ""
            },
            "colorscale": [
             [
              0,
              "#0d0887"
             ],
             [
              0.1111111111111111,
              "#46039f"
             ],
             [
              0.2222222222222222,
              "#7201a8"
             ],
             [
              0.3333333333333333,
              "#9c179e"
             ],
             [
              0.4444444444444444,
              "#bd3786"
             ],
             [
              0.5555555555555556,
              "#d8576b"
             ],
             [
              0.6666666666666666,
              "#ed7953"
             ],
             [
              0.7777777777777778,
              "#fb9f3a"
             ],
             [
              0.8888888888888888,
              "#fdca26"
             ],
             [
              1,
              "#f0f921"
             ]
            ],
            "type": "surface"
           }
          ],
          "table": [
           {
            "cells": {
             "fill": {
              "color": "#EBF0F8"
             },
             "line": {
              "color": "white"
             }
            },
            "header": {
             "fill": {
              "color": "#C8D4E3"
             },
             "line": {
              "color": "white"
             }
            },
            "type": "table"
           }
          ]
         },
         "layout": {
          "annotationdefaults": {
           "arrowcolor": "#2a3f5f",
           "arrowhead": 0,
           "arrowwidth": 1
          },
          "autotypenumbers": "strict",
          "coloraxis": {
           "colorbar": {
            "outlinewidth": 0,
            "ticks": ""
           }
          },
          "colorscale": {
           "diverging": [
            [
             0,
             "#8e0152"
            ],
            [
             0.1,
             "#c51b7d"
            ],
            [
             0.2,
             "#de77ae"
            ],
            [
             0.3,
             "#f1b6da"
            ],
            [
             0.4,
             "#fde0ef"
            ],
            [
             0.5,
             "#f7f7f7"
            ],
            [
             0.6,
             "#e6f5d0"
            ],
            [
             0.7,
             "#b8e186"
            ],
            [
             0.8,
             "#7fbc41"
            ],
            [
             0.9,
             "#4d9221"
            ],
            [
             1,
             "#276419"
            ]
           ],
           "sequential": [
            [
             0,
             "#0d0887"
            ],
            [
             0.1111111111111111,
             "#46039f"
            ],
            [
             0.2222222222222222,
             "#7201a8"
            ],
            [
             0.3333333333333333,
             "#9c179e"
            ],
            [
             0.4444444444444444,
             "#bd3786"
            ],
            [
             0.5555555555555556,
             "#d8576b"
            ],
            [
             0.6666666666666666,
             "#ed7953"
            ],
            [
             0.7777777777777778,
             "#fb9f3a"
            ],
            [
             0.8888888888888888,
             "#fdca26"
            ],
            [
             1,
             "#f0f921"
            ]
           ],
           "sequentialminus": [
            [
             0,
             "#0d0887"
            ],
            [
             0.1111111111111111,
             "#46039f"
            ],
            [
             0.2222222222222222,
             "#7201a8"
            ],
            [
             0.3333333333333333,
             "#9c179e"
            ],
            [
             0.4444444444444444,
             "#bd3786"
            ],
            [
             0.5555555555555556,
             "#d8576b"
            ],
            [
             0.6666666666666666,
             "#ed7953"
            ],
            [
             0.7777777777777778,
             "#fb9f3a"
            ],
            [
             0.8888888888888888,
             "#fdca26"
            ],
            [
             1,
             "#f0f921"
            ]
           ]
          },
          "colorway": [
           "#636efa",
           "#EF553B",
           "#00cc96",
           "#ab63fa",
           "#FFA15A",
           "#19d3f3",
           "#FF6692",
           "#B6E880",
           "#FF97FF",
           "#FECB52"
          ],
          "font": {
           "color": "#2a3f5f"
          },
          "geo": {
           "bgcolor": "white",
           "lakecolor": "white",
           "landcolor": "#E5ECF6",
           "showlakes": true,
           "showland": true,
           "subunitcolor": "white"
          },
          "hoverlabel": {
           "align": "left"
          },
          "hovermode": "closest",
          "mapbox": {
           "style": "light"
          },
          "paper_bgcolor": "white",
          "plot_bgcolor": "#E5ECF6",
          "polar": {
           "angularaxis": {
            "gridcolor": "white",
            "linecolor": "white",
            "ticks": ""
           },
           "bgcolor": "#E5ECF6",
           "radialaxis": {
            "gridcolor": "white",
            "linecolor": "white",
            "ticks": ""
           }
          },
          "scene": {
           "xaxis": {
            "backgroundcolor": "#E5ECF6",
            "gridcolor": "white",
            "gridwidth": 2,
            "linecolor": "white",
            "showbackground": true,
            "ticks": "",
            "zerolinecolor": "white"
           },
           "yaxis": {
            "backgroundcolor": "#E5ECF6",
            "gridcolor": "white",
            "gridwidth": 2,
            "linecolor": "white",
            "showbackground": true,
            "ticks": "",
            "zerolinecolor": "white"
           },
           "zaxis": {
            "backgroundcolor": "#E5ECF6",
            "gridcolor": "white",
            "gridwidth": 2,
            "linecolor": "white",
            "showbackground": true,
            "ticks": "",
            "zerolinecolor": "white"
           }
          },
          "shapedefaults": {
           "line": {
            "color": "#2a3f5f"
           }
          },
          "ternary": {
           "aaxis": {
            "gridcolor": "white",
            "linecolor": "white",
            "ticks": ""
           },
           "baxis": {
            "gridcolor": "white",
            "linecolor": "white",
            "ticks": ""
           },
           "bgcolor": "#E5ECF6",
           "caxis": {
            "gridcolor": "white",
            "linecolor": "white",
            "ticks": ""
           }
          },
          "title": {
           "x": 0.05
          },
          "xaxis": {
           "automargin": true,
           "gridcolor": "white",
           "linecolor": "white",
           "ticks": "",
           "title": {
            "standoff": 15
           },
           "zerolinecolor": "white",
           "zerolinewidth": 2
          },
          "yaxis": {
           "automargin": true,
           "gridcolor": "white",
           "linecolor": "white",
           "ticks": "",
           "title": {
            "standoff": 15
           },
           "zerolinecolor": "white",
           "zerolinewidth": 2
          }
         }
        },
        "xaxis": {
         "anchor": "y",
         "autorange": true,
         "domain": [
          0,
          1
         ],
         "range": [
          -0.5,
          2.5
         ],
         "title": {
          "text": "value"
         },
         "type": "category"
        },
        "yaxis": {
         "anchor": "x",
         "autorange": true,
         "domain": [
          0,
          1
         ],
         "range": [
          0,
          13.68421052631579
         ],
         "title": {
          "text": "count"
         }
        }
       }
      },
      "image/png": "[encoded data removed]",
      "text/html": [
       "<div>                            <div id=\"d8c5e872-0c9e-4e01-8f74-3e316136b94c\" class=\"plotly-graph-div\" style=\"height:800px; width:100%;\"></div>            <script type=\"text/javascript\">                require([\"plotly\"], function(Plotly) {                    window.PLOTLYENV=window.PLOTLYENV || {};                                    if (document.getElementById(\"d8c5e872-0c9e-4e01-8f74-3e316136b94c\")) {                    Plotly.newPlot(                        \"d8c5e872-0c9e-4e01-8f74-3e316136b94c\",                        [{\"alignmentgroup\":\"True\",\"bingroup\":\"x\",\"hovertemplate\":\"variable=Target<br>value=%{x}<br>count=%{y}<extra></extra>\",\"legendgroup\":\"Target\",\"marker\":{\"color\":\"#636efa\",\"pattern\":{\"shape\":\"\"}},\"name\":\"Target\",\"offsetgroup\":\"Target\",\"orientation\":\"v\",\"showlegend\":true,\"type\":\"histogram\",\"x\":[\"Iris-setosa\",\"Iris-virginica\",\"Iris-virginica\",\"Iris-virginica\",\"Iris-virginica\",\"Iris-virginica\",\"Iris-setosa\",\"Iris-setosa\",\"Iris-virginica\",\"Iris-setosa\",\"Iris-setosa\",\"Iris-versicolor\",\"Iris-setosa\",\"Iris-virginica\",\"Iris-versicolor\",\"Iris-setosa\",\"Iris-setosa\",\"Iris-versicolor\",\"Iris-virginica\",\"Iris-virginica\",\"Iris-versicolor\",\"Iris-setosa\",\"Iris-virginica\",\"Iris-setosa\",\"Iris-versicolor\",\"Iris-versicolor\",\"Iris-virginica\",\"Iris-virginica\",\"Iris-versicolor\",\"Iris-setosa\"],\"xaxis\":\"x\",\"yaxis\":\"y\"},{\"alignmentgroup\":\"True\",\"bingroup\":\"x\",\"hovertemplate\":\"variable=Logistic Regression<br>value=%{x}<br>count=%{y}<extra></extra>\",\"legendgroup\":\"Logistic Regression\",\"marker\":{\"color\":\"#EF553B\",\"pattern\":{\"shape\":\"\"}},\"name\":\"Logistic Regression\",\"offsetgroup\":\"Logistic Regression\",\"orientation\":\"v\",\"showlegend\":true,\"type\":\"histogram\",\"x\":[\"Iris-setosa\",\"Iris-virginica\",\"Iris-virginica\",\"Iris-versicolor\",\"Iris-virginica\",\"Iris-virginica\",\"Iris-setosa\",\"Iris-setosa\",\"Iris-versicolor\",\"Iris-setosa\",\"Iris-setosa\",\"Iris-versicolor\",\"Iris-setosa\",\"Iris-virginica\",\"Iris-versicolor\",\"Iris-setosa\",\"Iris-setosa\",\"Iris-versicolor\",\"Iris-virginica\",\"Iris-virginica\",\"Iris-versicolor\",\"Iris-setosa\",\"Iris-virginica\",\"Iris-setosa\",\"Iris-versicolor\",\"Iris-versicolor\",\"Iris-virginica\",\"Iris-virginica\",\"Iris-versicolor\",\"Iris-setosa\"],\"xaxis\":\"x\",\"yaxis\":\"y\"},{\"alignmentgroup\":\"True\",\"bingroup\":\"x\",\"hovertemplate\":\"variable=SGDClassifier<br>value=%{x}<br>count=%{y}<extra></extra>\",\"legendgroup\":\"SGDClassifier\",\"marker\":{\"color\":\"#00cc96\",\"pattern\":{\"shape\":\"\"}},\"name\":\"SGDClassifier\",\"offsetgroup\":\"SGDClassifier\",\"orientation\":\"v\",\"showlegend\":true,\"type\":\"histogram\",\"x\":[\"Iris-setosa\",\"Iris-virginica\",\"Iris-virginica\",\"Iris-versicolor\",\"Iris-virginica\",\"Iris-virginica\",\"Iris-setosa\",\"Iris-setosa\",\"Iris-virginica\",\"Iris-setosa\",\"Iris-setosa\",\"Iris-versicolor\",\"Iris-setosa\",\"Iris-virginica\",\"Iris-versicolor\",\"Iris-setosa\",\"Iris-setosa\",\"Iris-virginica\",\"Iris-virginica\",\"Iris-virginica\",\"Iris-versicolor\",\"Iris-setosa\",\"Iris-virginica\",\"Iris-setosa\",\"Iris-virginica\",\"Iris-versicolor\",\"Iris-virginica\",\"Iris-virginica\",\"Iris-versicolor\",\"Iris-setosa\"],\"xaxis\":\"x\",\"yaxis\":\"y\"},{\"alignmentgroup\":\"True\",\"bingroup\":\"x\",\"hovertemplate\":\"variable=SVClassifier<br>value=%{x}<br>count=%{y}<extra></extra>\",\"legendgroup\":\"SVClassifier\",\"marker\":{\"color\":\"#ab63fa\",\"pattern\":{\"shape\":\"\"}},\"name\":\"SVClassifier\",\"offsetgroup\":\"SVClassifier\",\"orientation\":\"v\",\"showlegend\":true,\"type\":\"histogram\",\"x\":[\"Iris-setosa\",\"Iris-virginica\",\"Iris-virginica\",\"Iris-versicolor\",\"Iris-virginica\",\"Iris-virginica\",\"Iris-setosa\",\"Iris-setosa\",\"Iris-versicolor\",\"Iris-setosa\",\"Iris-setosa\",\"Iris-versicolor\",\"Iris-setosa\",\"Iris-virginica\",\"Iris-versicolor\",\"Iris-setosa\",\"Iris-setosa\",\"Iris-versicolor\",\"Iris-virginica\",\"Iris-virginica\",\"Iris-versicolor\",\"Iris-setosa\",\"Iris-virginica\",\"Iris-setosa\",\"Iris-versicolor\",\"Iris-versicolor\",\"Iris-virginica\",\"Iris-virginica\",\"Iris-versicolor\",\"Iris-setosa\"],\"xaxis\":\"x\",\"yaxis\":\"y\"},{\"alignmentgroup\":\"True\",\"bingroup\":\"x\",\"hovertemplate\":\"variable=KNNClassifier<br>value=%{x}<br>count=%{y}<extra></extra>\",\"legendgroup\":\"KNNClassifier\",\"marker\":{\"color\":\"#FFA15A\",\"pattern\":{\"shape\":\"\"}},\"name\":\"KNNClassifier\",\"offsetgroup\":\"KNNClassifier\",\"orientation\":\"v\",\"showlegend\":true,\"type\":\"histogram\",\"x\":[\"Iris-setosa\",\"Iris-virginica\",\"Iris-virginica\",\"Iris-versicolor\",\"Iris-virginica\",\"Iris-virginica\",\"Iris-setosa\",\"Iris-setosa\",\"Iris-versicolor\",\"Iris-setosa\",\"Iris-setosa\",\"Iris-versicolor\",\"Iris-setosa\",\"Iris-virginica\",\"Iris-versicolor\",\"Iris-setosa\",\"Iris-setosa\",\"Iris-versicolor\",\"Iris-virginica\",\"Iris-virginica\",\"Iris-versicolor\",\"Iris-setosa\",\"Iris-virginica\",\"Iris-setosa\",\"Iris-versicolor\",\"Iris-versicolor\",\"Iris-virginica\",\"Iris-virginica\",\"Iris-versicolor\",\"Iris-setosa\"],\"xaxis\":\"x\",\"yaxis\":\"y\"},{\"alignmentgroup\":\"True\",\"bingroup\":\"x\",\"hovertemplate\":\"variable=Decision Tree<br>value=%{x}<br>count=%{y}<extra></extra>\",\"legendgroup\":\"Decision Tree\",\"marker\":{\"color\":\"#19d3f3\",\"pattern\":{\"shape\":\"\"}},\"name\":\"Decision Tree\",\"offsetgroup\":\"Decision Tree\",\"orientation\":\"v\",\"showlegend\":true,\"type\":\"histogram\",\"x\":[\"Iris-setosa\",\"Iris-virginica\",\"Iris-virginica\",\"Iris-virginica\",\"Iris-virginica\",\"Iris-virginica\",\"Iris-setosa\",\"Iris-setosa\",\"Iris-versicolor\",\"Iris-setosa\",\"Iris-setosa\",\"Iris-versicolor\",\"Iris-setosa\",\"Iris-versicolor\",\"Iris-versicolor\",\"Iris-setosa\",\"Iris-setosa\",\"Iris-versicolor\",\"Iris-virginica\",\"Iris-virginica\",\"Iris-versicolor\",\"Iris-setosa\",\"Iris-virginica\",\"Iris-setosa\",\"Iris-versicolor\",\"Iris-versicolor\",\"Iris-virginica\",\"Iris-virginica\",\"Iris-versicolor\",\"Iris-setosa\"],\"xaxis\":\"x\",\"yaxis\":\"y\"},{\"alignmentgroup\":\"True\",\"bingroup\":\"x\",\"hovertemplate\":\"variable=Hist Grad Boosting<br>value=%{x}<br>count=%{y}<extra></extra>\",\"legendgroup\":\"Hist Grad Boosting\",\"marker\":{\"color\":\"#FF6692\",\"pattern\":{\"shape\":\"\"}},\"name\":\"Hist Grad Boosting\",\"offsetgroup\":\"Hist Grad Boosting\",\"orientation\":\"v\",\"showlegend\":true,\"type\":\"histogram\",\"x\":[\"Iris-setosa\",\"Iris-virginica\",\"Iris-virginica\",\"Iris-versicolor\",\"Iris-virginica\",\"Iris-virginica\",\"Iris-setosa\",\"Iris-setosa\",\"Iris-versicolor\",\"Iris-setosa\",\"Iris-setosa\",\"Iris-versicolor\",\"Iris-setosa\",\"Iris-virginica\",\"Iris-versicolor\",\"Iris-setosa\",\"Iris-setosa\",\"Iris-versicolor\",\"Iris-virginica\",\"Iris-virginica\",\"Iris-versicolor\",\"Iris-setosa\",\"Iris-virginica\",\"Iris-setosa\",\"Iris-versicolor\",\"Iris-versicolor\",\"Iris-virginica\",\"Iris-virginica\",\"Iris-versicolor\",\"Iris-setosa\"],\"xaxis\":\"x\",\"yaxis\":\"y\"}],                        {\"barmode\":\"group\",\"height\":800,\"legend\":{\"title\":{\"text\":\"variable\"},\"tracegroupgap\":0},\"margin\":{\"t\":60},\"template\":{\"data\":{\"bar\":[{\"error_x\":{\"color\":\"#2a3f5f\"},\"error_y\":{\"color\":\"#2a3f5f\"},\"marker\":{\"line\":{\"color\":\"#E5ECF6\",\"width\":0.5},\"pattern\":{\"fillmode\":\"overlay\",\"size\":10,\"solidity\":0.2}},\"type\":\"bar\"}],\"barpolar\":[{\"marker\":{\"line\":{\"color\":\"#E5ECF6\",\"width\":0.5},\"pattern\":{\"fillmode\":\"overlay\",\"size\":10,\"solidity\":0.2}},\"type\":\"barpolar\"}],\"carpet\":[{\"aaxis\":{\"endlinecolor\":\"#2a3f5f\",\"gridcolor\":\"white\",\"linecolor\":\"white\",\"minorgridcolor\":\"white\",\"startlinecolor\":\"#2a3f5f\"},\"baxis\":{\"endlinecolor\":\"#2a3f5f\",\"gridcolor\":\"white\",\"linecolor\":\"white\",\"minorgridcolor\":\"white\",\"startlinecolor\":\"#2a3f5f\"},\"type\":\"carpet\"}],\"choropleth\":[{\"colorbar\":{\"outlinewidth\":0,\"ticks\":\"\"},\"type\":\"choropleth\"}],\"contour\":[{\"colorbar\":{\"outlinewidth\":0,\"ticks\":\"\"},\"colorscale\":[[0.0,\"#0d0887\"],[0.1111111111111111,\"#46039f\"],[0.2222222222222222,\"#7201a8\"],[0.3333333333333333,\"#9c179e\"],[0.4444444444444444,\"#bd3786\"],[0.5555555555555556,\"#d8576b\"],[0.6666666666666666,\"#ed7953\"],[0.7777777777777778,\"#fb9f3a\"],[0.8888888888888888,\"#fdca26\"],[1.0,\"#f0f921\"]],\"type\":\"contour\"}],\"contourcarpet\":[{\"colorbar\":{\"outlinewidth\":0,\"ticks\":\"\"},\"type\":\"contourcarpet\"}],\"heatmap\":[{\"colorbar\":{\"outlinewidth\":0,\"ticks\":\"\"},\"colorscale\":[[0.0,\"#0d0887\"],[0.1111111111111111,\"#46039f\"],[0.2222222222222222,\"#7201a8\"],[0.3333333333333333,\"#9c179e\"],[0.4444444444444444,\"#bd3786\"],[0.5555555555555556,\"#d8576b\"],[0.6666666666666666,\"#ed7953\"],[0.7777777777777778,\"#fb9f3a\"],[0.8888888888888888,\"#fdca26\"],[1.0,\"#f0f921\"]],\"type\":\"heatmap\"}],\"heatmapgl\":[{\"colorbar\":{\"outlinewidth\":0,\"ticks\":\"\"},\"colorscale\":[[0.0,\"#0d0887\"],[0.1111111111111111,\"#46039f\"],[0.2222222222222222,\"#7201a8\"],[0.3333333333333333,\"#9c179e\"],[0.4444444444444444,\"#bd3786\"],[0.5555555555555556,\"#d8576b\"],[0.6666666666666666,\"#ed7953\"],[0.7777777777777778,\"#fb9f3a\"],[0.8888888888888888,\"#fdca26\"],[1.0,\"#f0f921\"]],\"type\":\"heatmapgl\"}],\"histogram\":[{\"marker\":{\"pattern\":{\"fillmode\":\"overlay\",\"size\":10,\"solidity\":0.2}},\"type\":\"histogram\"}],\"histogram2d\":[{\"colorbar\":{\"outlinewidth\":0,\"ticks\":\"\"},\"colorscale\":[[0.0,\"#0d0887\"],[0.1111111111111111,\"#46039f\"],[0.2222222222222222,\"#7201a8\"],[0.3333333333333333,\"#9c179e\"],[0.4444444444444444,\"#bd3786\"],[0.5555555555555556,\"#d8576b\"],[0.6666666666666666,\"#ed7953\"],[0.7777777777777778,\"#fb9f3a\"],[0.8888888888888888,\"#fdca26\"],[1.0,\"#f0f921\"]],\"type\":\"histogram2d\"}],\"histogram2dcontour\":[{\"colorbar\":{\"outlinewidth\":0,\"ticks\":\"\"},\"colorscale\":[[0.0,\"#0d0887\"],[0.1111111111111111,\"#46039f\"],[0.2222222222222222,\"#7201a8\"],[0.3333333333333333,\"#9c179e\"],[0.4444444444444444,\"#bd3786\"],[0.5555555555555556,\"#d8576b\"],[0.6666666666666666,\"#ed7953\"],[0.7777777777777778,\"#fb9f3a\"],[0.8888888888888888,\"#fdca26\"],[1.0,\"#f0f921\"]],\"type\":\"histogram2dcontour\"}],\"mesh3d\":[{\"colorbar\":{\"outlinewidth\":0,\"ticks\":\"\"},\"type\":\"mesh3d\"}],\"parcoords\":[{\"line\":{\"colorbar\":{\"outlinewidth\":0,\"ticks\":\"\"}},\"type\":\"parcoords\"}],\"pie\":[{\"automargin\":true,\"type\":\"pie\"}],\"scatter\":[{\"marker\":{\"colorbar\":{\"outlinewidth\":0,\"ticks\":\"\"}},\"type\":\"scatter\"}],\"scatter3d\":[{\"line\":{\"colorbar\":{\"outlinewidth\":0,\"ticks\":\"\"}},\"marker\":{\"colorbar\":{\"outlinewidth\":0,\"ticks\":\"\"}},\"type\":\"scatter3d\"}],\"scattercarpet\":[{\"marker\":{\"colorbar\":{\"outlinewidth\":0,\"ticks\":\"\"}},\"type\":\"scattercarpet\"}],\"scattergeo\":[{\"marker\":{\"colorbar\":{\"outlinewidth\":0,\"ticks\":\"\"}},\"type\":\"scattergeo\"}],\"scattergl\":[{\"marker\":{\"colorbar\":{\"outlinewidth\":0,\"ticks\":\"\"}},\"type\":\"scattergl\"}],\"scattermapbox\":[{\"marker\":{\"colorbar\":{\"outlinewidth\":0,\"ticks\":\"\"}},\"type\":\"scattermapbox\"}],\"scatterpolar\":[{\"marker\":{\"colorbar\":{\"outlinewidth\":0,\"ticks\":\"\"}},\"type\":\"scatterpolar\"}],\"scatterpolargl\":[{\"marker\":{\"colorbar\":{\"outlinewidth\":0,\"ticks\":\"\"}},\"type\":\"scatterpolargl\"}],\"scatterternary\":[{\"marker\":{\"colorbar\":{\"outlinewidth\":0,\"ticks\":\"\"}},\"type\":\"scatterternary\"}],\"surface\":[{\"colorbar\":{\"outlinewidth\":0,\"ticks\":\"\"},\"colorscale\":[[0.0,\"#0d0887\"],[0.1111111111111111,\"#46039f\"],[0.2222222222222222,\"#7201a8\"],[0.3333333333333333,\"#9c179e\"],[0.4444444444444444,\"#bd3786\"],[0.5555555555555556,\"#d8576b\"],[0.6666666666666666,\"#ed7953\"],[0.7777777777777778,\"#fb9f3a\"],[0.8888888888888888,\"#fdca26\"],[1.0,\"#f0f921\"]],\"type\":\"surface\"}],\"table\":[{\"cells\":{\"fill\":{\"color\":\"#EBF0F8\"},\"line\":{\"color\":\"white\"}},\"header\":{\"fill\":{\"color\":\"#C8D4E3\"},\"line\":{\"color\":\"white\"}},\"type\":\"table\"}]},\"layout\":{\"annotationdefaults\":{\"arrowcolor\":\"#2a3f5f\",\"arrowhead\":0,\"arrowwidth\":1},\"autotypenumbers\":\"strict\",\"coloraxis\":{\"colorbar\":{\"outlinewidth\":0,\"ticks\":\"\"}},\"colorscale\":{\"diverging\":[[0,\"#8e0152\"],[0.1,\"#c51b7d\"],[0.2,\"#de77ae\"],[0.3,\"#f1b6da\"],[0.4,\"#fde0ef\"],[0.5,\"#f7f7f7\"],[0.6,\"#e6f5d0\"],[0.7,\"#b8e186\"],[0.8,\"#7fbc41\"],[0.9,\"#4d9221\"],[1,\"#276419\"]],\"sequential\":[[0.0,\"#0d0887\"],[0.1111111111111111,\"#46039f\"],[0.2222222222222222,\"#7201a8\"],[0.3333333333333333,\"#9c179e\"],[0.4444444444444444,\"#bd3786\"],[0.5555555555555556,\"#d8576b\"],[0.6666666666666666,\"#ed7953\"],[0.7777777777777778,\"#fb9f3a\"],[0.8888888888888888,\"#fdca26\"],[1.0,\"#f0f921\"]],\"sequentialminus\":[[0.0,\"#0d0887\"],[0.1111111111111111,\"#46039f\"],[0.2222222222222222,\"#7201a8\"],[0.3333333333333333,\"#9c179e\"],[0.4444444444444444,\"#bd3786\"],[0.5555555555555556,\"#d8576b\"],[0.6666666666666666,\"#ed7953\"],[0.7777777777777778,\"#fb9f3a\"],[0.8888888888888888,\"#fdca26\"],[1.0,\"#f0f921\"]]},\"colorway\":[\"#636efa\",\"#EF553B\",\"#00cc96\",\"#ab63fa\",\"#FFA15A\",\"#19d3f3\",\"#FF6692\",\"#B6E880\",\"#FF97FF\",\"#FECB52\"],\"font\":{\"color\":\"#2a3f5f\"},\"geo\":{\"bgcolor\":\"white\",\"lakecolor\":\"white\",\"landcolor\":\"#E5ECF6\",\"showlakes\":true,\"showland\":true,\"subunitcolor\":\"white\"},\"hoverlabel\":{\"align\":\"left\"},\"hovermode\":\"closest\",\"mapbox\":{\"style\":\"light\"},\"paper_bgcolor\":\"white\",\"plot_bgcolor\":\"#E5ECF6\",\"polar\":{\"angularaxis\":{\"gridcolor\":\"white\",\"linecolor\":\"white\",\"ticks\":\"\"},\"bgcolor\":\"#E5ECF6\",\"radialaxis\":{\"gridcolor\":\"white\",\"linecolor\":\"white\",\"ticks\":\"\"}},\"scene\":{\"xaxis\":{\"backgroundcolor\":\"#E5ECF6\",\"gridcolor\":\"white\",\"gridwidth\":2,\"linecolor\":\"white\",\"showbackground\":true,\"ticks\":\"\",\"zerolinecolor\":\"white\"},\"yaxis\":{\"backgroundcolor\":\"#E5ECF6\",\"gridcolor\":\"white\",\"gridwidth\":2,\"linecolor\":\"white\",\"showbackground\":true,\"ticks\":\"\",\"zerolinecolor\":\"white\"},\"zaxis\":{\"backgroundcolor\":\"#E5ECF6\",\"gridcolor\":\"white\",\"gridwidth\":2,\"linecolor\":\"white\",\"showbackground\":true,\"ticks\":\"\",\"zerolinecolor\":\"white\"}},\"shapedefaults\":{\"line\":{\"color\":\"#2a3f5f\"}},\"ternary\":{\"aaxis\":{\"gridcolor\":\"white\",\"linecolor\":\"white\",\"ticks\":\"\"},\"baxis\":{\"gridcolor\":\"white\",\"linecolor\":\"white\",\"ticks\":\"\"},\"bgcolor\":\"#E5ECF6\",\"caxis\":{\"gridcolor\":\"white\",\"linecolor\":\"white\",\"ticks\":\"\"}},\"title\":{\"x\":0.05},\"xaxis\":{\"automargin\":true,\"gridcolor\":\"white\",\"linecolor\":\"white\",\"ticks\":\"\",\"title\":{\"standoff\":15},\"zerolinecolor\":\"white\",\"zerolinewidth\":2},\"yaxis\":{\"automargin\":true,\"gridcolor\":\"white\",\"linecolor\":\"white\",\"ticks\":\"\",\"title\":{\"standoff\":15},\"zerolinecolor\":\"white\",\"zerolinewidth\":2}}},\"xaxis\":{\"anchor\":\"y\",\"domain\":[0.0,1.0],\"title\":{\"text\":\"value\"}},\"yaxis\":{\"anchor\":\"x\",\"domain\":[0.0,1.0],\"title\":{\"text\":\"count\"}}},                        {\"responsive\": true}                    ).then(function(){\n",
       "                            \n",
       "var gd = document.getElementById('d8c5e872-0c9e-4e01-8f74-3e316136b94c');\n",
       "var x = new MutationObserver(function (mutations, observer) {{\n",
       "        var display = window.getComputedStyle(gd).display;\n",
       "        if (!display || display === 'none') {{\n",
       "            console.log([gd, 'removed!']);\n",
       "            Plotly.purge(gd);\n",
       "            observer.disconnect();\n",
       "        }}\n",
       "}});\n",
       "\n",
       "// Listen for the removal of the full notebook cells\n",
       "var notebookContainer = gd.closest('#notebook-container');\n",
       "if (notebookContainer) {{\n",
       "    x.observe(notebookContainer, {childList: true});\n",
       "}}\n",
       "\n",
       "// Listen for the clearing of the current output cell\n",
       "var outputEl = gd.closest('.output');\n",
       "if (outputEl) {{\n",
       "    x.observe(outputEl, {childList: true});\n",
       "}}\n",
       "\n",
       "                        })                };                });            </script>        </div>"
      ]
     },
     "metadata": {},
     "output_type": "display_data"
    }
   ],
   "source": [
    "model_results_df.plot(kind = 'hist',\n",
    "                      barmode = 'group',\n",
    "                      height = 800\n",
    "                     )"
   ]
  },
  {
   "attachments": {
    "44947e24-a1a6-45a4-951d-01ba0efcb542.png": {
     "image/png": "[encoded data removed]"
    }
   },
   "cell_type": "markdown",
   "id": "9eb5901e-7996-4394-b399-f5f0c8e18028",
   "metadata": {},
   "source": [
    "### <font style = \"color:rgb(125, 41, 243)\"> **2-Feature Model Accuracy Checking** </font>\n",
    "\n",
    "The purpose of this step is to look for `Overfitting` or `Underfitting` according to these definitions:\n",
    "\n",
    "![image.png](attachment:44947e24-a1a6-45a4-951d-01ba0efcb542.png)"
   ]
  },
  {
   "cell_type": "markdown",
   "id": "792c771f-3326-4939-b416-4b54709a1e99",
   "metadata": {},
   "source": [
    "#### <font style = \"color:rgb(125, 41, 243)\"> **Logistic Regression** </font>"
   ]
  },
  {
   "cell_type": "code",
   "execution_count": 43,
   "id": "e7d9bac3-03de-436d-b383-95e61ceb59cd",
   "metadata": {},
   "outputs": [
    {
     "name": "stdout",
     "output_type": "stream",
     "text": [
      "The accuracy using a logistic regression model is 0.933 in 16 iterations\n"
     ]
    }
   ],
   "source": [
    "# Logistic Regression\n",
    "lr_score = logistic_regression_model.score(data_test2f, target_test2f)\n",
    "\n",
    "print(f\"The accuracy using a logistic regression model is {lr_score:.3f} \"\n",
    "       f\"in {logistic_regression_model[-1].n_iter_[0]} iterations\")"
   ]
  },
  {
   "cell_type": "markdown",
   "id": "6279a627-e476-4b8e-a9d9-f2625923f61b",
   "metadata": {},
   "source": [
    "#### <font style = \"color:rgb(125, 41, 243)\"> **SGDClasifier** </font>"
   ]
  },
  {
   "cell_type": "code",
   "execution_count": 44,
   "id": "ce66f04f-1ea6-4e11-a3e7-885181a64046",
   "metadata": {},
   "outputs": [
    {
     "name": "stdout",
     "output_type": "stream",
     "text": [
      "The accuracy using a sgdc model is 0.900 \n"
     ]
    }
   ],
   "source": [
    "# SGDClasifier\n",
    "sgdc_score = sgdc_model.score(data_test2f, target_test2f)\n",
    "\n",
    "print(f\"The accuracy using a sgdc model is {sgdc_score:.3f} \")"
   ]
  },
  {
   "cell_type": "markdown",
   "id": "191b93ed-2e88-48e1-8da7-b7abfdc1507d",
   "metadata": {},
   "source": [
    "#### <font style = \"color:rgb(125, 41, 243)\"> **SVClasifier** </font>"
   ]
  },
  {
   "cell_type": "code",
   "execution_count": 45,
   "id": "f529362a-af52-42cb-bb94-f27f5487a178",
   "metadata": {},
   "outputs": [
    {
     "name": "stdout",
     "output_type": "stream",
     "text": [
      "The accuracy using a svc model is 0.933 \n"
     ]
    }
   ],
   "source": [
    "# SVClasifier \n",
    "svc_score = svc_model.score(data_test2f, target_test2f)\n",
    "\n",
    "print(f\"The accuracy using a svc model is {svc_score:.3f} \")"
   ]
  },
  {
   "cell_type": "markdown",
   "id": "e39c3e6f-8e58-498c-ad9e-a559e5b0a325",
   "metadata": {},
   "source": [
    "#### <font style = \"color:rgb(125, 41, 243)\"> **KNearestNeighbors** </font>"
   ]
  },
  {
   "cell_type": "code",
   "execution_count": 46,
   "id": "d89450fd-b086-4b16-947f-f2bffda54370",
   "metadata": {},
   "outputs": [
    {
     "name": "stdout",
     "output_type": "stream",
     "text": [
      "The accuracy using a k-nearest neighbor model is 0.933 \n"
     ]
    }
   ],
   "source": [
    "# KNN Clasifier\n",
    "knn_score = knn_model.score(data_test2f, target_test2f)\n",
    "\n",
    "print(f\"The accuracy using a k-nearest neighbor model is {knn_score:.3f} \")"
   ]
  },
  {
   "cell_type": "markdown",
   "id": "3ef49b75-7f7a-44f1-b184-4157f0a5f1ed",
   "metadata": {},
   "source": [
    "#### <font style = \"color:rgb(125, 41, 243)\"> **Decision tree** </font>"
   ]
  },
  {
   "cell_type": "code",
   "execution_count": 47,
   "id": "1402082e-7350-4437-a452-15f35dfee4e2",
   "metadata": {},
   "outputs": [
    {
     "name": "stdout",
     "output_type": "stream",
     "text": [
      "The accuracy using a decision tree model is 0.933 \n"
     ]
    }
   ],
   "source": [
    "# Decision Tree\n",
    "tree_score = tree_model.score(data_test2f, target_test2f)\n",
    "\n",
    "print(f\"The accuracy using a decision tree model is {tree_score:.3f} \")"
   ]
  },
  {
   "cell_type": "markdown",
   "id": "833f1019-5e67-4888-a113-4d53d0a66ed9",
   "metadata": {},
   "source": [
    "#### <font style = \"color:rgb(125, 41, 243)\"> **Histgrade Boost** </font>"
   ]
  },
  {
   "cell_type": "code",
   "execution_count": 48,
   "id": "01eac296-e071-4c5b-90da-77190c6566a9",
   "metadata": {},
   "outputs": [
    {
     "name": "stdout",
     "output_type": "stream",
     "text": [
      "The accuracy using a decision tree model is 0.933 \n"
     ]
    }
   ],
   "source": [
    "# Histgrade Boost\n",
    "histboost_score = histboost_model.score(data_test2f, target_test2f)\n",
    "\n",
    "print(f\"The accuracy using a decision tree model is {histboost_score:.3f} \")"
   ]
  },
  {
   "attachments": {
    "9720a687-83ca-40c6-913c-9cbe2f073ca7.png": {
     "image/png": "[encoded data removed]"
    },
    "f7da321e-a834-4556-bc18-3fb1c6faf871.png": {
     "image/png": "[encoded data removed]"
    }
   },
   "cell_type": "markdown",
   "id": "246218fe-5d52-497b-bcd6-4724bf068070",
   "metadata": {},
   "source": [
    "### <font style = \"color:rgb(125, 41, 243)\"> **2-Feature Cross Validation** </font>\n",
    "\n",
    "The purpose of cross validation is to check the general performance of your model. \n",
    "\n",
    "The following graphic, and description, comes from [this website](https://inria.github.io/scikit-learn-mooc/python_scripts/02_numerical_pipeline_scaling.html): \n",
    "\n",
    "Cross-validation consists of repeating the procedure such that the training and testing sets are different each time. Generalization performance metrics are collected for each repetition and then aggregated. As a result we can get an estimate of the variability of the model’s generalization performance.\n",
    "\n",
    "Note that there exists several cross-validation strategies, each of them defines how to repeat the fit/score procedure. In this section, we will use the K-fold strategy: the entire dataset is split into K partitions. The `fit/score` procedure is repeated `K` times where at each iteration `K - 1` partitions are used to fit the model and `1` partition is used to score. The figure below illustrates this K-fold strategy.\n",
    "\n",
    "![image.png](attachment:f7da321e-a834-4556-bc18-3fb1c6faf871.png)\n",
    "\n",
    "The following graph comes from [this website](https://scikit-learn.org/stable/modules/cross_validation.html): \n",
    "\n",
    "![image.png](attachment:9720a687-83ca-40c6-913c-9cbe2f073ca7.png)"
   ]
  },
  {
   "cell_type": "markdown",
   "id": "338d7bc5-e985-49d5-877a-88fc9d3bea7e",
   "metadata": {},
   "source": [
    "#### <font style = \"color:rgb(125, 41, 243)\"> **Logistic Regression Cross Validation** </font>"
   ]
  },
  {
   "cell_type": "code",
   "execution_count": 49,
   "id": "6eca03b1-0b3c-461c-aa58-6d96a796ca5e",
   "metadata": {},
   "outputs": [
    {
     "data": {
      "text/plain": [
       "{'fit_time': array([0.00977778, 0.00915742, 0.01260805, 0.00751448, 0.0080564 ]),\n",
       " 'score_time': array([0.00132966, 0.00155592, 0.0013485 , 0.00134802, 0.00150061]),\n",
       " 'test_score': array([0.96666667, 0.96666667, 0.93333333, 0.93333333, 1.        ])}"
      ]
     },
     "execution_count": 49,
     "metadata": {},
     "output_type": "execute_result"
    }
   ],
   "source": [
    "# Logistic Regression Cross-Validation\n",
    "cv_result_lr = cross_validate(logistic_regression_model,\n",
    "                              data_2features, \n",
    "                              target, \n",
    "                              cv = 5\n",
    "                             )\n",
    "\n",
    "cv_result_lr"
   ]
  },
  {
   "cell_type": "code",
   "execution_count": 50,
   "id": "cc60f451-c286-42a6-af74-205a37303dd3",
   "metadata": {},
   "outputs": [
    {
     "name": "stdout",
     "output_type": "stream",
     "text": [
      "The mean cross-validation accuracy is: 0.960 +/- 0.025\n"
     ]
    }
   ],
   "source": [
    "# Logistic Regression results\n",
    "cv_scores_lr = cv_result_lr[\"test_score\"]\n",
    "print(\"The mean cross-validation accuracy is: \"\n",
    "      f\"{cv_scores_lr.mean():.3f} +/- {cv_scores_lr.std():.3f}\")"
   ]
  },
  {
   "cell_type": "code",
   "execution_count": 51,
   "id": "f0e292d4-de95-4a8d-bddc-37a962e23997",
   "metadata": {},
   "outputs": [
    {
     "data": {
      "text/plain": [
       "{'fit_time': array([0.00977778, 0.00915742, 0.01260805, 0.00751448, 0.0080564 ]),\n",
       " 'score_time': array([0.00132966, 0.00155592, 0.0013485 , 0.00134802, 0.00150061]),\n",
       " 'test_score': array([0.96666667, 0.96666667, 0.93333333, 0.93333333, 1.        ]),\n",
       " 'test_error': array([-0.96666667, -0.96666667, -0.93333333, -0.93333333, -1.        ])}"
      ]
     },
     "execution_count": 51,
     "metadata": {},
     "output_type": "execute_result"
    }
   ],
   "source": [
    "cv_result_lr[\"test_error\"] = -cv_result_lr[\"test_score\"]\n",
    "\n",
    "cv_result_lr"
   ]
  },
  {
   "cell_type": "code",
   "execution_count": 52,
   "id": "819f64b4-a74b-4f8b-a0bf-85ab1d28e376",
   "metadata": {},
   "outputs": [],
   "source": [
    "lr_bins = widgets.IntSlider(value = None,\n",
    "                            min = 0,\n",
    "                            max = 50,\n",
    "                            step = 1,\n",
    "                            description = 'bins',\n",
    "                            disabled = False,\n",
    "                            continuous_update = False,\n",
    "                            orientation = 'horizontal',\n",
    "                            readout = True,\n",
    "                            readout_format = 'd'\n",
    "                           )"
   ]
  },
  {
   "cell_type": "code",
   "execution_count": 53,
   "id": "ebd800e5-8c1d-4ffa-b849-34f34a266e30",
   "metadata": {},
   "outputs": [
    {
     "data": {
      "text/plain": [
       "dict_keys(['fit_time', 'score_time', 'test_score', 'test_error'])"
      ]
     },
     "execution_count": 53,
     "metadata": {},
     "output_type": "execute_result"
    }
   ],
   "source": [
    "features_lr = cv_result_lr.keys()\n",
    "\n",
    "features_lr"
   ]
  },
  {
   "cell_type": "code",
   "execution_count": 54,
   "id": "5c7ef563-d363-4a4f-88b7-93745b8a46cd",
   "metadata": {},
   "outputs": [
    {
     "data": {
      "application/vnd.jupyter.widget-view+json": {
       "model_id": "f157d874e01d4ee4987d5539094da106",
       "version_major": 2,
       "version_minor": 0
      },
      "text/plain": [
       "interactive(children=(IntSlider(value=0, continuous_update=False, description='bins', max=50), Dropdown(descri…"
      ]
     },
     "metadata": {},
     "output_type": "display_data"
    }
   ],
   "source": [
    "@widgets.interact\n",
    "def cv_lr(bins = lr_bins, x_feature = features_lr):\n",
    "    fig = px.histogram(cv_result_lr, \n",
    "                       x = x_feature,\n",
    "                       histfunc = None, # None, 'count', 'sum', 'avg', 'min', 'max'\n",
    "                       histnorm = 'percent', # None, 'percent', 'probability', 'density', 'probability density'\n",
    "                       nbins = bins,\n",
    "                       height = 400,\n",
    "                       width = 500,\n",
    "                       )\n",
    "\n",
    "    fig.show()"
   ]
  },
  {
   "cell_type": "markdown",
   "id": "47e5b34c-ffea-47c3-95e7-75141b446b3e",
   "metadata": {},
   "source": [
    "#### <font style = \"color:rgb(125, 41, 243)\"> **SGDClasifier Cross Validation** </font>"
   ]
  },
  {
   "cell_type": "code",
   "execution_count": 55,
   "id": "3874703d-7ca6-4c21-8e34-f34210c3b4cf",
   "metadata": {},
   "outputs": [
    {
     "data": {
      "text/plain": [
       "{'fit_time': array([0.00583267, 0.00916767, 0.00500441, 0.00529814, 0.00420833]),\n",
       " 'score_time': array([0.00179648, 0.00140262, 0.00122428, 0.0012629 , 0.00135279]),\n",
       " 'test_score': array([0.93333333, 0.96666667, 0.9       , 0.9       , 0.96666667])}"
      ]
     },
     "execution_count": 55,
     "metadata": {},
     "output_type": "execute_result"
    }
   ],
   "source": [
    "# SGDClasifier Cross-Validation\n",
    "cv_result_sgdc = cross_validate(sgdc_model,\n",
    "                                data_2features, \n",
    "                                target, \n",
    "                                cv = 5\n",
    "                                )\n",
    "\n",
    "cv_result_sgdc"
   ]
  },
  {
   "cell_type": "code",
   "execution_count": 56,
   "id": "f179527c-79b8-4734-8e09-e358c8816333",
   "metadata": {},
   "outputs": [
    {
     "name": "stdout",
     "output_type": "stream",
     "text": [
      "The mean cross-validation accuracy is: 0.933 +/- 0.030\n"
     ]
    }
   ],
   "source": [
    "# SGDClasifier Cross-Validation reults\n",
    "cv_scores_sgdc = cv_result_sgdc[\"test_score\"]\n",
    "print(\"The mean cross-validation accuracy is: \"\n",
    "      f\"{cv_scores_sgdc.mean():.3f} +/- {cv_scores_sgdc.std():.3f}\")"
   ]
  },
  {
   "cell_type": "markdown",
   "id": "a051b860-0bf8-49b5-a0e1-4fb58d9b5fe8",
   "metadata": {},
   "source": [
    "#### <font style = \"color:rgb(125, 41, 243)\"> **SVClasifier Cross Validation** </font>"
   ]
  },
  {
   "cell_type": "code",
   "execution_count": 57,
   "id": "1b97f793-3f0d-4140-a0fa-4a2ad82b0507",
   "metadata": {},
   "outputs": [
    {
     "data": {
      "text/plain": [
       "{'fit_time': array([0.00403237, 0.00328302, 0.00318527, 0.00700974, 0.00404096]),\n",
       " 'score_time': array([0.0017097 , 0.00125098, 0.00134802, 0.00323629, 0.00123811]),\n",
       " 'test_score': array([0.96666667, 0.96666667, 0.93333333, 0.93333333, 1.        ])}"
      ]
     },
     "execution_count": 57,
     "metadata": {},
     "output_type": "execute_result"
    }
   ],
   "source": [
    "# SVClasifier Cross-Validation\n",
    "cv_result_svc = cross_validate(svc_model,\n",
    "                               data_2features, \n",
    "                               target, \n",
    "                               cv = 5\n",
    "                              )\n",
    "\n",
    "cv_result_svc"
   ]
  },
  {
   "cell_type": "code",
   "execution_count": 58,
   "id": "9a816de6-5b43-484e-8cb1-afd890e27b30",
   "metadata": {},
   "outputs": [
    {
     "name": "stdout",
     "output_type": "stream",
     "text": [
      "The mean cross-validation accuracy is: 0.960 +/- 0.025\n"
     ]
    }
   ],
   "source": [
    "# SVClasifier Cross-Validation reults\n",
    "cv_scores_svc = cv_result_svc[\"test_score\"]\n",
    "print(\"The mean cross-validation accuracy is: \"\n",
    "      f\"{cv_scores_svc.mean():.3f} +/- {cv_scores_svc.std():.3f}\")"
   ]
  },
  {
   "cell_type": "markdown",
   "id": "a829f613-0e1c-4a30-912b-8f3025feb56a",
   "metadata": {},
   "source": [
    "#### <font style = \"color:rgb(125, 41, 243)\"> **KNearestNeighbors Cross Validation** </font>"
   ]
  },
  {
   "cell_type": "code",
   "execution_count": 59,
   "id": "8f9c48b7-3bf8-4d08-b2c9-e0bc87c35a90",
   "metadata": {},
   "outputs": [
    {
     "data": {
      "text/plain": [
       "{'fit_time': array([0.00481963, 0.00435305, 0.0038085 , 0.0029285 , 0.00332069]),\n",
       " 'score_time': array([0.00412083, 0.00299215, 0.00308585, 0.00258732, 0.0029757 ]),\n",
       " 'test_score': array([0.96666667, 0.96666667, 0.93333333, 0.93333333, 1.        ])}"
      ]
     },
     "execution_count": 59,
     "metadata": {},
     "output_type": "execute_result"
    }
   ],
   "source": [
    "# KNN Clasifier Cross-Validation\n",
    "cv_result_knn = cross_validate(knn_model,\n",
    "                               data_2features, \n",
    "                               target, \n",
    "                               cv = 5\n",
    "                              )\n",
    "\n",
    "cv_result_knn"
   ]
  },
  {
   "cell_type": "code",
   "execution_count": 60,
   "id": "9121163c-a538-4397-a6d1-3172a395bf2b",
   "metadata": {},
   "outputs": [
    {
     "name": "stdout",
     "output_type": "stream",
     "text": [
      "The mean cross-validation accuracy is: 0.960 +/- 0.025\n"
     ]
    }
   ],
   "source": [
    "# KNN Clasifier Cross-Validation reults\n",
    "cv_scores_knn = cv_result_knn[\"test_score\"]\n",
    "print(\"The mean cross-validation accuracy is: \"\n",
    "      f\"{cv_scores_knn.mean():.3f} +/- {cv_scores_knn.std():.3f}\")"
   ]
  },
  {
   "cell_type": "markdown",
   "id": "3946dfa6-8fb2-45aa-9aa7-6a6e714dbdba",
   "metadata": {},
   "source": [
    "#### <font style = \"color:rgb(125, 41, 243)\"> **Decision Tree Cross Validation** </font>"
   ]
  },
  {
   "cell_type": "code",
   "execution_count": 61,
   "id": "ca1a1f01-dbdb-48d1-b7e1-fd4b8310dfcf",
   "metadata": {},
   "outputs": [
    {
     "data": {
      "text/plain": [
       "{'fit_time': array([0.00670743, 0.0048461 , 0.00347996, 0.00307751, 0.0065546 ]),\n",
       " 'score_time': array([0.00235748, 0.00147724, 0.00120187, 0.00153661, 0.00122428]),\n",
       " 'test_score': array([0.96666667, 0.96666667, 0.9       , 0.96666667, 1.        ])}"
      ]
     },
     "execution_count": 61,
     "metadata": {},
     "output_type": "execute_result"
    }
   ],
   "source": [
    "# Decision Tree Clasifier Cross-Validation\n",
    "cv_result_tree = cross_validate(tree_model,\n",
    "                                data_2features, \n",
    "                                target, \n",
    "                                cv = 5\n",
    "                               )\n",
    "\n",
    "cv_result_tree"
   ]
  },
  {
   "cell_type": "code",
   "execution_count": 62,
   "id": "65e9ae4e-4c39-432e-bc0a-fa13f08e5b99",
   "metadata": {},
   "outputs": [
    {
     "name": "stdout",
     "output_type": "stream",
     "text": [
      "The mean cross-validation accuracy is: 0.960 +/- 0.033\n"
     ]
    }
   ],
   "source": [
    "# Decision Tree Clasifier Cross-Validation reults\n",
    "cv_scores_tree = cv_result_tree[\"test_score\"]\n",
    "print(\"The mean cross-validation accuracy is: \"\n",
    "      f\"{cv_scores_tree.mean():.3f} +/- {cv_scores_tree.std():.3f}\")"
   ]
  },
  {
   "cell_type": "markdown",
   "id": "cd0f56da-dbf7-4ae7-b488-7ff6c6327ded",
   "metadata": {},
   "source": [
    "#### <font style = \"color:rgb(125, 41, 243)\"> **Histgrade Boost Cross Validation** </font>"
   ]
  },
  {
   "cell_type": "code",
   "execution_count": 63,
   "id": "0ca6c7ef-d106-4d31-8923-5e000be22798",
   "metadata": {},
   "outputs": [
    {
     "data": {
      "text/plain": [
       "{'fit_time': array([0.53688216, 0.22959232, 0.27088594, 0.24963427, 0.28575158]),\n",
       " 'score_time': array([0.01657557, 0.00814009, 0.00864673, 0.00823569, 0.00673509]),\n",
       " 'test_score': array([0.96666667, 0.96666667, 0.9       , 0.96666667, 1.        ])}"
      ]
     },
     "execution_count": 63,
     "metadata": {},
     "output_type": "execute_result"
    }
   ],
   "source": [
    "# Decision Tree Clasifier Cross-Validation\n",
    "cv_result_histboost = cross_validate(histboost_model,\n",
    "                                     data_2features, \n",
    "                                     target, \n",
    "                                     cv = 5\n",
    "                                     )\n",
    "\n",
    "cv_result_histboost"
   ]
  },
  {
   "cell_type": "code",
   "execution_count": 64,
   "id": "42728f74-fad2-43b2-bff4-5809bf1ba683",
   "metadata": {},
   "outputs": [
    {
     "name": "stdout",
     "output_type": "stream",
     "text": [
      "The mean cross-validation accuracy is: 0.960 +/- 0.033\n"
     ]
    }
   ],
   "source": [
    "# Decision Tree Clasifier Cross-Validation reults\n",
    "cv_scores_histboost = cv_result_histboost[\"test_score\"]\n",
    "print(\"The mean cross-validation accuracy is: \"\n",
    "      f\"{cv_scores_histboost.mean():.3f} +/- {cv_scores_histboost.std():.3f}\")"
   ]
  },
  {
   "cell_type": "code",
   "execution_count": null,
   "id": "9e1beaa7-6320-41a2-a38c-05e3b3a2b6bb",
   "metadata": {},
   "outputs": [],
   "source": []
  },
  {
   "cell_type": "code",
   "execution_count": null,
   "id": "d9856dd1-105d-423b-b8ff-dcb6c7eb7d51",
   "metadata": {},
   "outputs": [],
   "source": []
  },
  {
   "cell_type": "code",
   "execution_count": null,
   "id": "c8c12810-c982-46a8-94c7-ff36af51729d",
   "metadata": {},
   "outputs": [],
   "source": []
  },
  {
   "cell_type": "code",
   "execution_count": null,
   "id": "66d3f19c-339a-426f-9a90-02515de13992",
   "metadata": {},
   "outputs": [],
   "source": []
  },
  {
   "cell_type": "code",
   "execution_count": null,
   "id": "fe712264-ed02-408f-afd9-a7adab81d352",
   "metadata": {},
   "outputs": [],
   "source": []
  },
  {
   "cell_type": "code",
   "execution_count": null,
   "id": "77d7d26f-b67f-4060-880a-ead3b9fb5ce7",
   "metadata": {},
   "outputs": [],
   "source": [
    "result = nn_model.score(data_test2f, target_test2f)"
   ]
  },
  {
   "cell_type": "code",
   "execution_count": null,
   "id": "5e1fa68b-d348-461d-a829-e7be424df65f",
   "metadata": {},
   "outputs": [],
   "source": []
  },
  {
   "cell_type": "code",
   "execution_count": null,
   "id": "ce9cbae6-71ca-4395-b886-f372be2afd2d",
   "metadata": {},
   "outputs": [],
   "source": [
    "nn_model.score"
   ]
  },
  {
   "cell_type": "code",
   "execution_count": null,
   "id": "16cab25a-7c6d-4303-b1ef-c7520afd58e1",
   "metadata": {},
   "outputs": [],
   "source": []
  },
  {
   "cell_type": "code",
   "execution_count": null,
   "id": "280e4a86-a087-46a2-b8cc-a5d8341ad376",
   "metadata": {},
   "outputs": [],
   "source": []
  },
  {
   "cell_type": "code",
   "execution_count": null,
   "id": "33251e1a-5bbf-4c70-a331-400146cf588a",
   "metadata": {},
   "outputs": [],
   "source": []
  },
  {
   "cell_type": "code",
   "execution_count": null,
   "id": "4dd00ba5-8057-432e-9b7f-afe29eb443a7",
   "metadata": {},
   "outputs": [],
   "source": []
  },
  {
   "cell_type": "code",
   "execution_count": null,
   "id": "ff536796-11e6-48ed-a5c8-19e7aa79b5a5",
   "metadata": {},
   "outputs": [],
   "source": []
  },
  {
   "cell_type": "code",
   "execution_count": null,
   "id": "b1824aa6-a51d-4890-b5e5-66d8ff3c546e",
   "metadata": {},
   "outputs": [],
   "source": [
    "\n",
    "print(f\"The accuracy using a logistic regression model is {sgdc_score:.3f} \"\n",
    "       f\"in {sgdc_model[-1].n_iter_[0]} iterations\")"
   ]
  },
  {
   "cell_type": "code",
   "execution_count": null,
   "id": "af02b2da-3513-4618-91b2-90014a762b48",
   "metadata": {},
   "outputs": [],
   "source": []
  },
  {
   "cell_type": "code",
   "execution_count": null,
   "id": "822c37e4-ba1f-4750-aac8-f09ea5de0bad",
   "metadata": {},
   "outputs": [],
   "source": [
    "lr_model_name = type(logistic_regression_model).__name__\n",
    "\n",
    "lr_model_name"
   ]
  },
  {
   "cell_type": "code",
   "execution_count": null,
   "id": "1a4b4944-3516-4730-8164-fd508e31f6f7",
   "metadata": {},
   "outputs": [],
   "source": [
    "lr_model_name = logistic_regression_model.__class__.__name__\n",
    "\n",
    "lr_model_name"
   ]
  },
  {
   "cell_type": "code",
   "execution_count": null,
   "id": "bd33ede8-2c70-4fd3-9fbe-b0c79cf01c17",
   "metadata": {},
   "outputs": [],
   "source": [
    "lr_score = logistic_regression_model.score(data_test2f, target_test2f)"
   ]
  },
  {
   "cell_type": "code",
   "execution_count": null,
   "id": "96947623-d77a-4855-9774-ea61e0e02fd0",
   "metadata": {},
   "outputs": [],
   "source": [
    "print(f\"The accuracy using a {model_name} is {score:.3f} \"\n",
    "      f\"with a fitting time of {elapsed_time:.3f} seconds \"\n",
    "      f\"in {model[-1].n_iter_[0]} iterations\")"
   ]
  },
  {
   "cell_type": "code",
   "execution_count": null,
   "id": "4bb6c98a-4e49-49fb-b645-0017b5736155",
   "metadata": {},
   "outputs": [],
   "source": [
    "score = model.score(data_test, target_test)"
   ]
  },
  {
   "cell_type": "code",
   "execution_count": null,
   "id": "4a097d0a-0a8e-4285-bd95-b7dd6feef29d",
   "metadata": {},
   "outputs": [],
   "source": []
  },
  {
   "cell_type": "code",
   "execution_count": null,
   "id": "d957fba7-99a3-42b1-a85a-7a7fc4ecfa6d",
   "metadata": {},
   "outputs": [],
   "source": []
  },
  {
   "cell_type": "code",
   "execution_count": null,
   "id": "92871a8a-2b9d-4198-a296-919aa74291eb",
   "metadata": {},
   "outputs": [],
   "source": [
    "model.named_steps"
   ]
  },
  {
   "cell_type": "code",
   "execution_count": null,
   "id": "6f8c05af-9763-4e54-b7ce-08d24aef7aca",
   "metadata": {},
   "outputs": [],
   "source": [
    "start = time.time()\n",
    "\n",
    "# Train the model\n",
    "model.fit(data_train, target_train)\n",
    "\n",
    "elapsed_time = time.time() - start"
   ]
  },
  {
   "cell_type": "code",
   "execution_count": null,
   "id": "0fa53489-fb0c-44b4-b46a-a2ee310e4b0d",
   "metadata": {},
   "outputs": [],
   "source": [
    "predicted_target = model.predict(data_test)\n",
    "\n",
    "predicted_target[:5]"
   ]
  },
  {
   "cell_type": "code",
   "execution_count": null,
   "id": "d837fd1f-7167-43f3-9456-e64175f1d872",
   "metadata": {},
   "outputs": [],
   "source": [
    "# Run the model with scaled features\n",
    "model_name = model.__class__.__name__\n",
    "\n",
    "model_name"
   ]
  },
  {
   "cell_type": "code",
   "execution_count": null,
   "id": "de61cb95-e925-49af-bbc8-3918a79b07e1",
   "metadata": {},
   "outputs": [],
   "source": [
    "target = iris_df[target_name]\n",
    "\n",
    "target"
   ]
  },
  {
   "cell_type": "code",
   "execution_count": null,
   "id": "8b321b82-3c2a-41f3-b821-dfb537fae022",
   "metadata": {},
   "outputs": [],
   "source": []
  },
  {
   "cell_type": "code",
   "execution_count": null,
   "id": "d15dc929-715d-4520-b1a6-5f146261b9bd",
   "metadata": {},
   "outputs": [],
   "source": []
  },
  {
   "cell_type": "code",
   "execution_count": null,
   "id": "4e43119b-244a-424d-a685-0d08b60b53b4",
   "metadata": {},
   "outputs": [],
   "source": []
  },
  {
   "cell_type": "code",
   "execution_count": null,
   "id": "eca16d23-b4d0-4717-8435-0d3e9f9d854e",
   "metadata": {},
   "outputs": [],
   "source": []
  },
  {
   "cell_type": "markdown",
   "id": "b4125139-4045-4767-b1a7-fdf67d1275dc",
   "metadata": {},
   "source": [
    "### <font style = \"color:rgb(125, 41, 243)\"> **Checking Accuracy** </font>"
   ]
  },
  {
   "cell_type": "code",
   "execution_count": null,
   "id": "5f958224-f801-4638-96f0-20554dbc7fb9",
   "metadata": {},
   "outputs": [],
   "source": [
    "score = model.score(data_test, target_test)"
   ]
  },
  {
   "cell_type": "code",
   "execution_count": null,
   "id": "52ff4247-7901-4419-9162-a17c657a18b9",
   "metadata": {},
   "outputs": [],
   "source": [
    "print(f\"The accuracy using a {model_name} is {score:.3f} \"\n",
    "      f\"with a fitting time of {elapsed_time:.3f} seconds \"\n",
    "      f\"in {model[-1].n_iter_[0]} iterations\")"
   ]
  },
  {
   "cell_type": "markdown",
   "id": "66868971-abdd-43ed-954b-7f8e948233c0",
   "metadata": {},
   "source": [
    "### <font style = \"color:rgb(125, 41, 243)\"> **Cross-Validation Check** </font>"
   ]
  },
  {
   "cell_type": "code",
   "execution_count": null,
   "id": "65245bbf-4473-49af-816a-7c9d7efd6d6c",
   "metadata": {},
   "outputs": [],
   "source": [
    "from sklearn.model_selection import cross_validate"
   ]
  },
  {
   "cell_type": "code",
   "execution_count": null,
   "id": "b5666b20-4124-46f5-a760-b6970b4e6da6",
   "metadata": {},
   "outputs": [],
   "source": [
    "model = make_pipeline(StandardScaler(), LogisticRegression())\n",
    "\n",
    "model"
   ]
  },
  {
   "cell_type": "code",
   "execution_count": null,
   "id": "1cd4cf93-7b12-401e-9978-9bc604ac4cf3",
   "metadata": {},
   "outputs": [],
   "source": [
    "%%time\n",
    "\n",
    "cv_result = cross_validate(model, data_2features, target, cv = 5)\n",
    "\n",
    "cv_result"
   ]
  },
  {
   "cell_type": "code",
   "execution_count": null,
   "id": "4cacd0b3-660d-403d-beee-6ff595c38a8d",
   "metadata": {},
   "outputs": [],
   "source": [
    "scores = cv_result[\"test_score\"]\n",
    "print(\"The mean cross-validation accuracy is: \"\n",
    "      f\"{scores.mean():.3f} +/- {scores.std():.3f}\")"
   ]
  },
  {
   "cell_type": "code",
   "execution_count": null,
   "id": "b257e67f-1320-4919-abda-54977303cb59",
   "metadata": {},
   "outputs": [],
   "source": []
  },
  {
   "cell_type": "code",
   "execution_count": null,
   "id": "8629c20b-f003-4a3c-9a05-5518180baf8f",
   "metadata": {},
   "outputs": [],
   "source": []
  },
  {
   "cell_type": "code",
   "execution_count": null,
   "id": "fd0392c2-6e33-45b2-b024-8cc91f764f80",
   "metadata": {},
   "outputs": [],
   "source": []
  },
  {
   "cell_type": "code",
   "execution_count": null,
   "id": "33d48ac9-d800-484e-86e5-2d27b83fdbb0",
   "metadata": {},
   "outputs": [],
   "source": []
  },
  {
   "cell_type": "code",
   "execution_count": null,
   "id": "2cd2b792-d6f9-43f3-9ce5-84cb4fbf44d5",
   "metadata": {},
   "outputs": [],
   "source": []
  },
  {
   "cell_type": "code",
   "execution_count": null,
   "id": "a4bea0f2-f174-4e9d-8fb9-5c834890a954",
   "metadata": {},
   "outputs": [],
   "source": []
  },
  {
   "cell_type": "code",
   "execution_count": null,
   "id": "ed376ef8-dca6-4c24-ad45-b7f5c72073fc",
   "metadata": {},
   "outputs": [],
   "source": []
  },
  {
   "cell_type": "code",
   "execution_count": null,
   "id": "f13c93de-c80b-449d-b02d-af3c4dfa3bf4",
   "metadata": {},
   "outputs": [],
   "source": []
  },
  {
   "cell_type": "code",
   "execution_count": null,
   "id": "5efd71c7-1242-40dc-9d53-e763288964b6",
   "metadata": {},
   "outputs": [],
   "source": []
  },
  {
   "cell_type": "code",
   "execution_count": null,
   "id": "7d6c7f43-e37c-4bf8-af1e-6111b6f83317",
   "metadata": {},
   "outputs": [],
   "source": []
  },
  {
   "cell_type": "code",
   "execution_count": null,
   "id": "ccb12a4c-7974-455d-9c85-01345909d81b",
   "metadata": {},
   "outputs": [],
   "source": []
  },
  {
   "cell_type": "code",
   "execution_count": null,
   "id": "38b52345-ef3d-4dca-b5b3-0be091db56e4",
   "metadata": {},
   "outputs": [],
   "source": []
  },
  {
   "cell_type": "markdown",
   "id": "f420f1d8-3d25-454e-8370-0f163d5ad67a",
   "metadata": {},
   "source": [
    "### <font style = \"color:rgb(125, 41, 243)\"> **Training and Testing a 3-Features Machine Learing Pipeline** </font>"
   ]
  },
  {
   "attachments": {
    "67567ec1-4a23-4f1d-86c5-57471cdf5f06.png": {
     "image/png": "[encoded data removed]"
    }
   },
   "cell_type": "markdown",
   "id": "afa11b33-8174-452d-8b49-758a7c04025a",
   "metadata": {
    "tags": []
   },
   "source": [
    "![image.png](attachment:67567ec1-4a23-4f1d-86c5-57471cdf5f06.png)"
   ]
  },
  {
   "cell_type": "markdown",
   "id": "19fabf18-4d58-426b-b800-aafe4a7038be",
   "metadata": {},
   "source": [
    "#### <font style = \"color:rgb(125, 41, 243)\"> **Split Training \\& Test Data** </font>"
   ]
  },
  {
   "cell_type": "code",
   "execution_count": null,
   "id": "98ef1204-2f48-416f-93ad-72669fcd3714",
   "metadata": {},
   "outputs": [],
   "source": [
    "from sklearn.model_selection import train_test_split"
   ]
  },
  {
   "cell_type": "code",
   "execution_count": null,
   "id": "2ff5e1fd-efec-47e0-aa49-4da0bc5b8f0e",
   "metadata": {
    "tags": []
   },
   "outputs": [],
   "source": [
    "data_train3f, data_test3f, target_train3f, target_test3f = train_test_split(data_3features, \n",
    "                                                                    target,\n",
    "                                                                    train_size = 0.80\n",
    "                                                                   )"
   ]
  },
  {
   "cell_type": "code",
   "execution_count": null,
   "id": "c1247a4e-20d5-471a-b581-f65b866e3c0e",
   "metadata": {},
   "outputs": [],
   "source": []
  },
  {
   "cell_type": "code",
   "execution_count": null,
   "id": "ebfe3900-346c-4e83-80ad-26af0968d719",
   "metadata": {},
   "outputs": [],
   "source": []
  },
  {
   "cell_type": "code",
   "execution_count": null,
   "id": "4451c05a-4729-4218-877e-ee03cd3f7789",
   "metadata": {},
   "outputs": [],
   "source": []
  },
  {
   "cell_type": "markdown",
   "id": "b1c0aecb-b4c1-47ac-931e-7e5b4e5404de",
   "metadata": {},
   "source": [
    "These steps are how you build a classifier ML model."
   ]
  },
  {
   "cell_type": "code",
   "execution_count": null,
   "id": "df79c5ce-c0f2-4041-9fd2-f2a754a4b1bf",
   "metadata": {},
   "outputs": [],
   "source": [
    "import time\n",
    "\n",
    "from sklearn.pipeline import make_pipeline\n",
    "\n",
    "from sklearn.preprocessing import StandardScaler\n",
    "\n",
    "from sklearn.linear_model import LogisticRegression"
   ]
  },
  {
   "cell_type": "code",
   "execution_count": null,
   "id": "f849c197-a6de-4329-ad2b-f9470420928b",
   "metadata": {},
   "outputs": [],
   "source": [
    "model = make_pipeline(StandardScaler(), \n",
    "                      LogisticRegression()\n",
    "                     )\n",
    "\n",
    "model"
   ]
  },
  {
   "cell_type": "code",
   "execution_count": null,
   "id": "7dd862aa-a17b-4a90-8f81-b70d8ad01787",
   "metadata": {},
   "outputs": [],
   "source": [
    "model.named_steps"
   ]
  },
  {
   "cell_type": "code",
   "execution_count": null,
   "id": "fed31195-a061-4723-8e33-892d03137116",
   "metadata": {},
   "outputs": [],
   "source": [
    "start = time.time()\n",
    "\n",
    "# Train the model\n",
    "model.fit(data_train, target_train)\n",
    "\n",
    "elapsed_time = time.time() - start"
   ]
  },
  {
   "cell_type": "code",
   "execution_count": null,
   "id": "e6ade4bc-dd01-49c6-8d88-1da2ebc8ab72",
   "metadata": {},
   "outputs": [],
   "source": [
    "predicted_target = model.predict(data_test)\n",
    "\n",
    "predicted_target[:5]"
   ]
  },
  {
   "cell_type": "code",
   "execution_count": null,
   "id": "aff2007a-0957-44d4-a913-1f1d90085c28",
   "metadata": {},
   "outputs": [],
   "source": [
    "# Run the model with scaled features\n",
    "model_name = model.__class__.__name__\n",
    "\n",
    "model_name"
   ]
  },
  {
   "cell_type": "markdown",
   "id": "b720cca0-f9e6-4db9-830c-d43ad2e1b9ac",
   "metadata": {},
   "source": [
    "### <font style = \"color:rgb(125, 41, 243)\"> **Checking Accuracy** </font>"
   ]
  },
  {
   "cell_type": "code",
   "execution_count": null,
   "id": "0f912c9a-8403-4c76-a3c4-0ff5286d6f47",
   "metadata": {},
   "outputs": [],
   "source": [
    "score = model.score(data_test, target_test)"
   ]
  },
  {
   "cell_type": "code",
   "execution_count": null,
   "id": "103d67be-82b1-4c2a-aed6-19f734ab2bb7",
   "metadata": {},
   "outputs": [],
   "source": [
    "print(f\"The accuracy using a {model_name} is {score:.3f} \"\n",
    "      f\"with a fitting time of {elapsed_time:.3f} seconds \"\n",
    "      f\"in {model[-1].n_iter_[0]} iterations\")"
   ]
  },
  {
   "cell_type": "markdown",
   "id": "712f449d-8158-41ab-8ac5-2675c1d607db",
   "metadata": {},
   "source": [
    "### <font style = \"color:rgb(125, 41, 243)\"> **Cross-Validation Check** </font>"
   ]
  },
  {
   "cell_type": "code",
   "execution_count": null,
   "id": "cff2d8bf-d99c-4f22-bc1d-9959339f6b0c",
   "metadata": {},
   "outputs": [],
   "source": [
    "from sklearn.model_selection import cross_validate"
   ]
  },
  {
   "cell_type": "code",
   "execution_count": null,
   "id": "a39e9b80-f954-4423-b409-16209040a20b",
   "metadata": {},
   "outputs": [],
   "source": [
    "model = make_pipeline(StandardScaler(), LogisticRegression())\n",
    "\n",
    "model"
   ]
  },
  {
   "cell_type": "code",
   "execution_count": null,
   "id": "174c3087-1436-4c4a-a1b2-5d703b6aec95",
   "metadata": {},
   "outputs": [],
   "source": [
    "%%time\n",
    "\n",
    "cv_result = cross_validate(model, data_2features, target, cv = 5)\n",
    "\n",
    "cv_result"
   ]
  },
  {
   "cell_type": "code",
   "execution_count": null,
   "id": "4f80c1a6-7f47-4824-8466-a8c46669bbcc",
   "metadata": {},
   "outputs": [],
   "source": [
    "scores = cv_result[\"test_score\"]\n",
    "print(\"The mean cross-validation accuracy is: \"\n",
    "      f\"{scores.mean():.3f} +/- {scores.std():.3f}\")"
   ]
  },
  {
   "cell_type": "markdown",
   "id": "79557db9-2a22-4154-8c4c-ccc830c80879",
   "metadata": {},
   "source": [
    "### <font style = \"color:rgb(125, 41, 243)\"> **Visualizing the results** </font>"
   ]
  },
  {
   "cell_type": "code",
   "execution_count": null,
   "id": "52aa56e2-9ffa-42f0-be42-e9e2fb41eff6",
   "metadata": {},
   "outputs": [],
   "source": [
    "import numpy as np\n",
    "\n",
    "import matplotlib.pyplot as plt\n",
    "from matplotlib.colors import ListedColormap\n",
    "\n",
    "from sklearn.preprocessing import StandardScaler\n",
    "\n",
    "from sklearn.model_selection import train_test_split\n",
    "\n",
    "from sklearn.datasets import make_moons, make_circles, make_classification\n",
    "from sklearn.neural_network import MLPClassifier\n",
    "from sklearn.neighbors import KNeighborsClassifier\n",
    "from sklearn.svm import SVC\n",
    "from sklearn.gaussian_process import GaussianProcessClassifier\n",
    "from sklearn.gaussian_process.kernels import RBF\n",
    "from sklearn.tree import DecisionTreeClassifier\n",
    "from sklearn.ensemble import RandomForestClassifier, AdaBoostClassifier\n",
    "from sklearn.naive_bayes import GaussianNB\n",
    "from sklearn.discriminant_analysis import QuadraticDiscriminantAnalysis"
   ]
  },
  {
   "cell_type": "code",
   "execution_count": null,
   "id": "eb2329de-c6e5-4048-ac41-acbf7a77c82e",
   "metadata": {},
   "outputs": [],
   "source": [
    "h = .02  # step size in the mesh"
   ]
  },
  {
   "cell_type": "code",
   "execution_count": null,
   "id": "9846b8fb-6854-43fb-91e3-eda53caa9f8b",
   "metadata": {},
   "outputs": [],
   "source": [
    "names = [\"Nearest Neighbors\", \n",
    "         \"Linear SVM\", \n",
    "         \"RBF SVM\", \n",
    "         \"Gaussian Process\",\n",
    "         \"Decision Tree\", \n",
    "         \"Random Forest\", \n",
    "         \"Neural Net\", \n",
    "         \"AdaBoost\",\n",
    "         \"Naive Bayes\",\n",
    "         \"QDA\"\n",
    "        ]"
   ]
  },
  {
   "cell_type": "code",
   "execution_count": null,
   "id": "0412b11f-33c5-4f3f-b824-9e6288a40ef7",
   "metadata": {},
   "outputs": [],
   "source": [
    "classifiers = [KNeighborsClassifier(3),\n",
    "               SVC(kernel = \"linear\", C = 0.025),\n",
    "               SVC(gamma = 2, C = 1),\n",
    "               GaussianProcessClassifier(1.0 * RBF(1.0)),\n",
    "               DecisionTreeClassifier(max_depth = 5),\n",
    "               RandomForestClassifier(max_depth = 5, n_estimators = 10, max_features = 1),\n",
    "               MLPClassifier(alpha = 1, max_iter =1000),\n",
    "               AdaBoostClassifier(),\n",
    "               GaussianNB(),\n",
    "               QuadraticDiscriminantAnalysis()\n",
    "              ]"
   ]
  },
  {
   "cell_type": "code",
   "execution_count": null,
   "id": "9a83d508-41aa-43db-a21c-8cd2fec6bbd2",
   "metadata": {},
   "outputs": [],
   "source": [
    "figure = plt.figure(figsize=(27, 9))"
   ]
  },
  {
   "cell_type": "code",
   "execution_count": null,
   "id": "e45caa6e-390e-4ec2-9070-beb5af63f3a0",
   "metadata": {},
   "outputs": [],
   "source": [
    "i = 1"
   ]
  },
  {
   "cell_type": "code",
   "execution_count": null,
   "id": "e7bb3f81-da04-4f13-8af4-469357f3b77f",
   "metadata": {},
   "outputs": [],
   "source": [
    "X = StandardScaler().fit_transform(data_2features)"
   ]
  },
  {
   "cell_type": "code",
   "execution_count": null,
   "id": "ed223755-3cec-4c3e-b9e0-dcd81132b509",
   "metadata": {},
   "outputs": [],
   "source": [
    "y = target"
   ]
  },
  {
   "cell_type": "code",
   "execution_count": null,
   "id": "0da1089e-67f0-4940-8a79-5bc546cbb22e",
   "metadata": {},
   "outputs": [],
   "source": [
    "X_train, X_test, y_train, y_test = train_test_split(X, \n",
    "                                                    y, \n",
    "                                                    test_size = .4, \n",
    "                                                    random_state = 42\n",
    "                                                   )"
   ]
  },
  {
   "cell_type": "code",
   "execution_count": null,
   "id": "73199fa6-c9a0-4203-911b-06cd11890f02",
   "metadata": {},
   "outputs": [],
   "source": [
    "x_min, x_max = X[:, 0].min() - .5, X[:, 0].max() + .5"
   ]
  },
  {
   "cell_type": "code",
   "execution_count": null,
   "id": "5a45bfab-b8df-4507-81ef-9b01425e851e",
   "metadata": {},
   "outputs": [],
   "source": [
    "y_min, y_max = X[:, 1].min() - .5, X[:, 1].max() + .5"
   ]
  },
  {
   "cell_type": "code",
   "execution_count": null,
   "id": "56577ca8-b01b-4abe-a74d-1faf4a7699c7",
   "metadata": {},
   "outputs": [],
   "source": [
    "xx, yy = np.meshgrid(np.arange(x_min, x_max, h),\n",
    "                     np.arange(y_min, y_max, h)\n",
    "                    )"
   ]
  },
  {
   "cell_type": "code",
   "execution_count": null,
   "id": "09ce235b-35eb-4949-be15-087c26cd12fa",
   "metadata": {},
   "outputs": [],
   "source": [
    "# just plot the dataset first\n",
    "\n",
    "cm = plt.cm.RdBu"
   ]
  },
  {
   "cell_type": "code",
   "execution_count": null,
   "id": "71accf03-5ab0-47bf-b41f-f9d2ba01d368",
   "metadata": {},
   "outputs": [],
   "source": [
    "cm_bright = ListedColormap(['#FF0000', '#0000FF'])"
   ]
  },
  {
   "cell_type": "code",
   "execution_count": null,
   "id": "01c023ff-daee-4a38-8718-b876be4be6e2",
   "metadata": {},
   "outputs": [],
   "source": [
    "ax = plt.subplot(len(data_2features), len(classifiers) + 1, i)"
   ]
  },
  {
   "cell_type": "code",
   "execution_count": null,
   "id": "776d040b-65e9-43d8-8990-7005248a85bb",
   "metadata": {},
   "outputs": [],
   "source": []
  },
  {
   "cell_type": "code",
   "execution_count": null,
   "id": "ec9df553-98d9-425c-96ef-82af439f5b90",
   "metadata": {},
   "outputs": [],
   "source": []
  },
  {
   "cell_type": "code",
   "execution_count": null,
   "id": "4af680d0-ef19-46c1-9cb8-29c8f10a24db",
   "metadata": {},
   "outputs": [],
   "source": []
  }
 ],
 "metadata": {
  "kernelspec": {
   "display_name": "Python 3 (ipykernel)",
   "language": "python",
   "name": "python3"
  },
  "language_info": {
   "codemirror_mode": {
    "name": "ipython",
    "version": 3
   },
   "file_extension": ".py",
   "mimetype": "text/x-python",
   "name": "python",
   "nbconvert_exporter": "python",
   "pygments_lexer": "ipython3",
   "version": "3.8.10"
  }
 },
 "nbformat": 4,
 "nbformat_minor": 5
}
