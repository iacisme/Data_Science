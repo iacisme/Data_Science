{
 "cells": [
  {
   "cell_type": "markdown",
   "id": "e46593e2-9a27-4c42-910d-f655fca4e00d",
   "metadata": {},
   "source": [
    "# <font style = \"color:rgb(125, 41, 243)\"> **The Iris Dataset - Notebook 2** </font>"
   ]
  },
  {
   "cell_type": "markdown",
   "id": "8239fdbb-2618-4559-8f6c-8a4a4e5115aa",
   "metadata": {},
   "source": [
    "## <font style = \"color:rgb(125, 41, 243)\"> **Required Libraries** </font>\n",
    "\n",
    "These libraries will be used in this notebook. How to install these libraries can be found in **Notebook 1**"
   ]
  },
  {
   "cell_type": "code",
   "execution_count": 1,
   "id": "b9a9385b-d63d-422c-9ca3-bc7b136bc95c",
   "metadata": {},
   "outputs": [],
   "source": [
    "# Libraries used in this notebook\n",
    "\n",
    "# Used to create interactive controls\n",
    "# like sliders, radio buttons, etc\n",
    "import ipywidgets as widgets\n",
    "\n",
    "# Used to handle arrays and lists\n",
    "import numpy as np\n",
    "\n",
    "# Used to read tabular data\n",
    "# CSV or excel files\n",
    "import pandas as pd\n",
    "\n",
    "# Graphing libraries used\n",
    "\n",
    "# The seaborn graphing library\n",
    "import seaborn as sns\n",
    "\n",
    "# Matplot library\n",
    "import matplotlib.pyplot as plt\n",
    "\n",
    "# Plotly graphing library\n",
    "import plotly.express as px\n",
    "import plotly.figure_factory as ff"
   ]
  },
  {
   "cell_type": "code",
   "execution_count": 2,
   "id": "b5a9b880-3e49-4827-b949-cfd34664d481",
   "metadata": {},
   "outputs": [],
   "source": [
    "# Set ploting and color parameters for seaborn\n",
    "\n",
    "plt.rcParams.update({'figure.max_open_warning': 0})\n",
    "\n",
    "sns.color_palette(\"bright\")\n",
    "\n",
    "sns.set_context(\"talk\")"
   ]
  },
  {
   "cell_type": "markdown",
   "id": "04794786-bbf8-4fda-980a-75109f1853b1",
   "metadata": {},
   "source": [
    "## <font style = \"color:rgb(125, 41, 243)\"> **Purpose** </font>"
   ]
  },
  {
   "cell_type": "markdown",
   "id": "38566983-18c8-41c3-bb8e-065f6bd694de",
   "metadata": {},
   "source": [
    "The purpose of this EDA is to prove the following hypothesis:"
   ]
  },
  {
   "cell_type": "markdown",
   "id": "44684e3a-138b-4a1e-8919-81e2f479fdfd",
   "metadata": {},
   "source": [
    "> It's expected that `Petal Length`, `Petal Width`, and `Sepal Length` will all have strong correlations that can be used in classifying between each species. It is expected that `Sepal Width` will not have a significant correlation."
   ]
  },
  {
   "cell_type": "markdown",
   "id": "3e1b9af7-af8b-4045-b358-c0233a74dacc",
   "metadata": {},
   "source": [
    "## <font style = \"color:rgb(125, 41, 243)\"> **Loading the dataset** </font>"
   ]
  },
  {
   "cell_type": "code",
   "execution_count": 6,
   "id": "8f0c2c81-7b5d-438b-aeed-ed093f567eca",
   "metadata": {},
   "outputs": [],
   "source": [
    "# Dataset location\n",
    "datasource_path = 'iris_dataset.csv'"
   ]
  },
  {
   "cell_type": "code",
   "execution_count": 8,
   "id": "4a222445-dc14-4cc7-9c04-9add5172d026",
   "metadata": {},
   "outputs": [
    {
     "data": {
      "text/html": [
       "<div>\n",
       "<style scoped>\n",
       "    .dataframe tbody tr th:only-of-type {\n",
       "        vertical-align: middle;\n",
       "    }\n",
       "\n",
       "    .dataframe tbody tr th {\n",
       "        vertical-align: top;\n",
       "    }\n",
       "\n",
       "    .dataframe thead th {\n",
       "        text-align: right;\n",
       "    }\n",
       "</style>\n",
       "<table border=\"1\" class=\"dataframe\">\n",
       "  <thead>\n",
       "    <tr style=\"text-align: right;\">\n",
       "      <th></th>\n",
       "      <th>Sepal_Length_(cm)</th>\n",
       "      <th>Sepal_Width_(cm)</th>\n",
       "      <th>Petal_Length_(cm)</th>\n",
       "      <th>Petal_Width_(cm)</th>\n",
       "      <th>Species</th>\n",
       "    </tr>\n",
       "  </thead>\n",
       "  <tbody>\n",
       "    <tr>\n",
       "      <th>0</th>\n",
       "      <td>5.1</td>\n",
       "      <td>3.5</td>\n",
       "      <td>1.4</td>\n",
       "      <td>0.2</td>\n",
       "      <td>Iris-setosa</td>\n",
       "    </tr>\n",
       "    <tr>\n",
       "      <th>1</th>\n",
       "      <td>4.9</td>\n",
       "      <td>3.0</td>\n",
       "      <td>1.4</td>\n",
       "      <td>0.2</td>\n",
       "      <td>Iris-setosa</td>\n",
       "    </tr>\n",
       "    <tr>\n",
       "      <th>2</th>\n",
       "      <td>4.7</td>\n",
       "      <td>3.2</td>\n",
       "      <td>1.3</td>\n",
       "      <td>0.2</td>\n",
       "      <td>Iris-setosa</td>\n",
       "    </tr>\n",
       "    <tr>\n",
       "      <th>3</th>\n",
       "      <td>4.6</td>\n",
       "      <td>3.1</td>\n",
       "      <td>1.5</td>\n",
       "      <td>0.2</td>\n",
       "      <td>Iris-setosa</td>\n",
       "    </tr>\n",
       "    <tr>\n",
       "      <th>4</th>\n",
       "      <td>5.0</td>\n",
       "      <td>3.6</td>\n",
       "      <td>1.4</td>\n",
       "      <td>0.2</td>\n",
       "      <td>Iris-setosa</td>\n",
       "    </tr>\n",
       "    <tr>\n",
       "      <th>...</th>\n",
       "      <td>...</td>\n",
       "      <td>...</td>\n",
       "      <td>...</td>\n",
       "      <td>...</td>\n",
       "      <td>...</td>\n",
       "    </tr>\n",
       "    <tr>\n",
       "      <th>145</th>\n",
       "      <td>6.7</td>\n",
       "      <td>3.0</td>\n",
       "      <td>5.2</td>\n",
       "      <td>2.3</td>\n",
       "      <td>Iris-virginica</td>\n",
       "    </tr>\n",
       "    <tr>\n",
       "      <th>146</th>\n",
       "      <td>6.3</td>\n",
       "      <td>2.5</td>\n",
       "      <td>5.0</td>\n",
       "      <td>1.9</td>\n",
       "      <td>Iris-virginica</td>\n",
       "    </tr>\n",
       "    <tr>\n",
       "      <th>147</th>\n",
       "      <td>6.5</td>\n",
       "      <td>3.0</td>\n",
       "      <td>5.2</td>\n",
       "      <td>2.0</td>\n",
       "      <td>Iris-virginica</td>\n",
       "    </tr>\n",
       "    <tr>\n",
       "      <th>148</th>\n",
       "      <td>6.2</td>\n",
       "      <td>3.4</td>\n",
       "      <td>5.4</td>\n",
       "      <td>2.3</td>\n",
       "      <td>Iris-virginica</td>\n",
       "    </tr>\n",
       "    <tr>\n",
       "      <th>149</th>\n",
       "      <td>5.9</td>\n",
       "      <td>3.0</td>\n",
       "      <td>5.1</td>\n",
       "      <td>1.8</td>\n",
       "      <td>Iris-virginica</td>\n",
       "    </tr>\n",
       "  </tbody>\n",
       "</table>\n",
       "<p>150 rows × 5 columns</p>\n",
       "</div>"
      ],
      "text/plain": [
       "     Sepal_Length_(cm)  Sepal_Width_(cm)  Petal_Length_(cm)  Petal_Width_(cm)  \\\n",
       "0                  5.1               3.5                1.4               0.2   \n",
       "1                  4.9               3.0                1.4               0.2   \n",
       "2                  4.7               3.2                1.3               0.2   \n",
       "3                  4.6               3.1                1.5               0.2   \n",
       "4                  5.0               3.6                1.4               0.2   \n",
       "..                 ...               ...                ...               ...   \n",
       "145                6.7               3.0                5.2               2.3   \n",
       "146                6.3               2.5                5.0               1.9   \n",
       "147                6.5               3.0                5.2               2.0   \n",
       "148                6.2               3.4                5.4               2.3   \n",
       "149                5.9               3.0                5.1               1.8   \n",
       "\n",
       "            Species  \n",
       "0       Iris-setosa  \n",
       "1       Iris-setosa  \n",
       "2       Iris-setosa  \n",
       "3       Iris-setosa  \n",
       "4       Iris-setosa  \n",
       "..              ...  \n",
       "145  Iris-virginica  \n",
       "146  Iris-virginica  \n",
       "147  Iris-virginica  \n",
       "148  Iris-virginica  \n",
       "149  Iris-virginica  \n",
       "\n",
       "[150 rows x 5 columns]"
      ]
     },
     "execution_count": 8,
     "metadata": {},
     "output_type": "execute_result"
    }
   ],
   "source": [
    "# Create a panda data frame object called 'iris_df'. This object holds the contents of our data in tabular format\n",
    "iris_df = pd.read_csv(datasource_path, \n",
    "                      )\n",
    "\n",
    "iris_df"
   ]
  },
  {
   "cell_type": "markdown",
   "id": "06e35cb5-cb7b-4245-81be-07a95d720286",
   "metadata": {},
   "source": [
    "## <font style = \"color:rgb(125, 41, 243)\"> **2-Feature Comparisons** </font>\n",
    "\n",
    "### <font style = \"color:rgb(125, 41, 243)\"> **Seaborn pairplots** </font>\n",
    "\n",
    "You can find more informaiton on seaborn pairplotting here: https://seaborn.pydata.org/generated/seaborn.pairplot.html?highlight=pairplots"
   ]
  },
  {
   "cell_type": "markdown",
   "id": "c0782e76-257b-4dd6-8d6d-eb917ac66407",
   "metadata": {},
   "source": [
    "The following plots are meant to determine their relationships in helping classify the Iris species:"
   ]
  },
  {
   "cell_type": "code",
   "execution_count": null,
   "id": "ab059316-faed-4644-8cda-250a09028a47",
   "metadata": {},
   "outputs": [],
   "source": [
    "%matplotlib widget"
   ]
  },
  {
   "cell_type": "code",
   "execution_count": null,
   "id": "00e15427-139f-4949-82df-9aa4d8ae8bf7",
   "metadata": {},
   "outputs": [],
   "source": [
    "plot_kind = ['scatter', 'kde', 'hist', 'reg']"
   ]
  },
  {
   "cell_type": "code",
   "execution_count": null,
   "id": "aecc04e3-f370-4231-a580-e6dd63783ec9",
   "metadata": {},
   "outputs": [],
   "source": [
    "diag_plot_kind = ['auto', 'hist', 'kde', None]"
   ]
  },
  {
   "cell_type": "code",
   "execution_count": null,
   "id": "e9009905-ab4d-40d8-ab64-937fb71fdd0a",
   "metadata": {},
   "outputs": [],
   "source": [
    "@widgets.interact\n",
    "def sns_pairplots(kind = plot_kind, diag_plot = diag_plot_kind):\n",
    "    \n",
    "    sns.pairplot(iris_df,\n",
    "                 hue = 'Species',\n",
    "                 kind = kind, # 'scatter' 'kde', 'hist', 'reg'\n",
    "                 diag_kind = diag_plot, # 'auto', 'hist', 'kde', None \n",
    "                 #height = 5,\n",
    "                 #aspect = 1.5\n",
    "                )"
   ]
  },
  {
   "cell_type": "markdown",
   "id": "8f00ca67-d231-448d-b0ba-86b7857649e9",
   "metadata": {
    "tags": []
   },
   "source": [
    "### <font style = \"color:rgb(125, 41, 243)\"> **Plotly Scatter Matrix** </font>\n",
    "\n",
    "You can find more information on Plotly scatter matrix here: https://plotly.com/python/splom/"
   ]
  },
  {
   "cell_type": "code",
   "execution_count": null,
   "id": "5b9693f9-901d-4e4a-956b-4c5aeaa6b2a8",
   "metadata": {},
   "outputs": [],
   "source": [
    "# Create a list to store values to color our data\n",
    "labels = [None, 'Species']\n",
    "\n",
    "labels"
   ]
  },
  {
   "cell_type": "code",
   "execution_count": null,
   "id": "79b6b0f9-aa3d-43e4-96d0-a50704b57081",
   "metadata": {},
   "outputs": [],
   "source": [
    "# Create a list of column names\n",
    "features = iris_df.columns\n",
    "\n",
    "features"
   ]
  },
  {
   "cell_type": "code",
   "execution_count": null,
   "id": "6fe5d70e-5f0a-4c56-8998-da365f2f6148",
   "metadata": {},
   "outputs": [],
   "source": [
    "# Create a new object to store features\n",
    "selected_features = features\n",
    "\n",
    "selected_features"
   ]
  },
  {
   "cell_type": "code",
   "execution_count": null,
   "id": "6f5a5291-7697-4fda-af2a-12901950ae89",
   "metadata": {},
   "outputs": [],
   "source": [
    "# Delete the 'Species' element from this list\n",
    "# This list will be fed into the \"dimensions\" parameter below\n",
    "selected_features = np.delete(selected_features, -1)\n",
    "\n",
    "selected_features"
   ]
  },
  {
   "cell_type": "code",
   "execution_count": null,
   "id": "135e481e-94bd-4b09-ba52-136b0199613b",
   "metadata": {},
   "outputs": [],
   "source": [
    "@widgets.interact\n",
    "def pairplots(label = labels):    \n",
    "    fig = px.scatter_matrix(iris_df,\n",
    "                            dimensions = selected_features,\n",
    "                            color = label,\n",
    "                            height = 1200,\n",
    "                            width = 1500,\n",
    "                           )\n",
    "    \n",
    "    fig.update_traces(diagonal_visible = False)\n",
    "\n",
    "    fig.show()"
   ]
  },
  {
   "cell_type": "markdown",
   "id": "ec1a8615-8c4c-4e6c-9f15-9903595bdec2",
   "metadata": {},
   "source": [
    "### <font style = \"color:rgb(125, 41, 243)\"> **Plotly Scatter Plot** </font>\n",
    "\n",
    "Refer to the following website for more informaiton on Plotly scatterplots: https://plotly.com/python/line-and-scatter/"
   ]
  },
  {
   "cell_type": "code",
   "execution_count": null,
   "id": "09142e1c-db50-465b-bb61-ea9bf81d6254",
   "metadata": {},
   "outputs": [],
   "source": [
    "# Shows distribution information \n",
    "scatter_marginals = [None, 'histogram', 'box', 'violin', 'rug']"
   ]
  },
  {
   "cell_type": "code",
   "execution_count": null,
   "id": "10b31fae-3b42-44df-8e0f-f2aaea00c658",
   "metadata": {},
   "outputs": [],
   "source": [
    "# This checkbox will allow you to enable / disable\n",
    "# the X-Axis going onto a log scale\n",
    "# default is FALSE\n",
    "scatterLogX = widgets.Checkbox(value = False,\n",
    "                                 description = 'Log X scale',\n",
    "                                 disabled = False,\n",
    "                                 indent = False\n",
    "                                 )"
   ]
  },
  {
   "cell_type": "code",
   "execution_count": null,
   "id": "e9c8435e-0ab1-4bd2-8e66-e2ba76d89210",
   "metadata": {},
   "outputs": [],
   "source": [
    "# This checkbox will allow you to enable / disable\n",
    "# the Y-Axis going onto a log scale\n",
    "# default is FALSE\n",
    "scatterLogY = widgets.Checkbox(value = False,\n",
    "                               description = 'Log Y scale',\n",
    "                               disabled = False,\n",
    "                               indent = False\n",
    "                               )"
   ]
  },
  {
   "cell_type": "code",
   "execution_count": null,
   "id": "a9da007a-47dd-469e-8045-a11498e6e258",
   "metadata": {},
   "outputs": [],
   "source": [
    "# Confirm the labels created\n",
    "labels"
   ]
  },
  {
   "cell_type": "code",
   "execution_count": null,
   "id": "be68a0a9-5687-4753-a06c-59b5709fd752",
   "metadata": {},
   "outputs": [],
   "source": [
    "# Create a new features object to \n",
    "# use in the scatter plot\n",
    "features_y = features\n",
    "\n",
    "features_y"
   ]
  },
  {
   "cell_type": "code",
   "execution_count": null,
   "id": "c0bbbf35-c195-4ab0-ab73-d417c07ef6da",
   "metadata": {},
   "outputs": [],
   "source": [
    "# Insert none as the default value\n",
    "features_y = features_y.insert(0, None)\n",
    "\n",
    "features_y"
   ]
  },
  {
   "cell_type": "code",
   "execution_count": null,
   "id": "2d0c9044-85a5-4bf0-83d1-7d68e14017fe",
   "metadata": {},
   "outputs": [],
   "source": [
    "# This notebook will not use \n",
    "# this widget, nevertheless it's here \n",
    "# in case these scripts are used elsewhere\n",
    "bubble_sizes = [None,]"
   ]
  },
  {
   "cell_type": "code",
   "execution_count": null,
   "id": "2022e625-ddea-4956-a668-407e9f324e7e",
   "metadata": {},
   "outputs": [],
   "source": [
    "# Creates a regression trendline\n",
    "scatter_trendline =  [None, 'ols', 'lowess', 'rolling', 'expanding', 'ewm']"
   ]
  },
  {
   "cell_type": "code",
   "execution_count": null,
   "id": "ffc99d76-4e75-4b9d-b997-8db54c78f730",
   "metadata": {},
   "outputs": [],
   "source": [
    "# Defines the type of trendline\n",
    "scatter_trendline_scope = ['trace', 'overall']"
   ]
  },
  {
   "cell_type": "code",
   "execution_count": null,
   "id": "8dfdd4de-742b-42c9-b379-476e649178b4",
   "metadata": {},
   "outputs": [],
   "source": [
    "@widgets.interact\n",
    "def scatter_inspector(sizes = bubble_sizes, regression = scatter_trendline, scope = scatter_trendline_scope,  log_x = scatterLogX, log_y = scatterLogY, label = labels, y_distribution = scatter_marginals, y_feature = features_y, x_distribution = scatter_marginals, x_feature = features):  \n",
    "    try:\n",
    "        fig = px.scatter(iris_df,\n",
    "                         x = x_feature,\n",
    "                         y = y_feature,\n",
    "                         size = sizes,\n",
    "                         color = label,\n",
    "                         trendline = regression,\n",
    "                         trendline_scope = scope,\n",
    "                         log_x = log_x,\n",
    "                         log_y = log_y,\n",
    "                         marginal_x = x_distribution,\n",
    "                         marginal_y = y_distribution,\n",
    "                         hover_data = iris_df.columns,\n",
    "                         height = 800,\n",
    "                         width = 1600\n",
    "                        )\n",
    "        fig.update_layout(plot_bgcolor = None)\n",
    "        fig.show()\n",
    "    \n",
    "    except:\n",
    "        print(\"ERROR: Unable to generate plot\")"
   ]
  },
  {
   "cell_type": "markdown",
   "id": "5005ca7f-7c07-463e-b8df-6caa40b5ea9c",
   "metadata": {},
   "source": [
    "### <font style = \"color:rgb(125, 41, 243)\"> **2D Histogram Contour in Python** </font>\n",
    "\n",
    "Refer to the following website for more informaiton on Plotly scatterplots: https://plotly.com/python/2d-histogram-contour/"
   ]
  },
  {
   "cell_type": "code",
   "execution_count": null,
   "id": "a6a6cdba-27d1-4daa-8c8b-0f3624fe617c",
   "metadata": {},
   "outputs": [],
   "source": [
    "density_marginals = [None, 'histogram', 'box', 'violin', 'rug']"
   ]
  },
  {
   "cell_type": "code",
   "execution_count": null,
   "id": "97225828-380f-4c23-a8f2-af3e996199db",
   "metadata": {},
   "outputs": [],
   "source": [
    "# This checkbox will allow you to enable / disable\n",
    "# the X-Axis going onto a log scale\n",
    "# default is FALSE\n",
    "densityLogX = widgets.Checkbox(value = False,\n",
    "                                 description = 'Log X scale',\n",
    "                                 disabled = False,\n",
    "                                 indent = False\n",
    "                                 )"
   ]
  },
  {
   "cell_type": "code",
   "execution_count": null,
   "id": "2a254ed5-3a70-4953-8a4e-865aa28a4657",
   "metadata": {},
   "outputs": [],
   "source": [
    "# This checkbox will allow you to enable / disable\n",
    "# the Y-Axis going onto a log scale\n",
    "# default is FALSE\n",
    "densityLogY = widgets.Checkbox(value = False,\n",
    "                               description = 'Log Y scale',\n",
    "                               disabled = False,\n",
    "                               indent = False\n",
    "                               )"
   ]
  },
  {
   "cell_type": "code",
   "execution_count": null,
   "id": "89efeb40-e0bf-4ef2-be98-94bcf57c1429",
   "metadata": {},
   "outputs": [],
   "source": [
    "function = ['count', 'sum', 'avg', 'min', 'max']"
   ]
  },
  {
   "cell_type": "code",
   "execution_count": null,
   "id": "80449ce1-a28c-404e-af92-fce852a4eb1c",
   "metadata": {},
   "outputs": [],
   "source": [
    "normalizer = [None, 'percent', 'probability', 'density', 'probability density']"
   ]
  },
  {
   "cell_type": "code",
   "execution_count": null,
   "id": "9a6002c9-c0f6-490c-b91d-2beecefa77d6",
   "metadata": {},
   "outputs": [],
   "source": [
    "scatter_trendline =  [None, 'ols', 'lowess', 'rolling', 'expanding', 'ewm']"
   ]
  },
  {
   "cell_type": "code",
   "execution_count": null,
   "id": "976b6e8c-5fe5-477f-a632-7a64650fbbc6",
   "metadata": {},
   "outputs": [],
   "source": [
    "scatter_trendline_scope = [None, 'trace', 'overall']"
   ]
  },
  {
   "cell_type": "code",
   "execution_count": null,
   "id": "ec2245d1-172e-4dd7-8016-5924cf96dfe7",
   "metadata": {},
   "outputs": [],
   "source": [
    "@widgets.interact\n",
    "def density_contour_inspector(log_x = scatterLogX, log_y = scatterLogY, hist_norm = normalizer, hist_type = function,  label = labels, y_distribution = scatter_marginals, z_feature = features_y, y_feature = features_y, x_distribution = scatter_marginals, x_feature = features):  \n",
    "    try:\n",
    "        fig = px.density_contour(iris_df,\n",
    "                                 x = x_feature,\n",
    "                                 y = y_feature,\n",
    "                                 z = z_feature,\n",
    "                                 color = label,\n",
    "                                 log_x = log_x,\n",
    "                                 log_y = log_y,\n",
    "                                 histfunc = hist_type,\n",
    "                                 histnorm = hist_norm,\n",
    "                                 marginal_x = x_distribution,\n",
    "                                 marginal_y = y_distribution,\n",
    "                                 hover_data = iris_df.columns,\n",
    "                                 height = 800,\n",
    "                                 width = 1600\n",
    "                                )\n",
    "        fig.update_layout(plot_bgcolor = None)\n",
    "        #fig.update_traces(contours_coloring = \"fill\", contours_showlabels = True)\n",
    "        fig.show()\n",
    "    \n",
    "    except:\n",
    "        print(\"ERROR: Unable to generate plot\")"
   ]
  },
  {
   "cell_type": "markdown",
   "id": "04301880-5163-49ca-90ee-0828c74e220d",
   "metadata": {},
   "source": [
    "### <font style = \"color:rgb(125, 41, 243)\"> **Seaborn Distribution Plots** </font>\n",
    "\n",
    "You can learn more about these kinds of plots here: https://seaborn.pydata.org/generated/seaborn.displot.html?highlight=displot#seaborn.displot"
   ]
  },
  {
   "cell_type": "code",
   "execution_count": null,
   "id": "3b717932-613e-4b04-ada8-117a7c47d169",
   "metadata": {},
   "outputs": [],
   "source": [
    "plots = ['hist', 'kde', 'ecdf']"
   ]
  },
  {
   "cell_type": "code",
   "execution_count": null,
   "id": "14cb4a83-20ac-43b0-b28d-ee23359c3856",
   "metadata": {},
   "outputs": [],
   "source": [
    "@widgets.interact\n",
    "def sns_displots(kind = plots, x_feature = features, y_feature = features):\n",
    "    \n",
    "    try:\n",
    "        \n",
    "        sns.displot(iris_df, \n",
    "                    x = x_feature, \n",
    "                    y = y_feature, \n",
    "                    hue = \"Species\", \n",
    "                    kind = kind\n",
    "                   )\n",
    "    except:\n",
    "        \n",
    "        print(\"ERROR: Cannot produce graph\")"
   ]
  },
  {
   "cell_type": "markdown",
   "id": "70567eae-f9f6-4296-9e42-28b560fefc96",
   "metadata": {},
   "source": [
    "#### <font style = \"color:rgb(125, 41, 243)\"> **Observations** </font>"
   ]
  },
  {
   "cell_type": "markdown",
   "id": "2fa59586-1089-4018-a227-a271342ad9ad",
   "metadata": {},
   "source": [
    "Petal length and width are key features in classifying, along with Sepal length. "
   ]
  },
  {
   "cell_type": "markdown",
   "id": "e0adb488-25ec-4167-9108-4d43a1e69e2c",
   "metadata": {
    "tags": []
   },
   "source": [
    "## <font style = \"color:rgb(125, 41, 243)\"> **3-Feature Comparisons (3D Plots)** </font>\n",
    "\n",
    "You can learn more about 3D scatter plots here: https://plotly.com/python/3d-scatter-plots/"
   ]
  },
  {
   "cell_type": "code",
   "execution_count": null,
   "id": "d13d8a07-6ef9-4929-87db-de3523c088a2",
   "metadata": {},
   "outputs": [],
   "source": [
    "# This checkbox will allow you to enable / disable\n",
    "# the X-Axis going onto a log scale\n",
    "# default is FALSE\n",
    "scatterLogX3D = widgets.Checkbox(value = False,\n",
    "                                 description = 'Log X scale',\n",
    "                                 disabled = False,\n",
    "                                 indent = False\n",
    "                                 )"
   ]
  },
  {
   "cell_type": "code",
   "execution_count": null,
   "id": "9f594563-4dde-4cf7-987c-5062cb687be9",
   "metadata": {},
   "outputs": [],
   "source": [
    "# This checkbox will allow you to enable / disable\n",
    "# the Y-Axis going onto a log scale\n",
    "# default is FALSE\n",
    "scatterLogY3D = widgets.Checkbox(value = False,\n",
    "                                 description = 'Log Y scale',\n",
    "                                 disabled = False,\n",
    "                                 indent = False\n",
    "                                 )"
   ]
  },
  {
   "cell_type": "code",
   "execution_count": null,
   "id": "ccb68120-8305-46cb-a364-f1228686474b",
   "metadata": {},
   "outputs": [],
   "source": [
    "# This checkbox will allow you to enable / disable\n",
    "# the Y-Axis going onto a log scale\n",
    "# default is FALSE\n",
    "scatterLogZ3D = widgets.Checkbox(value = False,\n",
    "                                 description = 'Log Z scale',\n",
    "                                 disabled = False,\n",
    "                                 indent = False\n",
    "                                )"
   ]
  },
  {
   "cell_type": "code",
   "execution_count": null,
   "id": "3afea276-a925-4bdf-93e9-71ee4d15bab4",
   "metadata": {},
   "outputs": [],
   "source": [
    "# This widget allows you to create a histogram, like the ones produces in the previous notebook.\n",
    "# You can change the feature, along with \n",
    "@widgets.interact\n",
    "def scatter_inspect(zlog = scatterLogZ3D, ylog = scatterLogY3D, xlog = scatterLogX3D, label = labels, z_feature = features, y_feature = features, x_feature = features):\n",
    "    fig = px.scatter_3d(iris_df,\n",
    "                        x = x_feature,\n",
    "                        y = y_feature,\n",
    "                        z = z_feature,\n",
    "                        log_x = xlog,\n",
    "                        log_y = ylog,\n",
    "                        log_z = zlog,\n",
    "                        color = label,\n",
    "                        height = 800,\n",
    "                        width = 1500\n",
    "                       )\n",
    "    \n",
    "    fig.show()"
   ]
  },
  {
   "cell_type": "markdown",
   "id": "6daa84a2-6e54-4c81-8443-614ed9cc2a16",
   "metadata": {},
   "source": [
    "## <font style = \"color:rgb(125, 41, 243)\"> **Parallel Coordinates / Parallel Categorical** </font>\n",
    "\n",
    "### <font style = \"color:rgb(125, 41, 243)\"> **Parallel Coordinates** </font>\n",
    "\n",
    "To learn more about Parallel Coordinate plots: https://plotly.com/python/parallel-coordinates-plot/\n",
    "\n",
    "In order to plot, the species field - a categorical field - needs to be changed to numerical:"
   ]
  },
  {
   "cell_type": "code",
   "execution_count": null,
   "id": "f1131c13-32c0-48e2-992a-460651d40ce0",
   "metadata": {},
   "outputs": [],
   "source": [
    "# The library needed to convert the feature\n",
    "\n",
    "from sklearn.preprocessing import LabelEncoder"
   ]
  },
  {
   "cell_type": "code",
   "execution_count": null,
   "id": "e5946622-5634-40dc-937e-313a05520192",
   "metadata": {},
   "outputs": [],
   "source": [
    "# Creating an instance of labelencoder\n",
    "\n",
    "labelencoder = LabelEncoder()\n",
    "\n",
    "labelencoder"
   ]
  },
  {
   "cell_type": "code",
   "execution_count": null,
   "id": "8677b517-e8ff-470e-be76-776a062e63e4",
   "metadata": {},
   "outputs": [],
   "source": [
    "# Assigning numerical values and storing it in another column called \"Class\"\n",
    "\n",
    "iris_df['Species_id'] = labelencoder.fit_transform(iris_df['Species'])\n",
    "\n",
    "iris_df"
   ]
  },
  {
   "cell_type": "code",
   "execution_count": null,
   "id": "dc41c36d-f1bb-45e9-b0e4-099e45dc9719",
   "metadata": {},
   "outputs": [],
   "source": [
    "fig = px.parallel_coordinates(iris_df, \n",
    "                              dimensions = \n",
    "                              color = \"Species_id\", \n",
    "                              \n",
    "                              color_continuous_scale = px.colors.diverging.Tealrose,\n",
    "                             \n",
    "                              #color_continuous_midpoint = 2\n",
    "                             )\n",
    "fig.show()"
   ]
  },
  {
   "cell_type": "markdown",
   "id": "a4d809a9-9436-402b-9bdb-86a146db4366",
   "metadata": {},
   "source": [
    "### <font style = \"color:rgb(125, 41, 243)\"> **Parallel Categorial** </font>\n",
    "\n",
    "These plots only work on categorical features. To learn more on how to use them: https://plotly.com/python/parallel-categories-diagram/"
   ]
  },
  {
   "cell_type": "markdown",
   "id": "3d6863c1-88a3-4de1-83b0-b40e48763333",
   "metadata": {},
   "source": [
    "## <font style = \"color:rgb(125, 41, 243)\"> **Hypothesis Testing** </font>"
   ]
  },
  {
   "cell_type": "code",
   "execution_count": null,
   "id": "78c48aca-81b6-4a8e-bf76-b02751749e8e",
   "metadata": {},
   "outputs": [],
   "source": [
    "result = iris_df.corr()\n",
    "\n",
    "result"
   ]
  },
  {
   "cell_type": "code",
   "execution_count": null,
   "id": "e2a2cece-27dc-4ef8-8edc-bf21450a4b89",
   "metadata": {},
   "outputs": [],
   "source": [
    "correlation_type = ['pearson', 'kendall', 'spearman']"
   ]
  },
  {
   "cell_type": "code",
   "execution_count": null,
   "id": "f10345e1-8c61-40b9-92a2-d46751d93bd7",
   "metadata": {},
   "outputs": [],
   "source": [
    "title_x = list(result.columns)\n",
    "\n",
    "title_x"
   ]
  },
  {
   "cell_type": "code",
   "execution_count": null,
   "id": "829d3953-55b3-4225-ba06-527e9b89bb09",
   "metadata": {},
   "outputs": [],
   "source": [
    "title_y = list(result.columns)\n",
    "\n",
    "title_y"
   ]
  },
  {
   "cell_type": "code",
   "execution_count": null,
   "id": "98216625-852c-4d47-8383-425f67a76c1d",
   "metadata": {},
   "outputs": [],
   "source": [
    "@widgets.interact\n",
    "def correlations(correlation = correlation_type):\n",
    "    result = iris_df.corr(correlation)\n",
    "    \n",
    "    fig = ff.create_annotated_heatmap(result.values,\n",
    "                                      y = title_x,\n",
    "                                      x = title_y,\n",
    "                                      colorscale = 'Plasma',\n",
    "                                      showscale = True,\n",
    "                                      reversescale = True,\n",
    "                                     )\n",
    "    \n",
    "    fig.update_layout(title_text = 'Correlation Matrix',\n",
    "                      height = 1000,\n",
    "                     )\n",
    "    \n",
    "    fig.show()"
   ]
  },
  {
   "cell_type": "markdown",
   "id": "7d28a70c-deda-4137-8a16-9e449d3df214",
   "metadata": {},
   "source": [
    "## <font style = \"color:rgb(125, 41, 243)\"> **Pearson and Spearman Correlation** </font>"
   ]
  },
  {
   "cell_type": "markdown",
   "id": "27ec63f9-fda6-4c7a-aecd-6674758c44a7",
   "metadata": {},
   "source": [
    "Information can be found here: https://support.minitab.com/en-us/minitab-express/1/help-and-how-to/modeling-statistics/regression/supporting-topics/basics/a-comparison-of-the-pearson-and-spearman-correlation-methods/\n",
    "\n",
    "https://en.wikipedia.org/wiki/Pearson_correlation_coefficient"
   ]
  },
  {
   "cell_type": "markdown",
   "id": "c169f4e2-86fb-47ef-8480-77b2f3e297d5",
   "metadata": {},
   "source": [
    "## <font style = \"color:rgb(125, 41, 243)\"> **Kendall's Rank Correlation** </font>"
   ]
  },
  {
   "cell_type": "markdown",
   "id": "c014acd2-bc5c-40f3-9753-4fcf00ae0bd3",
   "metadata": {},
   "source": [
    "Information can be found here: https://www.statsdirect.com/help/nonparametric_methods/kendall_correlation.htm"
   ]
  },
  {
   "cell_type": "code",
   "execution_count": null,
   "id": "3c718aa5-5d9f-45d7-b81b-9a7d125ea40a",
   "metadata": {},
   "outputs": [],
   "source": []
  }
 ],
 "metadata": {
  "kernelspec": {
   "display_name": "Python 3 (ipykernel)",
   "language": "python",
   "name": "python3"
  },
  "language_info": {
   "codemirror_mode": {
    "name": "ipython",
    "version": 3
   },
   "file_extension": ".py",
   "mimetype": "text/x-python",
   "name": "python",
   "nbconvert_exporter": "python",
   "pygments_lexer": "ipython3",
   "version": "3.8.10"
  }
 },
 "nbformat": 4,
 "nbformat_minor": 5
}
